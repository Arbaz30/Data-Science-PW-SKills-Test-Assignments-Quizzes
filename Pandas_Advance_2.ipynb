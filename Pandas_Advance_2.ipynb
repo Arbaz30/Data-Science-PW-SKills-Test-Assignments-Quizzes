{
  "nbformat": 4,
  "nbformat_minor": 0,
  "metadata": {
    "colab": {
      "provenance": []
    },
    "kernelspec": {
      "name": "python3",
      "display_name": "Python 3"
    },
    "language_info": {
      "name": "python"
    }
  },
  "cells": [
    {
      "cell_type": "markdown",
      "source": [
        "Consider following code to answer further questions:\n",
        "import pandas as pd\n",
        "course_name = [‘Data Science’, ‘Machine Learning’, ‘Big Data’, ‘Data Engineer’]\n",
        "duration = [2,3,6,4]\n",
        "df = pd.DataFrame(data = {‘course_name’ : course_name, ‘duration’ : duration})\n"
      ],
      "metadata": {
        "id": "W7TLKq8Keqz4"
      }
    },
    {
      "cell_type": "markdown",
      "source": [
        "**Q1. Write a code to print the data present in the second row of the dataframe ,df.**"
      ],
      "metadata": {
        "id": "K_efbuHleyjV"
      }
    },
    {
      "cell_type": "code",
      "source": [
        "import pandas as pd\n",
        "\n",
        "course_name = ['Data Science', 'Machine Learning', 'Big Data', 'Data Engineer']\n",
        "duration = [2, 3, 6, 4]\n",
        "df = pd.DataFrame(data={'course_name': course_name, 'duration': duration})\n",
        "\n",
        "# Print the data in the second row (index 1)\n",
        "second_row_data = df.iloc[1]\n",
        "print(second_row_data)\n"
      ],
      "metadata": {
        "colab": {
          "base_uri": "https://localhost:8080/"
        },
        "id": "Yeok6O9ze7NR",
        "outputId": "f1ff57fb-67ee-4b69-b2b5-aef1e1398f51"
      },
      "execution_count": 14,
      "outputs": [
        {
          "output_type": "stream",
          "name": "stdout",
          "text": [
            "course_name    Machine Learning\n",
            "duration                      3\n",
            "Name: 1, dtype: object\n"
          ]
        }
      ]
    },
    {
      "cell_type": "markdown",
      "source": [
        "**Q2. What is the difference between the functions loc and iloc in pandas.DataFrame?**"
      ],
      "metadata": {
        "id": "G27QYnb7fQyX"
      }
    },
    {
      "cell_type": "markdown",
      "source": [
        "In Pandas, both `loc` and `iloc` are used for accessing data in a DataFrame, but they have different methods of selection and serve different purposes:\n",
        "\n",
        "1. `loc` (Label-based selection):\n",
        "   - `loc` is used for label-based indexing, meaning you can access data using row and column labels.\n",
        "   - It allows you to specify rows and columns using labels (names or indices).\n",
        "   - The range of values specified by `loc` is inclusive of both the start and end values.\n",
        "   - Example: `df.loc[0:2, 'course_name']` selects rows 0 to 2 (inclusive) from the 'course_name' column using labels.\n",
        "\n",
        "2. `iloc` (Integer-based selection):\n",
        "   - `iloc` is used for integer-based indexing, meaning you access data using integer positions.\n",
        "   - It allows you to specify rows and columns using integer indices (0-based positions).\n",
        "   - The range of values specified by `iloc` is inclusive of the start position but exclusive of the end position.\n",
        "   - Example: `df.iloc[0:3, 1]` selects rows 0 to 2 (exclusive of 3) from the second column using integer positions.\n",
        "\n",
        "In your code example, you created a DataFrame `df`, and you can use `loc` and `iloc` to access and manipulate its data based on labels or integer positions, respectively.\n"
      ],
      "metadata": {
        "id": "zl9Cpgf5fVa5"
      }
    },
    {
      "cell_type": "markdown",
      "source": [
        "Q3. Reindex the given dataframe using a variable, reindex = [3,0,1,2] and store it in the variable, new_df then find the output for both new_df.loc[2] and new_df.iloc[2].\n",
        "\n",
        "Did you observe any difference in both the outputs? If so then explain it.\n",
        "Consider the below code to answer further questions:\n",
        "import pandas as pd\n",
        "import numpy as np\n",
        "columns = ['column_1', 'column_2', 'column_3', 'column_4', 'column_5', 'column_6']\n",
        "indices = [1,2,3,4,5,6]\n",
        "Creating a dataframe:\n",
        "df1 = pd.DataFrame(np.random.rand(6,6), columns = columns, index = indices)"
      ],
      "metadata": {
        "id": "UqT-l4GMfgtH"
      }
    },
    {
      "cell_type": "code",
      "source": [
        "import pandas as pd\n",
        "\n",
        "course_name = ['Data Science', 'Machine Learning', 'Big Data', 'Data Engineer']\n",
        "duration = [2, 3, 6, 4]\n",
        "df = pd.DataFrame(data={'course_name': course_name, 'duration': duration})\n",
        "\n",
        "# Define the reindex order\n",
        "reindex = [3, 0, 1, 2]\n",
        "\n",
        "# Reindex the DataFrame using the 'reindex' variable\n",
        "new_df = df.reindex(reindex)\n",
        "\n",
        "# Access the third row using both loc and iloc\n",
        "row_loc = new_df.loc[2]\n",
        "row_iloc = new_df.iloc[2]\n",
        "\n",
        "print(\"Using loc:\")\n",
        "print(row_loc)\n",
        "\n",
        "print(\"\\nUsing iloc:\")\n",
        "print(row_iloc)\n"
      ],
      "metadata": {
        "colab": {
          "base_uri": "https://localhost:8080/"
        },
        "id": "Mpt_zSijflor",
        "outputId": "e1c6046b-9c6f-466b-fe6c-95eb4cb25051"
      },
      "execution_count": 17,
      "outputs": [
        {
          "output_type": "stream",
          "name": "stdout",
          "text": [
            "Using loc:\n",
            "course_name    Big Data\n",
            "duration              6\n",
            "Name: 2, dtype: object\n",
            "\n",
            "Using iloc:\n",
            "course_name    Machine Learning\n",
            "duration                      3\n",
            "Name: 1, dtype: object\n"
          ]
        }
      ]
    },
    {
      "cell_type": "code",
      "source": [
        "import pandas as pd\n",
        "import numpy as np\n",
        "\n",
        "columns = ['column_1', 'column_2', 'column_3', 'column_4', 'column_5', 'column_6']\n",
        "indices = [1, 2, 3, 4, 5, 6]\n",
        "\n",
        "# Creating a DataFrame with random values\n",
        "df1 = pd.DataFrame(np.random.rand(6, 6), columns=columns, index=indices)\n"
      ],
      "metadata": {
        "id": "5PdBCdregOwr"
      },
      "execution_count": 18,
      "outputs": []
    },
    {
      "cell_type": "markdown",
      "source": [
        "**Q4. Write a code to find the following statistical measurements for the above dataframe df1:**\n",
        "**(i) mean of each and every column present in the dataframe.**\n",
        "**(ii) standard deviation of column, ‘column_2’**"
      ],
      "metadata": {
        "id": "tGVAsilygUYZ"
      }
    },
    {
      "cell_type": "code",
      "source": [
        "import pandas as pd\n",
        "import numpy as np\n",
        "\n",
        "columns = ['column_1', 'column_2', 'column_3', 'column_4', 'column_5', 'column_6']\n",
        "indices = [1, 2, 3, 4, 5, 6]\n",
        "\n",
        "# Creating a DataFrame with random values\n",
        "df1 = pd.DataFrame(np.random.rand(6, 6), columns=columns, index=indices)\n",
        "\n",
        "# Calculate the mean of each column\n",
        "column_means = df1.mean()\n",
        "\n",
        "# Calculate the standard deviation of 'column_2'\n",
        "std_dev_column_2 = df1['column_2'].std()\n",
        "\n",
        "# Print the results\n",
        "print(\"Mean of each column:\")\n",
        "print(column_means)\n",
        "\n",
        "print(\"\\nStandard Deviation of 'column_2':\")\n",
        "print(std_dev_column_2)\n"
      ],
      "metadata": {
        "colab": {
          "base_uri": "https://localhost:8080/"
        },
        "id": "joQFiBTTgckE",
        "outputId": "cb31ce0b-087f-474e-84cc-6e05a9e50389"
      },
      "execution_count": 19,
      "outputs": [
        {
          "output_type": "stream",
          "name": "stdout",
          "text": [
            "Mean of each column:\n",
            "column_1    0.234589\n",
            "column_2    0.490115\n",
            "column_3    0.461335\n",
            "column_4    0.735532\n",
            "column_5    0.699729\n",
            "column_6    0.413115\n",
            "dtype: float64\n",
            "\n",
            "Standard Deviation of 'column_2':\n",
            "0.3200435837426011\n"
          ]
        }
      ]
    },
    {
      "cell_type": "markdown",
      "source": [
        "Q5. Replace the data present in the second row of column, ‘column_2’ by a string variable then find the\n",
        "mean of column, column_2.\n",
        "If you are getting errors in executing it then explain why.\n",
        "[Hint: To replace the data use df1.loc[] and equate this to string data of your choice.]"
      ],
      "metadata": {
        "id": "fQuQEMBWghnS"
      }
    },
    {
      "cell_type": "markdown",
      "source": [
        "Replacing the data in a numerical column like 'column_2' with a string value will lead to an error because Pandas DataFrames are designed to hold data of a specific data type within a column, and mixing data types within the same column is not allowed. When you attempt to calculate the mean of a column that contains mixed data types (numeric and string), Pandas will raise a DataError because it cannot compute the mean of a column with mixed data types."
      ],
      "metadata": {
        "id": "DLwc_s9Lg0Oy"
      }
    },
    {
      "cell_type": "markdown",
      "source": [],
      "metadata": {
        "id": "dOuIq-lyhFRL"
      }
    },
    {
      "cell_type": "markdown",
      "source": [
        "**Q6. What do you understand about the windows function in pandas and list the types of windows functions?**\n",
        "\n",
        "\n",
        "In Pandas, the term \"window functions\" refers to a category of functions used for performing calculations over a specified window or range of rows in a DataFrame. These functions are often used for time series data, as well as other data where calculations need to consider a rolling or expanding window of observations. Window functions can be used to calculate various statistics and aggregations, such as moving averages, cumulative sums, or ranking within a window.\n",
        "\n",
        "Here are some common types of window functions in Pandas:\n",
        "\n",
        "1. **Rolling Functions (rolling()):**\n",
        "   - Rolling functions are used to compute statistics over a fixed-size window or rolling window. The window moves along the data, and for each position of the window, the specified function is applied.\n",
        "   - Common rolling functions include `rolling().mean()`, `rolling().sum()`, and `rolling().std()`, which calculate the rolling mean, rolling sum, and rolling standard deviation, respectively.\n",
        "\n",
        "2. **Expanding Functions (expanding()):**\n",
        "   - Expanding functions compute statistics for all data points from the start of the DataFrame up to the current point, effectively expanding the window with each new observation.\n",
        "   - Common expanding functions include `expanding().mean()`, `expanding().sum()`, and `expanding().std()`, which calculate the cumulative mean, cumulative sum, and cumulative standard deviation, respectively.\n",
        "\n",
        "3. **Exponential Moving Average (ewm()):**\n",
        "   - Exponential moving average functions give more weight to recent data points and are commonly used for smoothing time series data.\n",
        "   - The `ewm()` function with methods like `.mean()` and `.std()` is used to calculate the exponential moving average and standard deviation.\n",
        "\n",
        "4. **Ranking Functions (rank()):**\n",
        "   - Ranking functions assign ranks to elements within a specified window. For example, you can find the rank of each element in a rolling window.\n",
        "   - Common ranking functions include `rolling().rank()` and `expanding().rank()`, which provide the rank within a rolling or expanding window.\n",
        "\n",
        "5. **Other Custom Window Functions:**\n",
        "   - Pandas allows you to define custom window functions using the `apply()` method. This is particularly useful when you need to perform a complex calculation within a rolling or expanding window.\n",
        "\n",
        "Window functions are powerful tools for time series analysis and data manipulation, as they enable you to gain insights into the data's trends, patterns, and variations over time."
      ],
      "metadata": {
        "id": "8oHVlHrgg4Uh"
      }
    },
    {
      "cell_type": "markdown",
      "source": [
        "**Q7. Write a code to print only the current month and year at the time of answering this question.**\n",
        "**[Hint: Use pandas.datetime function]**"
      ],
      "metadata": {
        "id": "i_ifsdTIhGk2"
      }
    },
    {
      "cell_type": "code",
      "source": [
        "import pandas as pd\n",
        "from datetime import datetime\n",
        "\n",
        "# Get the current date and time\n",
        "current_date = datetime.now()\n",
        "\n",
        "# Extract the current month and year\n",
        "current_month = current_date.month\n",
        "current_year = current_date.year\n",
        "\n",
        "# Print the current month and year\n",
        "print(f\"Current Month: {current_month}\")\n",
        "print(f\"Current Year: {current_year}\")\n"
      ],
      "metadata": {
        "colab": {
          "base_uri": "https://localhost:8080/"
        },
        "id": "HTDW1MXWhL7D",
        "outputId": "dc797f21-bb9b-4134-8509-45f1a60064b1"
      },
      "execution_count": 20,
      "outputs": [
        {
          "output_type": "stream",
          "name": "stdout",
          "text": [
            "Current Month: 10\n",
            "Current Year: 2023\n"
          ]
        }
      ]
    },
    {
      "cell_type": "markdown",
      "source": [
        "**Q8. Write a Python program that takes in two dates as input (in the format YYYY-MM-DD) and calculates the difference between them in days, hours, and minutes using Pandas time delta. The program should prompt the user to enter the dates and display the result.**"
      ],
      "metadata": {
        "id": "4yQaqIMjhQxR"
      }
    },
    {
      "cell_type": "code",
      "source": [
        "import pandas as pd\n",
        "\n",
        "# Function to calculate the time difference\n",
        "def calculate_time_difference(date1, date2):\n",
        "    try:\n",
        "        # Parse the input dates as pandas Timestamp objects\n",
        "        timestamp1 = pd.to_datetime(date1)\n",
        "        timestamp2 = pd.to_datetime(date2)\n",
        "\n",
        "        # Calculate the time difference\n",
        "        time_difference = timestamp2 - timestamp1\n",
        "\n",
        "        # Extract days, hours, and minutes from the time difference\n",
        "        days = time_difference.days\n",
        "        hours, remainder = divmod(time_difference.seconds, 3600)\n",
        "        minutes = remainder // 60\n",
        "\n",
        "        return days, hours, minutes\n",
        "    except ValueError:\n",
        "        return None\n",
        "\n",
        "# Input from the user\n",
        "date1 = input(\"Enter the first date (YYYY-MM-DD): \")\n",
        "date2 = input(\"Enter the second date (YYYY-MM-DD): \")\n",
        "\n",
        "# Calculate the time difference\n",
        "result = calculate_time_difference(date1, date2)\n",
        "\n",
        "if result is not None:\n",
        "    days, hours, minutes = result\n",
        "    print(f\"Time difference: {days} days, {hours} hours, {minutes} minutes\")\n",
        "else:\n",
        "    print(\"Invalid date format. Please use YYYY-MM-DD format.\")\n"
      ],
      "metadata": {
        "colab": {
          "base_uri": "https://localhost:8080/"
        },
        "id": "7pXfP2bwhbpm",
        "outputId": "e4a9fd36-e768-448b-8bec-94151c4508db"
      },
      "execution_count": 21,
      "outputs": [
        {
          "output_type": "stream",
          "name": "stdout",
          "text": [
            "Enter the first date (YYYY-MM-DD): 2023-12-11\n",
            "Enter the second date (YYYY-MM-DD): 2022-12-11\n",
            "Time difference: -365 days, 0 hours, 0 minutes\n"
          ]
        }
      ]
    },
    {
      "cell_type": "markdown",
      "source": [
        "**Q9. Write a Python program that reads a CSV file containing categorical data and converts a specified column to a categorical data type. The program should prompt the user to enter the file path, column name, and category order, and then display the sorted data.**"
      ],
      "metadata": {
        "id": "dRqx_Wx-htX3"
      }
    },
    {
      "cell_type": "code",
      "source": [
        "import pandas as pd\n",
        "\n",
        "# Function to convert and sort a specified column as categorical\n",
        "def convert_and_sort_categorical(file_path, column_name, category_order):\n",
        "    try:\n",
        "        # Read the CSV file\n",
        "        df = pd.read_csv(file_path)\n",
        "\n",
        "        # Check if the specified column exists in the DataFrame\n",
        "        if column_name not in df.columns:\n",
        "            print(f\"Column '{column_name}' not found in the CSV file.\")\n",
        "            return\n",
        "\n",
        "        # Convert the specified column to a categorical data type\n",
        "        df[column_name] = pd.Categorical(df[column_name], categories=category_order, ordered=True)\n",
        "\n",
        "        # Sort the DataFrame based on the categorical column\n",
        "        df_sorted = df.sort_values(by=column_name)\n",
        "\n",
        "        return df_sorted\n",
        "    except FileNotFoundError:\n",
        "        print(\"File not found.\")\n",
        "        return None\n",
        "\n",
        "# Input from the user\n",
        "file_path = input(\"Enter the CSV file path: \")\n",
        "column_name = input(\"Enter the column name to convert and sort: \")\n",
        "category_order = input(\"Enter the category order (comma-separated): \").split(',')\n",
        "\n",
        "# Convert and sort the specified column as categorical\n",
        "sorted_df = convert_and_sort_categorical(file_path, column_name, category_order)\n",
        "\n",
        "if sorted_df is not None:\n",
        "    print(\"Sorted Data:\")\n",
        "    print(sorted_df)\n"
      ],
      "metadata": {
        "id": "8ku6KgfWh5kz"
      },
      "execution_count": null,
      "outputs": []
    },
    {
      "cell_type": "markdown",
      "source": [
        "**Q10. Write a Python program that reads a CSV file containing sales data for different products and visualizes the data using a stacked bar chart to show the sales of each product category over time. The program should prompt the user to enter the file path and display the chart.**"
      ],
      "metadata": {
        "id": "PpKWGE1th_Sk"
      }
    },
    {
      "cell_type": "code",
      "source": [
        "import pandas as pd\n",
        "import matplotlib.pyplot as plt\n",
        "\n",
        "# Function to read CSV, prepare data, and plot a stacked bar chart\n",
        "def visualize_sales_data(file_path):\n",
        "    try:\n",
        "        # Read the CSV file\n",
        "        df = pd.read_csv(file_path)\n",
        "\n",
        "        # Check if the required columns are present in the DataFrame\n",
        "        if 'Date' not in df.columns or 'Product' not in df.columns or 'Sales' not in df.columns:\n",
        "            print(\"The CSV file must have 'Date,' 'Product,' and 'Sales' columns.\")\n",
        "            return\n",
        "\n",
        "        # Convert the 'Date' column to a datetime data type\n",
        "        df['Date'] = pd.to_datetime(df['Date'])\n",
        "\n",
        "        # Pivot the data to create a DataFrame suitable for a stacked bar chart\n",
        "        pivot_df = df.pivot_table(index='Date', columns='Product', values='Sales', aggfunc='sum', fill_value=0)\n",
        "\n",
        "        # Plot a stacked bar chart\n",
        "        pivot_df.plot(kind='bar', stacked=True, figsize=(10, 6))\n",
        "        plt.title(\"Stacked Bar Chart of Sales Over Time\")\n",
        "        plt.xlabel(\"Date\")\n",
        "        plt.ylabel(\"Sales\")\n",
        "        plt.legend(title='Product')\n",
        "\n",
        "        # Show the chart\n",
        "        plt.show()\n",
        "    except FileNotFoundError:\n",
        "        print(\"File not found.\")\n",
        "\n",
        "# Input from the user\n",
        "file_path = input(\"Enter the CSV file path: \")\n",
        "\n",
        "# Visualize the sales data using a stacked bar chart\n",
        "visualize_sales_data(file_path)\n"
      ],
      "metadata": {
        "id": "EeP6puJtiK_n"
      },
      "execution_count": null,
      "outputs": []
    },
    {
      "cell_type": "markdown",
      "source": [
        "Q11. You are given a CSV file containing student data that includes the student ID and their test score. Write\n",
        "a Python program that reads the CSV file, calculates the mean, median, and mode of the test scores, and\n",
        "displays the results in a table.\n",
        "The program should do the followingM\n",
        "I Prompt the user to enter the file path of the CSV file containing the student dataR\n",
        "I Read the CSV file into a Pandas DataFrameR\n",
        "I Calculate the mean, median, and mode of the test scores using Pandas toolsR\n",
        "I Display the mean, median, and mode in a table.\n",
        "Assume the CSV file contains the following columnsM\n",
        "I Student ID: The ID of the studentR\n",
        "I Test Score: The score of the student's test.\n",
        "Example usage of the program:\n",
        "Enter the file path of the CSV file containing the student data: student_data.csv\n",
        "+-----------+--------+\n",
        "| Statistic | Value |\n",
        "+-----------+--------+\n",
        "| Mean | 79.6 |\n",
        "| Median | 82 |\n",
        "| Mode | 85, 90 |\n",
        "+-----------+--------+\n",
        "Assume that the CSV file student_data.csv contains the following data:\n",
        "Student ID,Test Score\n",
        "1,85\n",
        "2,90\n",
        "3,80\n",
        "4,75\n",
        "5,85\n",
        "6,82\n",
        "7,78\n",
        "8,85\n",
        "9,90\n",
        "10,85\n",
        "The program should calculate the mean, median, and mode of the test scores and display the results\n",
        "in a table."
      ],
      "metadata": {
        "id": "GVDJr_heiP7L"
      }
    },
    {
      "cell_type": "code",
      "source": [
        "import pandas as pd\n",
        "from statistics import median, mode\n",
        "\n",
        "# Function to calculate the mean, median, and mode of test scores\n",
        "def calculate_statistics(file_path):\n",
        "    try:\n",
        "        # Read the CSV file into a Pandas DataFrame\n",
        "        df = pd.read_csv(file_path)\n",
        "\n",
        "        # Calculate the mean, median, and mode\n",
        "        mean_score = df['Test Score'].mean()\n",
        "        median_score = median(df['Test Score'])\n",
        "        mode_scores = mode(df['Test Score'])\n",
        "\n",
        "        return mean_score, median_score, mode_scores\n",
        "    except FileNotFoundError:\n",
        "        return None\n",
        "\n",
        "# Input from the user\n",
        "file_path = input(\"Enter the file path of the CSV file containing student data: \")\n",
        "\n",
        "# Calculate the statistics\n",
        "statistics = calculate_statistics(file_path)\n",
        "\n",
        "if statistics is not None:\n",
        "    mean_score, median_score, mode_scores = statistics\n",
        "\n",
        "    # Display the results in a table\n",
        "    print(\"+-----------+--------+\")\n",
        "    print(\"| Statistic | Value  |\")\n",
        "    print(\"+-----------+--------+\")\n",
        "    print(f\"| Mean      | {mean_score:.2f} |\")\n",
        "    print(f\"| Median    | {median_score}   |\")\n",
        "    print(f\"| Mode      | {', '.join(map(str, mode_scores))} |\")\n",
        "    print(\"+-----------+--------+\")\n",
        "else:\n",
        "    print(\"File not found or incorrect format.\")\n"
      ],
      "metadata": {
        "id": "ngU4py-_icex"
      },
      "execution_count": null,
      "outputs": []
    }
  ]
}