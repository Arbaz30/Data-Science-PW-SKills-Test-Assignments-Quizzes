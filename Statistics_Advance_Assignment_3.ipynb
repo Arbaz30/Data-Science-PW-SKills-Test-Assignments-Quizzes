{
  "nbformat": 4,
  "nbformat_minor": 0,
  "metadata": {
    "colab": {
      "provenance": []
    },
    "kernelspec": {
      "name": "python3",
      "display_name": "Python 3"
    },
    "language_info": {
      "name": "python"
    }
  },
  "cells": [
    {
      "cell_type": "markdown",
      "source": [
        "**Q1: What is Estimation Statistics? Explain point estimate and interval estimate.**"
      ],
      "metadata": {
        "id": "Fdi7T5o-23wR"
      }
    },
    {
      "cell_type": "markdown",
      "source": [
        "Estimation statistics is a branch of statistics that focuses on making educated guesses or inferences about population parameters based on sample data. When working with estimation, we often deal with two key concepts: point estimates and interval estimates.\n",
        "\n",
        "1. Point Estimate:\n",
        "A point estimate is a single numerical value that is used to estimate an unknown population parameter. It provides a \"best guess\" or \"point\" value for the parameter based on the sample data. For example, if you want to estimate the average income of a population, you might take a sample and calculate the sample mean as your point estimate for the population's mean income. Point estimates are useful for providing a simple and straightforward summary of your data, but they don't convey the uncertainty associated with the estimate.\n",
        "\n",
        "2. Interval Estimate:\n",
        "Interval estimates are more informative and capture the uncertainty associated with estimating a population parameter. An interval estimate provides a range or interval of values within which we believe the population parameter is likely to fall. This range is accompanied by a level of confidence or probability. Commonly used interval estimates are confidence intervals and prediction intervals:\n",
        "\n",
        "   - Confidence Interval: A confidence interval provides a range of values for a population parameter, such as a mean or proportion, along with a level of confidence, typically expressed as a percentage. For example, you might calculate a 95% confidence interval for the average income, which indicates that you are 95% confident that the true population mean income falls within this interval. The wider the interval, the higher the confidence level.\n",
        "\n",
        "   - Prediction Interval: A prediction interval is used when you want to estimate a specific individual value from the population, not just the population mean. It gives a range of values within which a future observation is expected to fall. The prediction interval is usually wider than a confidence interval because it accounts for both the uncertainty in estimating the population parameter and the variability of individual observations.\n",
        "\n",
        "In summary, estimation statistics involves using both point estimates and interval estimates to make inferences about population parameters based on sample data. Point estimates provide a single value estimate, while interval estimates provide a range of values with a specified level of confidence or prediction for the parameter of interest."
      ],
      "metadata": {
        "id": "yWXVA7qo29F5"
      }
    },
    {
      "cell_type": "markdown",
      "source": [
        "**Q2. Write a Python function to estimate the population mean using a sample mean and standard deviation.**"
      ],
      "metadata": {
        "id": "g-5KX09M3Aq6"
      }
    },
    {
      "cell_type": "code",
      "source": [
        "import math\n",
        "\n",
        "def estimate_population_mean(sample_mean, sample_std_dev, sample_size, confidence_level):\n",
        "    \"\"\"\n",
        "    Estimate the population mean using a sample mean and standard deviation.\n",
        "\n",
        "    Args:\n",
        "    sample_mean (float): The sample mean.\n",
        "    sample_std_dev (float): The sample standard deviation.\n",
        "    sample_size (int): The sample size.\n",
        "    confidence_level (float): The desired confidence level (e.g., 0.95 for a 95% confidence interval).\n",
        "\n",
        "    Returns:\n",
        "    tuple: A tuple containing the lower and upper bounds of the confidence interval.\n",
        "    \"\"\"\n",
        "    # Calculate the Z-score for the desired confidence level (two-tailed)\n",
        "    z_score = abs(1 - confidence_level) / 2  # Half the area in the tails\n",
        "\n",
        "    # Lookup the critical Z-value for the Z-score (e.g., from a Z-table or using a library)\n",
        "    # For a 95% confidence interval (alpha = 0.05), Z-score is approximately 1.96.\n",
        "    # You can adjust this value based on your confidence level and distribution (e.g., normal or t-distribution).\n",
        "    # For a large sample size, the normal distribution is often appropriate.\n",
        "    critical_z = 1.96  # 95% confidence level\n",
        "\n",
        "    # Calculate the margin of error\n",
        "    margin_of_error = critical_z * (sample_std_dev / math.sqrt(sample_size))\n",
        "\n",
        "    # Calculate the lower and upper bounds of the confidence interval\n",
        "    lower_bound = sample_mean - margin_of_error\n",
        "    upper_bound = sample_mean + margin_of_error\n",
        "\n",
        "    return lower_bound, upper_bound\n",
        "\n",
        "# Example usage:\n",
        "sample_mean = 50  # Sample mean\n",
        "sample_std_dev = 10  # Sample standard deviation\n",
        "sample_size = 100  # Sample size\n",
        "confidence_level = 0.95  # 95% confidence interval\n",
        "\n",
        "lower, upper = estimate_population_mean(sample_mean, sample_std_dev, sample_size, confidence_level)\n",
        "print(f\"Estimated population mean: {sample_mean} with a {confidence_level * 100}% confidence interval: ({lower}, {upper})\")\n"
      ],
      "metadata": {
        "colab": {
          "base_uri": "https://localhost:8080/"
        },
        "id": "FaeyGX6t3I4u",
        "outputId": "ddb3fafc-5231-4251-da8f-1867ab4c21d5"
      },
      "execution_count": 1,
      "outputs": [
        {
          "output_type": "stream",
          "name": "stdout",
          "text": [
            "Estimated population mean: 50 with a 95.0% confidence interval: (48.04, 51.96)\n"
          ]
        }
      ]
    },
    {
      "cell_type": "markdown",
      "source": [
        "**Q3: What is Hypothesis testing? Why is it used? State the importance of Hypothesis testing.**"
      ],
      "metadata": {
        "id": "sJ2AmKY93OpP"
      }
    },
    {
      "cell_type": "markdown",
      "source": [
        "**Hypothesis testing** is a fundamental statistical technique used to make inferences about a population parameter based on a sample of data. It involves the formulation of two competing hypotheses, the null hypothesis (H0) and the alternative hypothesis (Ha), and then using sample data to determine whether there is enough evidence to reject the null hypothesis in favor of the alternative hypothesis.\n",
        "\n",
        "Here's a breakdown of the steps involved in hypothesis testing:\n",
        "\n",
        "1. **Formulate Hypotheses**:\n",
        "   - **Null Hypothesis (H0)**: This is the default assumption or statement that there is no significant effect or difference. It represents the status quo or the absence of an effect. For example, H0 might state that there is no difference in the mean test scores between two groups.\n",
        "   - **Alternative Hypothesis (Ha)**: This is the statement that contradicts the null hypothesis and suggests the presence of a significant effect, difference, or relationship. For example, Ha might state that there is a difference in the mean test scores between two groups.\n",
        "\n",
        "2. **Collect Data**: Gather data through sampling or experimentation.\n",
        "\n",
        "3. **Select a Significance Level (α)**: This is the threshold for determining statistical significance. Common values for α include 0.05 (5%) or 0.01 (1%).\n",
        "\n",
        "4. **Perform Statistical Test**: Calculate a test statistic (e.g., t-test, chi-squared test, ANOVA) based on the sample data and the chosen test method.\n",
        "\n",
        "5. **Determine P-Value**: The p-value is the probability of observing a test statistic as extreme as, or more extreme than, what was observed, assuming that the null hypothesis is true. A smaller p-value indicates stronger evidence against the null hypothesis.\n",
        "\n",
        "6. **Compare P-Value to Significance Level**: If the p-value is less than or equal to the significance level (α), you reject the null hypothesis in favor of the alternative hypothesis. If the p-value is greater than α, you fail to reject the null hypothesis.\n",
        "\n",
        "Hypothesis testing is used for several important reasons:\n",
        "\n",
        "1. **Scientific Inquiry**: Hypothesis testing is fundamental to the scientific method. It allows researchers to make data-driven decisions about the validity of their hypotheses and theories.\n",
        "\n",
        "2. **Inference**: It provides a systematic and rigorous way to make inferences about population parameters based on sample data.\n",
        "\n",
        "3. **Decision Making**: It helps in decision-making processes, such as determining whether a new drug is effective, whether changes in a manufacturing process are beneficial, or whether there is a significant difference between groups.\n",
        "\n",
        "4. **Quality Control**: It is vital in quality control processes to ensure that products or services meet specific standards and specifications.\n",
        "\n",
        "5. **Risk Assessment**: It helps in assessing and managing risks, such as determining whether a financial investment is likely to yield returns or whether a safety procedure is effective.\n",
        "\n",
        "6. **Statistical Significance**: It provides a way to differentiate between random variation and meaningful effects in data, which is critical in research and policy decisions.\n",
        "\n",
        "7. **Legal and Regulatory Compliance**: In some industries, hypothesis testing is used to ensure compliance with legal and regulatory requirements.\n",
        "\n",
        "In summary, hypothesis testing is a powerful tool for drawing conclusions from data and making informed decisions. It plays a crucial role in scientific research, quality assurance, decision-making, and many other areas by providing a structured framework to assess the evidence for or against a particular hypothesis."
      ],
      "metadata": {
        "id": "7HMvvwHL3P79"
      }
    },
    {
      "cell_type": "markdown",
      "source": [
        "**Q4. Create a hypothesis that states whether the average weight of male college students is greater than the average weight of female college students.**"
      ],
      "metadata": {
        "id": "QWm8Q7qd4c2q"
      }
    },
    {
      "cell_type": "markdown",
      "source": [
        "Certainly, you can create a hypothesis to test whether the average weight of male college students is greater than the average weight of female college students.\n",
        "\n",
        "**Null Hypothesis (H0):** The average weight of male college students is equal to or less than the average weight of female college students.\n",
        "\n",
        "**Alternative Hypothesis (Ha):** The average weight of male college students is greater than the average weight of female college students.\n",
        "\n",
        "In statistical notation:\n",
        "\n",
        "- H0: μ_male ≤ μ_female\n",
        "- Ha: μ_male > μ_female\n",
        "\n",
        "Where:\n",
        "- H0 represents the null hypothesis.\n",
        "- Ha represents the alternative hypothesis.\n",
        "- μ_male is the population mean weight of male college students.\n",
        "- μ_female is the population mean weight of female college students.\n",
        "\n",
        "You would collect data on the weights of male and female college students and perform a statistical test (e.g., a one-sample or two-sample t-test) to determine whether there is enough evidence to reject the null hypothesis in favor of the alternative hypothesis. If the test results provide sufficient evidence that the average weight of male college students is greater, you would reject the null hypothesis."
      ],
      "metadata": {
        "id": "6JMWK2i54j3-"
      }
    },
    {
      "cell_type": "markdown",
      "source": [
        "**Q5. Write a Python script to conduct a hypothesis test on the difference between two population means, given a sample from each population.**"
      ],
      "metadata": {
        "id": "ex_gxaG44okJ"
      }
    },
    {
      "cell_type": "code",
      "source": [
        "import numpy as np\n",
        "from scipy import stats\n",
        "\n",
        "# Generate sample data for two populations (replace with your data)\n",
        "sample1 = np.array([82, 86, 78, 92, 75, 89, 91, 72, 80, 85])\n",
        "sample2 = np.array([75, 79, 88, 68, 92, 84, 76, 90, 81, 87])\n",
        "\n",
        "# Define the significance level (alpha)\n",
        "alpha = 0.05\n",
        "\n",
        "# Perform a two-sample t-test\n",
        "t_stat, p_value = stats.ttest_ind(sample1, sample2)\n",
        "\n",
        "# Determine whether to reject the null hypothesis\n",
        "if p_value < alpha:\n",
        "    print(\"Reject the null hypothesis\")\n",
        "    print(\"There is enough evidence to suggest a significant difference between the two population means.\")\n",
        "else:\n",
        "    print(\"Fail to reject the null hypothesis\")\n",
        "    print(\"There is not enough evidence to suggest a significant difference between the two population means.\")\n",
        "\n",
        "# Display the test results\n",
        "print(\"t-statistic:\", t_stat)\n",
        "print(\"p-value:\", p_value)\n"
      ],
      "metadata": {
        "colab": {
          "base_uri": "https://localhost:8080/"
        },
        "id": "Bcrmst1f418A",
        "outputId": "b9371a23-2da9-4313-8adb-2f348c5daddc"
      },
      "execution_count": 2,
      "outputs": [
        {
          "output_type": "stream",
          "name": "stdout",
          "text": [
            "Fail to reject the null hypothesis\n",
            "There is not enough evidence to suggest a significant difference between the two population means.\n",
            "t-statistic: 0.3104186576877834\n",
            "p-value: 0.7598081914355065\n"
          ]
        }
      ]
    },
    {
      "cell_type": "markdown",
      "source": [
        "**Q6: What is a null and alternative hypothesis? Give some examples.**"
      ],
      "metadata": {
        "id": "llfw12Tu48rP"
      }
    },
    {
      "cell_type": "markdown",
      "source": [
        "**Null Hypothesis (H0):** The null hypothesis is a statement that there is no significant difference, effect, or relationship in the population. It represents the default or status quo assumption. In hypothesis testing, you typically start by assuming the null hypothesis is true and aim to collect evidence to either reject or fail to reject it.\n",
        "\n",
        "**Alternative Hypothesis (Ha):** The alternative hypothesis is a statement that contradicts the null hypothesis. It suggests that there is a significant difference, effect, or relationship in the population. In other words, it represents the claim or hypothesis that you're testing. The alternative hypothesis is what you're trying to provide evidence for.\n",
        "\n",
        "Here are some examples of null and alternative hypotheses:\n",
        "\n",
        "1. **Example - A New Drug's Effectiveness:**\n",
        "   - Null Hypothesis (H0): The new drug has no significant effect on reducing blood pressure.\n",
        "   - Alternative Hypothesis (Ha): The new drug has a significant effect on reducing blood pressure.\n",
        "\n",
        "2. **Example - A/B Testing for Website Conversion Rates:**\n",
        "   - Null Hypothesis (H0): There is no significant difference in conversion rates between the current website design (A) and the new design (B).\n",
        "   - Alternative Hypothesis (Ha): There is a significant difference in conversion rates between the current website design (A) and the new design (B).\n",
        "\n",
        "3. **Example - Gender and Salary:**\n",
        "   - Null Hypothesis (H0): Gender has no significant impact on salary.\n",
        "   - Alternative Hypothesis (Ha): Gender has a significant impact on salary.\n",
        "\n",
        "4. **Example - Education Level and Job Performance:**\n",
        "   - Null Hypothesis (H0): There is no significant relationship between education level and job performance.\n",
        "   - Alternative Hypothesis (Ha): There is a significant relationship between education level and job performance.\n",
        "\n",
        "5. **Example - Manufacturing Process Improvement:**\n",
        "   - Null Hypothesis (H0): The new manufacturing process does not lead to a significant reduction in defect rates.\n",
        "   - Alternative Hypothesis (Ha): The new manufacturing process leads to a significant reduction in defect rates.\n",
        "\n",
        "6. **Example - Coin Tossing:**\n",
        "   - Null Hypothesis (H0): A fair coin does not favor heads or tails.\n",
        "   - Alternative Hypothesis (Ha): A fair coin favors either heads or tails.\n",
        "\n",
        "7. **Example - Climate Change Impact:**\n",
        "   - Null Hypothesis (H0): Human activities do not significantly contribute to climate change.\n",
        "   - Alternative Hypothesis (Ha): Human activities significantly contribute to climate change.\n",
        "\n",
        "In all these examples, the null hypothesis represents the absence of a specific effect or relationship, while the alternative hypothesis represents the presence of that effect or relationship. Hypothesis testing aims to assess the evidence provided by sample data to decide whether to reject the null hypothesis in favor of the alternative hypothesis or not. The choice of null and alternative hypotheses is crucial for designing and interpreting hypothesis tests correctly."
      ],
      "metadata": {
        "id": "3N-DWjy65AK6"
      }
    },
    {
      "cell_type": "markdown",
      "source": [
        "**Q7: Write down the steps involved in hypothesis testing.**"
      ],
      "metadata": {
        "id": "omdSryEB5NIL"
      }
    },
    {
      "cell_type": "markdown",
      "source": [
        "Hypothesis testing involves a structured set of steps to determine whether there is enough evidence to reject the null hypothesis in favor of the alternative hypothesis. Here are the key steps involved in hypothesis testing:\n",
        "\n",
        "1. **Formulate Hypotheses**:\n",
        "   - **Null Hypothesis (H0)**: The null hypothesis is the default assumption, stating that there is no significant effect, difference, or relationship in the population.\n",
        "   - **Alternative Hypothesis (Ha)**: The alternative hypothesis contradicts the null hypothesis, suggesting that there is a significant effect, difference, or relationship.\n",
        "\n",
        "2. **Select Significance Level (α)**:\n",
        "   - Choose a significance level, denoted as α, which represents the probability of making a Type I error (rejecting the null hypothesis when it is true). Common values for α include 0.05 (5%) or 0.01 (1%).\n",
        "\n",
        "3. **Collect Data**:\n",
        "   - Gather data through sampling or experimentation.\n",
        "\n",
        "4. **Choose a Statistical Test**:\n",
        "   - Select an appropriate statistical test based on the type of data and the research question. Common tests include t-tests, chi-squared tests, ANOVA, correlation analysis, and regression analysis.\n",
        "\n",
        "5. **Compute the Test Statistic**:\n",
        "   - Calculate the test statistic based on the sample data and the chosen statistical test.\n",
        "\n",
        "6. **Determine the Critical Region**:\n",
        "   - Define the critical region in the distribution of the test statistic. This represents the values of the test statistic that would lead to the rejection of the null hypothesis.\n",
        "\n",
        "7. **Calculate the P-Value**:\n",
        "   - Calculate the p-value, which is the probability of observing a test statistic as extreme as, or more extreme than, what was observed, assuming the null hypothesis is true.\n",
        "\n",
        "8. **Compare P-Value to Significance Level (α)**:\n",
        "   - If the p-value is less than or equal to α, you reject the null hypothesis. This indicates that there is enough evidence to suggest a significant effect or difference.\n",
        "   - If the p-value is greater than α, you fail to reject the null hypothesis. This suggests that there is not enough evidence to support the alternative hypothesis.\n",
        "\n",
        "9. **Draw a Conclusion**:\n",
        "   - Based on the comparison of the p-value and the chosen significance level, draw a conclusion about the null hypothesis. If you reject the null hypothesis, you provide evidence in support of the alternative hypothesis. If you fail to reject the null hypothesis, you do not have sufficient evidence to support the alternative hypothesis.\n",
        "\n",
        "10. **Interpret the Results**:\n",
        "    - Explain the implications of your findings in the context of your research question or problem. Discuss the practical significance of the results, if applicable.\n",
        "\n",
        "11. **Report the Findings**:\n",
        "    - Document and communicate the results, including the test statistic, p-value, conclusion, and any relevant effect sizes or confidence intervals.\n",
        "\n",
        "Hypothesis testing is a fundamental tool in statistics and research for making data-driven decisions, drawing inferences about population parameters, and assessing the significance of relationships or effects in data."
      ],
      "metadata": {
        "id": "Aa0NLwVE5RMq"
      }
    },
    {
      "cell_type": "markdown",
      "source": [
        "**Q8. Define p-value and explain its significance in hypothesis testing.**"
      ],
      "metadata": {
        "id": "qG4QMXKz5YBm"
      }
    },
    {
      "cell_type": "markdown",
      "source": [
        "**P-value** (probability value) is a crucial statistical concept used in hypothesis testing. It quantifies the evidence against the null hypothesis and provides a measure of the strength of that evidence. Here's a definition and an explanation of its significance in hypothesis testing:\n",
        "\n",
        "**Definition of P-value**:\n",
        "The p-value is the probability of observing a test statistic as extreme as, or more extreme than, the one computed from the sample data, assuming that the null hypothesis is true. In simpler terms, it represents the likelihood of obtaining the observed results if the null hypothesis were correct.\n",
        "\n",
        "**Significance of P-value in Hypothesis Testing**:\n",
        "\n",
        "1. **Decision Criterion**:\n",
        "   - The p-value serves as a decision criterion in hypothesis testing. If the p-value is small (typically less than the chosen significance level, α), it indicates that the observed results are unlikely to have occurred by chance alone if the null hypothesis is true. In such cases, you may reject the null hypothesis.\n",
        "\n",
        "2. **Quantification of Evidence**:\n",
        "   - A smaller p-value suggests stronger evidence against the null hypothesis. The smaller the p-value, the more confident you are in rejecting the null hypothesis in favor of the alternative hypothesis.\n",
        "\n",
        "3. **Alpha (α) Comparison**:\n",
        "   - By comparing the p-value to the pre-specified significance level (α), you can make a decision. If p ≤ α, you reject the null hypothesis; if p > α, you fail to reject the null hypothesis. Common values for α are 0.05 (5%) and 0.01 (1%), but you can choose different levels based on the context and the desired level of confidence.\n",
        "\n",
        "4. **Interpretation**:\n",
        "   - When the p-value is small, it suggests that the data provides strong evidence against the null hypothesis, supporting the conclusion that there is a significant effect, difference, or relationship. Conversely, a large p-value indicates that the data is consistent with the null hypothesis, implying a lack of significant evidence for the alternative hypothesis.\n",
        "\n",
        "5. **Continuous Scale**:\n",
        "   - The p-value provides a continuous scale for evaluating evidence. It's not limited to a binary \"reject\" or \"fail to reject\" decision. Researchers can use the p-value to assess the degree of evidence against the null hypothesis, which can be valuable for making nuanced decisions.\n",
        "\n",
        "6. **Caution**:\n",
        "   - It's important to note that a small p-value does not prove the truth of the alternative hypothesis or the practical significance of an effect; it only suggests that the evidence against the null hypothesis is strong. Other factors, such as effect size, sample size, and study design, should also be considered in the interpretation of results.\n",
        "\n",
        "In summary, the p-value is a critical tool in hypothesis testing that helps researchers assess the evidence provided by sample data. It allows for informed decisions about whether to reject the null hypothesis in favor of the alternative hypothesis, based on the strength of evidence against the null hypothesis."
      ],
      "metadata": {
        "id": "SgoQUKAz5ezM"
      }
    },
    {
      "cell_type": "markdown",
      "source": [
        "**Q9. Generate a Student's t-distribution plot using Python's matplotlib library, with the degrees of freedom parameter set to 10.**"
      ],
      "metadata": {
        "id": "zd94AfwU5hWu"
      }
    },
    {
      "cell_type": "code",
      "source": [
        "import numpy as np\n",
        "import matplotlib.pyplot as plt\n",
        "from scipy.stats import t\n",
        "\n",
        "# Degrees of freedom\n",
        "df = 10\n",
        "\n",
        "# Define a range of x values\n",
        "x = np.linspace(-4, 4, 1000)\n",
        "\n",
        "# Calculate the probability density function (PDF) values for the t-distribution\n",
        "pdf = t.pdf(x, df)\n",
        "\n",
        "# Create a Matplotlib figure and axis\n",
        "plt.figure(figsize=(8, 6))\n",
        "plt.title(f\"Student's t-Distribution (df = {df})\")\n",
        "plt.xlabel(\"x\")\n",
        "plt.ylabel(\"PDF\")\n",
        "\n",
        "# Plot the t-distribution\n",
        "plt.plot(x, pdf, label=f'df = {df}')\n",
        "\n",
        "# Add a legend\n",
        "plt.legend()\n",
        "\n",
        "# Show the plot\n",
        "plt.grid()\n",
        "plt.show()\n"
      ],
      "metadata": {
        "colab": {
          "base_uri": "https://localhost:8080/",
          "height": 564
        },
        "id": "3yrSi9md5sGo",
        "outputId": "7913a321-ab60-4337-da12-7fbb66e43528"
      },
      "execution_count": 3,
      "outputs": [
        {
          "output_type": "display_data",
          "data": {
            "text/plain": [
              "<Figure size 800x600 with 1 Axes>"
            ],
            "image/png": "[encoded data removed]"
          },
          "metadata": {}
        }
      ]
    },
    {
      "cell_type": "markdown",
      "source": [
        "**Q10. Write a Python program to calculate the two-sample t-test for independent samples, given two random samples of equal size and a null hypothesis that the population means are equal.**"
      ],
      "metadata": {
        "id": "pN5oNjys5u8i"
      }
    },
    {
      "cell_type": "code",
      "source": [
        "import numpy as np\n",
        "from scipy import stats\n",
        "\n",
        "# Generate two random samples (replace with your data)\n",
        "sample1 = np.random.normal(loc=50, scale=10, size=50)\n",
        "sample2 = np.random.normal(loc=55, scale=12, size=50)\n",
        "\n",
        "# Perform a two-sample t-test for independent samples\n",
        "t_stat, p_value = stats.ttest_ind(sample1, sample2)\n",
        "\n",
        "# Set the significance level (alpha)\n",
        "alpha = 0.05\n",
        "\n",
        "# Compare the p-value to the significance level\n",
        "if p_value < alpha:\n",
        "    print(\"Reject the null hypothesis\")\n",
        "    print(\"There is enough evidence to suggest that the population means are not equal.\")\n",
        "else:\n",
        "    print(\"Fail to reject the null hypothesis\")\n",
        "    print(\"There is not enough evidence to suggest that the population means are different.\")\n",
        "\n",
        "# Display the test results\n",
        "print(\"t-statistic:\", t_stat)\n",
        "print(\"p-value:\", p_value)\n"
      ],
      "metadata": {
        "colab": {
          "base_uri": "https://localhost:8080/"
        },
        "id": "TbRa5b3j56ig",
        "outputId": "cc3d1bd6-7af8-444a-8fc0-f3ab8b75fa2d"
      },
      "execution_count": 4,
      "outputs": [
        {
          "output_type": "stream",
          "name": "stdout",
          "text": [
            "Fail to reject the null hypothesis\n",
            "There is not enough evidence to suggest that the population means are different.\n",
            "t-statistic: -1.7446022324285566\n",
            "p-value: 0.08418918835450387\n"
          ]
        }
      ]
    },
    {
      "cell_type": "markdown",
      "source": [
        "**Q11: What is Student’s t distribution? When to use the t-Distribution.**"
      ],
      "metadata": {
        "id": "Hp-5T4Vm6YU7"
      }
    },
    {
      "cell_type": "markdown",
      "source": [
        "Student's t-distribution, often referred to simply as the t-distribution, is a probability distribution that is similar in shape to the normal distribution but has heavier tails. It is used in statistical inference for estimating population parameters and testing hypotheses. The t-distribution is characterized by its degrees of freedom, denoted as \"df,\" and its probability density function (PDF) takes the following form:\n",
        "\n",
        "\\[f(t) = \\frac{\\Gamma\\left(\\frac{df+1}{2}\\right)}{\\sqrt{df\\pi}\\,\\Gamma\\left(\\frac{df}{2}\\right)} \\left(1 + \\frac{t^2}{df}\\right)^{-\\frac{df+1}{2}}\\]\n",
        "\n",
        "Here's when and why the t-distribution is used:\n",
        "\n",
        "1. **Small Sample Sizes**:\n",
        "   - The t-distribution is particularly useful when dealing with small sample sizes (typically n < 30). In such cases, the t-distribution provides a better approximation of the sampling distribution of the sample mean compared to the normal distribution.\n",
        "\n",
        "2. **Unknown Population Variance**:\n",
        "   - When you don't know the population standard deviation (σ) and need to estimate it from the sample standard deviation (s), you use the t-distribution in place of the normal distribution. This is common in real-world applications where population parameters are unknown.\n",
        "\n",
        "3. **Hypothesis Testing**:\n",
        "   - The t-distribution is widely used in hypothesis testing, especially for comparing sample means. For example, when comparing the means of two samples (independent or paired) or when testing if a sample mean is significantly different from a hypothesized population mean.\n",
        "\n",
        "4. **Confidence Intervals**:\n",
        "   - When constructing confidence intervals for population parameters, such as the mean, using sample data. Confidence intervals based on the t-distribution take into account the uncertainty associated with estimating the population parameter from a sample.\n",
        "\n",
        "5. **Real-world Data**:\n",
        "   - In many real-world scenarios, data does not perfectly follow a normal distribution, and sample sizes are often small. The t-distribution is a more robust choice under these conditions.\n",
        "\n",
        "6. **Accounting for Variability**:\n",
        "   - The t-distribution is less sensitive to outliers and extreme values compared to the normal distribution, making it a safer choice when dealing with data that may have outliers.\n",
        "\n",
        "In summary, the t-distribution is used in situations where sample sizes are small, population parameters are unknown, and you want to make inferences about population means or construct confidence intervals. It is a valuable tool in statistical analysis, particularly when working with real-world data that doesn't always adhere to idealized conditions. The shape of the t-distribution depends on the degrees of freedom, with a larger number of degrees of freedom making it increasingly similar to the normal distribution."
      ],
      "metadata": {
        "id": "xs1mi7O96ab9"
      }
    },
    {
      "cell_type": "markdown",
      "source": [
        "**Q12: What is t-statistic? State the formula for t-statistic.**"
      ],
      "metadata": {
        "id": "7u6GiCBj6cmA"
      }
    },
    {
      "cell_type": "markdown",
      "source": [
        "The t-statistic (also known as the Student's t-statistic) is a statistical measure that quantifies the difference between a sample statistic and a population parameter, while accounting for the uncertainty associated with estimating the population parameter from a sample. It is commonly used in hypothesis testing and constructing confidence intervals.\n",
        "\n",
        "The formula for the t-statistic depends on the specific hypothesis test or confidence interval being conducted. However, the general formula for the t-statistic when comparing a sample mean to a population mean is as follows:\n",
        "\n",
        "\\[t = \\frac{\\bar{X} - \\mu}{s/\\sqrt{n}}\\]\n",
        "\n",
        "Where:\n",
        "- \\(t\\) is the t-statistic.\n",
        "- \\(\\bar{X}\\) is the sample mean.\n",
        "- \\(\\mu\\) is the population mean under the null hypothesis.\n",
        "- \\(s\\) is the sample standard deviation.\n",
        "- \\(n\\) is the sample size.\n",
        "\n",
        "Here's what each component of the formula represents:\n",
        "\n",
        "- The numerator (\\(\\bar{X} - \\mu\\)) measures the difference between the sample mean (\\(\\bar{X}\\)) and the hypothesized population mean (\\(\\mu\\)).\n",
        "\n",
        "- The denominator (\\(s/\\sqrt{n}\\)) standardizes this difference by dividing it by the standard error, where \\(s\\) is the sample standard deviation and \\(\\sqrt{n}\\) is the square root of the sample size.\n",
        "\n",
        "The t-statistic follows a t-distribution with \\(n - 1\\) degrees of freedom, which is why it is referred to as the Student's t-distribution. The t-distribution takes into account the inherent variability associated with estimating population parameters from sample data, particularly when the sample size is small or when the population standard deviation is unknown.\n",
        "\n",
        "In hypothesis testing, the t-statistic is used to determine whether the observed difference between the sample mean and the population mean is statistically significant, and it helps in making decisions about rejecting or failing to reject the null hypothesis. In constructing confidence intervals, the t-statistic helps establish the range of values within which the population parameter is likely to fall. The specific formula may vary based on the type of test or interval being conducted, such as one-sample t-test, two-sample t-test, or t-confidence interval."
      ],
      "metadata": {
        "id": "Vq82sGaR6kCu"
      }
    },
    {
      "cell_type": "markdown",
      "source": [
        "**Q13. A coffee shop owner wants to estimate the average daily revenue for their shop. They take a random sample of 50 days and find the sample mean revenue to be dollar 500 with a standard deviation of dollar 50. Estimate the population mean revenue with a 95% confidence interval.**"
      ],
      "metadata": {
        "id": "Cv0SseNu6k3f"
      }
    },
    {
      "cell_type": "markdown",
      "source": [
        "To estimate the population mean revenue with a 95% confidence interval, you can use the t-distribution since you have a sample and need to estimate the population mean. Here are the steps to calculate the confidence interval:\n",
        "\n",
        "1. **Collect Data**:\n",
        "   - Sample size (\\(n\\)): 50\n",
        "   - Sample mean (\\(\\bar{X}\\)): $500\n",
        "   - Sample standard deviation (\\(s\\)): $50\n",
        "   - Desired confidence level: 95% (confidence level \\(\\alpha = 0.05\\))\n",
        "\n",
        "2. **Find the Critical Value**:\n",
        "   - You'll need to find the critical value for a 95% confidence interval using the t-distribution. The degrees of freedom (\\(df\\)) is \\(n - 1\\). In this case, \\(df = 49\\).\n",
        "\n",
        "   You can find the critical value using a t-table or a calculator. For a 95% confidence level and 49 degrees of freedom, the critical value is approximately 2.0096.\n",
        "\n",
        "3. **Calculate the Margin of Error**:\n",
        "   - The margin of error (\\(E\\)) is calculated using the critical value and the sample standard deviation:\n",
        "   \\[E = \\frac{t_{\\alpha/2}}{\\sqrt{n}} \\cdot s\\]\n",
        "\n",
        "   Substituting the values:\n",
        "   \\[E = \\frac{2.0096}{\\sqrt{50}} \\cdot 50 \\approx 14.24\\]\n",
        "\n",
        "4. **Calculate the Confidence Interval**:\n",
        "   - The confidence interval is calculated by adding and subtracting the margin of error from the sample mean:\n",
        "   \\[CI = (\\bar{X} - E, \\bar{X} + E)\\]\n",
        "\n",
        "   Substituting the values:\n",
        "   \\[CI = (500 - 14.24, 500 + 14.24)\\]\n",
        "   \\[CI = (485.76, 514.24)\\]\n",
        "\n",
        "So, with a 95% confidence level, you can estimate that the population mean revenue for the coffee shop falls within the interval of approximately $485.76 to $514.24 per day."
      ],
      "metadata": {
        "id": "TRQT6R_u69Kt"
      }
    },
    {
      "cell_type": "markdown",
      "source": [
        "**Q14. A researcher hypothesizes that a new drug will decrease blood pressure by 10 mmHg. They conduct a clinical trial with 100 patients and find that the sample mean decrease in blood pressure is 8 mmHg with a standard deviation of 3 mmHg. Test the hypothesis with a significance level of 0.05.**"
      ],
      "metadata": {
        "id": "cYF_ez9T6_-p"
      }
    },
    {
      "cell_type": "markdown",
      "source": [
        "To test the hypothesis that the new drug will decrease blood pressure by 10 mmHg, you can perform a one-sample t-test. Here's how you can do it with the given information:\n",
        "\n",
        "**Given:**\n",
        "- Sample size (\\(n\\)): 100\n",
        "- Sample mean (\\(\\bar{X}\\)): 8 mmHg\n",
        "- Sample standard deviation (\\(s\\)): 3 mmHg\n",
        "- Hypothesized population mean (\\(\\mu_0\\)): 10 mmHg\n",
        "- Significance level (\\(\\alpha\\)): 0.05\n",
        "\n",
        "**Null Hypothesis (H0):** The new drug does not decrease blood pressure (\\(\\bar{X} = \\mu_0\\)).\n",
        "\n",
        "**Alternative Hypothesis (Ha):** The new drug decreases blood pressure (\\(\\bar{X} < \\mu_0\\)).\n",
        "\n",
        "To conduct the t-test, follow these steps:\n",
        "\n",
        "1. **Calculate the t-statistic**:\n",
        "   \\[t = \\frac{\\bar{X} - \\mu_0}{\\frac{s}{\\sqrt{n}}}\\]\n",
        "\n",
        "   Substituting the values:\n",
        "   \\[t = \\frac{8 - 10}{\\frac{3}{\\sqrt{100}}} = \\frac{-2}{0.3} = -6.67\\]\n",
        "\n",
        "2. **Find the critical value**:\n",
        "   - Since this is a one-tailed test (the alternative hypothesis suggests a specific direction), you need to find the critical t-value for a significance level of 0.05 with 99 degrees of freedom (because \\(n - 1 = 100 - 1 = 99\\)).\n",
        "\n",
        "   You can find this value using a t-table or calculator. For a one-tailed test and \\(\\alpha = 0.05\\) with 99 degrees of freedom, the critical t-value is approximately -1.6602.\n",
        "\n",
        "3. **Compare the t-statistic and critical value**:\n",
        "   - If the t-statistic is less than the critical value (i.e., -6.67 < -1.6602), you can reject the null hypothesis.\n",
        "\n",
        "4. **Make a decision**:\n",
        "   - Since the t-statistic is much smaller (more negative) than the critical value, you reject the null hypothesis.\n",
        "\n",
        "5. **Interpret the result**:\n",
        "   - You have enough evidence to conclude that the new drug decreases blood pressure, as the sample mean decrease in blood pressure is significantly less than the hypothesized value of 10 mmHg.\n",
        "\n",
        "In summary, with a significance level of 0.05, you have enough evidence to support the alternative hypothesis, suggesting that the new drug decreases blood pressure. The t-statistic is much smaller than the critical value, indicating a significant difference."
      ],
      "metadata": {
        "id": "xEwZSsZf7HPz"
      }
    },
    {
      "cell_type": "markdown",
      "source": [
        "**Q15. An electronics company produces a certain type of product with a mean weight of 5 pounds and a standard deviation of 0.5 pounds. A random sample of 25 products is taken, and the sample mean weight is found to be 4.8 pounds. Test the hypothesis that the true mean weight of the products is less than 5 pounds with a significance level of 0.01.**"
      ],
      "metadata": {
        "id": "T81RZKGm7Jp4"
      }
    },
    {
      "cell_type": "markdown",
      "source": [
        "To test the hypothesis that the true mean weight of the products is less than 5 pounds, you can perform a one-sample t-test. Here are the steps for conducting this test with the given information:\n",
        "\n",
        "**Given:**\n",
        "- Population mean weight (\\(\\mu\\)): 5 pounds\n",
        "- Population standard deviation (\\(\\sigma\\)): 0.5 pounds\n",
        "- Sample size (\\(n\\)): 25\n",
        "- Sample mean weight (\\(\\bar{X}\\)): 4.8 pounds\n",
        "- Significance level (\\(\\alpha\\)): 0.01\n",
        "\n",
        "**Null Hypothesis (H0):** The true mean weight of the products is equal to 5 pounds (\\(\\mu = 5\\)).\n",
        "\n",
        "**Alternative Hypothesis (Ha):** The true mean weight of the products is less than 5 pounds (\\(\\mu < 5\\)).\n",
        "\n",
        "To perform the t-test, follow these steps:\n",
        "\n",
        "1. **Calculate the t-statistic**:\n",
        "   \\[t = \\frac{\\bar{X} - \\mu}{\\frac{\\sigma}{\\sqrt{n}}}\\]\n",
        "\n",
        "   Substituting the values:\n",
        "   \\[t = \\frac{4.8 - 5}{\\frac{0.5}{\\sqrt{25}}} = \\frac{-0.2}{0.1} = -2\\]\n",
        "\n",
        "2. **Find the critical value**:\n",
        "   - Since this is a one-tailed test (the alternative hypothesis suggests a specific direction), you need to find the critical t-value for a significance level of 0.01 with 24 degrees of freedom (because \\(n - 1 = 25 - 1 = 24\\)).\n",
        "\n",
        "   You can find this value using a t-table or calculator. For a one-tailed test and \\(\\alpha = 0.01\\) with 24 degrees of freedom, the critical t-value is approximately -2.4922.\n",
        "\n",
        "3. **Compare the t-statistic and critical value**:\n",
        "   - If the t-statistic is less than the critical value (i.e., -2 < -2.4922), you can reject the null hypothesis.\n",
        "\n",
        "4. **Make a decision**:\n",
        "   - Since the t-statistic is smaller (more negative) than the critical value, you reject the null hypothesis.\n",
        "\n",
        "5. **Interpret the result**:\n",
        "   - You have enough evidence to conclude that the true mean weight of the products is less than 5 pounds, as the sample mean weight is significantly lower than 5 pounds.\n",
        "\n",
        "In summary, with a significance level of 0.01, you have enough evidence to support the alternative hypothesis, suggesting that the true mean weight of the products is less than 5 pounds. The t-statistic is smaller than the critical value, indicating a significant difference."
      ],
      "metadata": {
        "id": "TatRnuf97Smx"
      }
    },
    {
      "cell_type": "markdown",
      "source": [
        "**Q16. Two groups of students are given different study materials to prepare for a test. The first group (n1 = 30) has a mean score of 80 with a standard deviation of 10, and the second group (n2 = 40) has a mean score of 75 with a standard deviation of 8. Test the hypothesis that the population means for the two groups are equal with a significance level of 0.01.**"
      ],
      "metadata": {
        "id": "b7o5TssH7WJv"
      }
    },
    {
      "cell_type": "markdown",
      "source": [
        "To test the hypothesis that the population means for the two groups are equal, you can perform a two-sample t-test for independent samples. Here are the steps to conduct this test with the given information:\n",
        "\n",
        "**Given:**\n",
        "Group 1:\n",
        "- Sample size (\\(n_1\\)): 30\n",
        "- Sample mean (\\(\\bar{X}_1\\)): 80\n",
        "- Sample standard deviation (\\(s_1\\)): 10\n",
        "\n",
        "Group 2:\n",
        "- Sample size (\\(n_2\\)): 40\n",
        "- Sample mean (\\(\\bar{X}_2\\)): 75\n",
        "- Sample standard deviation (\\(s_2\\)): 8\n",
        "\n",
        "Significance level (\\(\\alpha\\)): 0.01\n",
        "\n",
        "**Null Hypothesis (H0):** The population means for the two groups are equal (\\(\\mu_1 = \\mu_2\\)).\n",
        "\n",
        "**Alternative Hypothesis (Ha):** The population means for the two groups are not equal (\\(\\mu_1 \\neq \\mu_2\\)).\n",
        "\n",
        "To perform the two-sample t-test, follow these steps:\n",
        "\n",
        "1. **Calculate the test statistic (t-statistic)**:\n",
        "   The formula for the t-statistic for a two-sample t-test is as follows:\n",
        "   \\[t = \\frac{(\\bar{X}_1 - \\bar{X}_2)}{\\sqrt{\\frac{s_1^2}{n_1} + \\frac{s_2^2}{n_2}}}\\]\n",
        "\n",
        "   Substituting the values:\n",
        "   \\[t = \\frac{(80 - 75)}{\\sqrt{\\frac{10^2}{30} + \\frac{8^2}{40}}} = \\frac{5}{\\sqrt{1.1111}} \\approx 4.487\\]\n",
        "\n",
        "2. **Find the critical value**:\n",
        "   - Since this is a two-tailed test (the alternative hypothesis suggests a difference, not a specific direction), you need to find the critical t-values for a significance level of 0.01 with \\(n_1 - 1 + n_2 - 1\\) degrees of freedom.\n",
        "\n",
        "   Calculate the degrees of freedom:\n",
        "   \\[df = (30 - 1) + (40 - 1) = 68\\]\n",
        "\n",
        "   You can find the critical t-values using a t-table or calculator. For a two-tailed test and \\(\\alpha = 0.01\\) with 68 degrees of freedom, the critical t-values are approximately \\(-2.6147\\) and \\(2.6147\\).\n",
        "\n",
        "3. **Compare the t-statistic and critical values**:\n",
        "   - If the t-statistic falls outside the range between the critical values (\\(t < -2.6147\\) or \\(t > 2.6147\\)), you can reject the null hypothesis.\n",
        "\n",
        "4. **Make a decision**:\n",
        "   - Since the calculated t-statistic (\\(4.487\\)) is greater than the critical values (\\(2.6147\\)), you can reject the null hypothesis.\n",
        "\n",
        "5. **Interpret the result**:\n",
        "   - You have enough evidence to conclude that the population means for the two groups are not equal, as the t-statistic falls outside the critical value range.\n",
        "\n",
        "In summary, with a significance level of 0.01, you have enough evidence to support the alternative hypothesis, indicating that the population means for the two groups are not equal. The t-statistic is larger than the critical values, suggesting a significant difference between the groups."
      ],
      "metadata": {
        "id": "9Ny9dSBe7gBh"
      }
    },
    {
      "cell_type": "markdown",
      "source": [
        "**Q17. A marketing company wants to estimate the average number of ads watched by viewers during a TV program. They take a random sample of 50 viewers and find that the sample mean is 4 with a standard deviation of 1.5. Estimate the population mean with a 99% confidence interval.**"
      ],
      "metadata": {
        "id": "4S0ftbw27jNA"
      }
    },
    {
      "cell_type": "markdown",
      "source": [
        "To estimate the population mean number of ads watched by viewers during a TV program with a 99% confidence interval, you can use a one-sample t-confidence interval. Here are the steps to calculate the confidence interval with the given information:\n",
        "\n",
        "**Given:**\n",
        "- Sample size (\\(n\\)): 50\n",
        "- Sample mean (\\(\\bar{X}\\)): 4\n",
        "- Sample standard deviation (\\(s\\)): 1.5\n",
        "- Desired confidence level: 99% (confidence level \\(\\alpha = 0.01\\))\n",
        "\n",
        "1. **Calculate the critical value**:\n",
        "   - For a 99% confidence interval and 49 degrees of freedom (because \\(n - 1 = 50 - 1 = 49\\)), you can find the critical t-value using a t-table or calculator. The critical value is approximately 2.6825.\n",
        "\n",
        "2. **Calculate the margin of error**:\n",
        "   - The margin of error (\\(E\\)) can be calculated using the critical t-value and the sample standard deviation:\n",
        "   \\[E = t_{\\alpha/2} \\cdot \\frac{s}{\\sqrt{n}}\\]\n",
        "\n",
        "   Substituting the values:\n",
        "   \\[E = 2.6825 \\cdot \\frac{1.5}{\\sqrt{50}} \\approx 0.3035\\]\n",
        "\n",
        "3. **Calculate the confidence interval**:\n",
        "   - The confidence interval is calculated by adding and subtracting the margin of error from the sample mean:\n",
        "   \\[CI = (\\bar{X} - E, \\bar{X} + E)\\]\n",
        "\n",
        "   Substituting the values:\n",
        "   \\[CI = (4 - 0.3035, 4 + 0.3035)\\]\n",
        "   \\[CI \\approx (3.6965, 4.3035)\\]\n",
        "\n",
        "So, with a 99% confidence level, you can estimate that the population mean number of ads watched by viewers during a TV program falls within the interval of approximately 3.6965 to 4.3035. This means you can be 99% confident that the true population mean lies within this range."
      ],
      "metadata": {
        "id": "HgxzYDnF6x52"
      }
    }
  ]
}