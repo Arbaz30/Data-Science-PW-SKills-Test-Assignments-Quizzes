{
  "nbformat": 4,
  "nbformat_minor": 0,
  "metadata": {
    "colab": {
      "provenance": []
    },
    "kernelspec": {
      "name": "python3",
      "display_name": "Python 3"
    },
    "language_info": {
      "name": "python"
    }
  },
  "cells": [
    {
      "cell_type": "markdown",
      "source": [
        "Q1. Create a function which will take a list as an argument and return the product of all the numbers\n",
        "after creating a flat list.\n",
        "Use the below-given list as an argument for your function.\n",
        "list1 = [1,2,3,4, [44,55,66, True], False, (34,56,78,89,34), {1,2,3,3,2,1}, {1:34, \"key2\": [55, 67, 78, 89], 4: (45,\n",
        "22, 61, 34)}, [56, 'data science'], 'Machine Learning']\n",
        "Note: you must extract numeric keys and values of the dictionary also."
      ],
      "metadata": {
        "id": "UFK3v2URgUdr"
      }
    },
    {
      "cell_type": "code",
      "source": [
        "def flatten_and_product(input_list):\n",
        "    def is_iterable(item):\n",
        "        try:\n",
        "            iter(item)\n",
        "            return True\n",
        "        except TypeError:\n",
        "            return False\n",
        "\n",
        "    def flatten(input_list):\n",
        "        flat_list = []\n",
        "        for item in input_list:\n",
        "            if is_iterable(item) and not isinstance(item, str):\n",
        "                flat_list.extend(flatten(item))\n",
        "            else:\n",
        "                if isinstance(item, (int, float)):\n",
        "                    flat_list.append(item)\n",
        "                elif isinstance(item, dict):\n",
        "                    for value in item.values():\n",
        "                        if isinstance(value, (int, float)):\n",
        "                            flat_list.append(value)\n",
        "        return flat_list\n",
        "\n",
        "    flat_result = flatten(input_list)\n",
        "\n",
        "    product = 1\n",
        "    for num in flat_result:\n",
        "        product *= num\n",
        "\n",
        "    return product\n",
        "\n",
        "list1 = [1,2,3,4, [44,55,66, True], False, (34,56,78,89,34), {1,2,3,3,2,1}, {1:34, \"key2\": [55, 67, 78, 89], 4: (45,\n",
        "22, 61, 34)}, [56, 'data science'], 'Machine Learning']\n",
        "\n",
        "result = flatten_and_product(list1)\n",
        "print(result)\n"
      ],
      "metadata": {
        "colab": {
          "base_uri": "https://localhost:8080/"
        },
        "id": "I1jnlmyBbfhK",
        "outputId": "12550ea5-9dab-4f33-9eed-0eecb07ed1dc"
      },
      "execution_count": 5,
      "outputs": [
        {
          "output_type": "stream",
          "name": "stdout",
          "text": [
            "0\n"
          ]
        }
      ]
    },
    {
      "cell_type": "code",
      "source": [],
      "metadata": {
        "id": "K4UOLahZcFJE"
      },
      "execution_count": 5,
      "outputs": []
    },
    {
      "cell_type": "markdown",
      "source": [
        "Q2. Write a python program for encrypting a message sent to you by your friend. The logic of encryption\n",
        "should be such that, for a the output should be z. For b, the output should be y. For c, the output should\n",
        "be x respectively. Also, the whitespace should be replaced with a dollar sign. Keep the punctuation\n",
        "marks unchanged.\n",
        "Input Sentence: I want to become a Data Scientist.\n",
        "Encrypt the above input sentence using the program you just created.\n",
        "Note: Convert the given input sentence into lowercase before encrypting. The final output should be\n",
        "lowercase."
      ],
      "metadata": {
        "id": "xV17b4HccFjY"
      }
    },
    {
      "cell_type": "code",
      "source": [
        "def encrypt_message(message):\n",
        "    char_map = {\n",
        "        'a': 'z', 'b': 'y', 'c': 'x', 'd': 'w', 'e': 'v',\n",
        "        'f': 'u', 'g': 't', 'h': 's', 'i': 'r', 'j': 'q',\n",
        "        'k': 'p', 'l': 'o', 'm': 'n', 'n': 'm', 'o': 'l',\n",
        "        'p': 'k', 'q': 'j', 'r': 'i', 's': 'h', 't': 'g',\n",
        "        'u': 'f', 'v': 'e', 'w': 'd', 'x': 'c', 'y': 'b',\n",
        "        'z': 'a',\n",
        "    }\n",
        "    message = message.lower()\n",
        "    encrypted_message = ''\n",
        "    for char in message:\n",
        "        if char.isalpha():\n",
        "            encrypted_message += char_map[char]\n",
        "        elif char.isspace():\n",
        "            encrypted_message += '$'\n",
        "        else:\n",
        "            encrypted_message += char\n",
        "    return encrypted_message\n",
        "\n",
        "input_sentence = \"I want to become a Data Scientist.\"\n",
        "encrypted_sentence = encrypt_message(input_sentence)\n",
        "print(encrypted_sentence)\n"
      ],
      "metadata": {
        "colab": {
          "base_uri": "https://localhost:8080/"
        },
        "id": "9lvpqCg3cIrx",
        "outputId": "b8e597e2-1f55-415f-d1e3-a4c0503dba65"
      },
      "execution_count": 6,
      "outputs": [
        {
          "output_type": "stream",
          "name": "stdout",
          "text": [
            "r$dzmg$gl$yvxlnv$z$wzgz$hxrvmgrhg.\n"
          ]
        }
      ]
    }
  ]
}