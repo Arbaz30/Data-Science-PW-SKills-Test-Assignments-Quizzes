{
  "nbformat": 4,
  "nbformat_minor": 0,
  "metadata": {
    "colab": {
      "provenance": []
    },
    "kernelspec": {
      "name": "python3",
      "display_name": "Python 3"
    },
    "language_info": {
      "name": "python"
    }
  },
  "cells": [
    {
      "cell_type": "markdown",
      "source": [
        "**Q1. What is the Probability density function?**"
      ],
      "metadata": {
        "id": "4YQCtT8ps7iv"
      }
    },
    {
      "cell_type": "markdown",
      "source": [
        "The Probability Density Function (PDF) is a fundamental concept in probability theory and statistics. It is a mathematical function that describes the likelihood of a continuous random variable taking on a specific value. In other words, the PDF provides a way to represent the probability distribution of continuous random variables."
      ],
      "metadata": {
        "id": "pqMTJCS_tFHC"
      }
    },
    {
      "cell_type": "markdown",
      "source": [
        "**Q2. What are the types of Probability distribution?**"
      ],
      "metadata": {
        "id": "zyAaVgLXtLB_"
      }
    },
    {
      "cell_type": "markdown",
      "source": [
        "Probability distributions are mathematical functions that describe how the values of a random variable are distributed. There are several types of probability distributions, each with its own characteristics and applications. Here are some of the common types of probability distributions:\n",
        "\n",
        "1. **Uniform Distribution:**\n",
        "   - The uniform distribution represents a constant probability for all values within a specific range.\n",
        "   - All values in the range are equally likely.\n",
        "   - Example: Rolling a fair six-sided die, where each outcome (1, 2, 3, 4, 5, 6) has the same probability.\n",
        "\n",
        "2. **Normal Distribution (Gaussian Distribution):**\n",
        "   - The normal distribution is a bell-shaped distribution characterized by a symmetric, unimodal curve.\n",
        "   - Many natural phenomena, such as heights, test scores, and errors, tend to follow a normal distribution.\n",
        "   - The distribution is defined by its mean and standard deviation.\n",
        "   - Example: IQ scores, heights of adults in a population.\n",
        "\n",
        "3. **Binomial Distribution:**\n",
        "   - The binomial distribution models the number of successes in a fixed number of independent Bernoulli trials (experiments with two possible outcomes: success or failure).\n",
        "   - It is defined by two parameters: the number of trials and the probability of success in each trial.\n",
        "   - Example: Number of heads obtained when flipping a coin 10 times.\n",
        "\n",
        "4. **Poisson Distribution:**\n",
        "   - The Poisson distribution models the number of events that occur in a fixed interval of time or space when the events are rare and randomly occurring.\n",
        "   - It is defined by a single parameter, the average rate of event occurrence.\n",
        "   - Example: Number of customer arrivals at a store in an hour.\n",
        "\n",
        "5. **Exponential Distribution:**\n",
        "   - The exponential distribution models the time between events in a Poisson process.\n",
        "   - It is defined by a rate parameter, often denoted as λ (lambda).\n",
        "   - Example: Time between arrivals of buses at a bus stop.\n",
        "\n",
        "6. **Bernoulli Distribution:**\n",
        "   - The Bernoulli distribution models a single trial with two possible outcomes (success or failure) with a fixed probability of success.\n",
        "   - It is a special case of the binomial distribution with a single trial.\n",
        "   - Example: Tossing a coin and recording whether it lands heads (success) or tails (failure).\n",
        "\n",
        "7. **Geometric Distribution:**\n",
        "   - The geometric distribution models the number of trials needed until the first success in a sequence of independent Bernoulli trials.\n",
        "   - It is defined by a single parameter, the probability of success in a single trial.\n",
        "   - Example: Number of attempts needed to make the first successful basketball free throw.\n",
        "\n",
        "8. **Hypergeometric Distribution:**\n",
        "   - The hypergeometric distribution models the probability of drawing a specific number of successes in a finite population without replacement.\n",
        "   - It is used in scenarios where the sample size is a significant fraction of the population size.\n",
        "   - Example: Selecting a certain number of defective items from a batch during quality control.\n",
        "\n",
        "These are just a few examples of probability distributions. In practice, various other distributions exist to model different types of data and phenomena, and they play a critical role in statistical analysis, probability theory, and various scientific fields."
      ],
      "metadata": {
        "id": "QMrUHOWetPb2"
      }
    },
    {
      "cell_type": "markdown",
      "source": [
        "**Q3. Write a Python function to calculate the probability density function of a normal distribution with\n",
        "given mean and standard deviation at a given point.**"
      ],
      "metadata": {
        "id": "xl0nkuHMtTVQ"
      }
    },
    {
      "cell_type": "code",
      "source": [
        "import scipy.stats as stats\n",
        "\n",
        "def calculate_normal_pdf(x, mean, std_dev):\n",
        "    \"\"\"\n",
        "    Calculate the Probability Density Function (PDF) of a normal distribution at a given point.\n",
        "\n",
        "    Parameters:\n",
        "    x (float): The point at which to calculate the PDF.\n",
        "    mean (float): The mean (average) of the normal distribution.\n",
        "    std_dev (float): The standard deviation of the normal distribution.\n",
        "\n",
        "    Returns:\n",
        "    float: The PDF value at the given point.\n",
        "    \"\"\"\n",
        "    pdf = stats.norm.pdf(x, loc=mean, scale=std_dev)\n",
        "    return pdf\n",
        "\n",
        "# Example usage:\n",
        "mean = 50\n",
        "std_dev = 10\n",
        "x_value = 60\n",
        "pdf_value = calculate_normal_pdf(x_value, mean, std_dev)\n",
        "print(f\"PDF at {x_value} = {pdf_value}\")\n"
      ],
      "metadata": {
        "colab": {
          "base_uri": "https://localhost:8080/"
        },
        "id": "l-uK7uKKtfLg",
        "outputId": "07771e58-704c-43ab-ec64-cdaec406cc48"
      },
      "execution_count": 1,
      "outputs": [
        {
          "output_type": "stream",
          "name": "stdout",
          "text": [
            "PDF at 60 = 0.024197072451914336\n"
          ]
        }
      ]
    },
    {
      "cell_type": "markdown",
      "source": [
        "**Q4. What are the properties of Binomial distribution? Give two examples of events where binomial\n",
        "distribution can be applied.**"
      ],
      "metadata": {
        "id": "hdZG12Pgthex"
      }
    },
    {
      "cell_type": "markdown",
      "source": [
        "The Binomial distribution is a discrete probability distribution that models the number of successes in a fixed number of independent Bernoulli trials (experiments with two possible outcomes: success or failure). It has several key properties:\n",
        "\n",
        "1. **Two Possible Outcomes:** In each trial, there are only two possible outcomes, often denoted as \"success\" and \"failure.\"\n",
        "\n",
        "2. **Fixed Number of Trials:** The number of trials (n) is fixed and known in advance.\n",
        "\n",
        "3. **Independence:** Each trial is independent of the others. The outcome of one trial does not affect the outcome of another.\n",
        "\n",
        "4. **Constant Probability:** The probability of success (p) remains constant from trial to trial.\n",
        "\n",
        "5. **Discreteness:** The Binomial distribution is used for discrete random variables, where the number of successes is a whole number (0, 1, 2, etc.).\n",
        "\n",
        "6. **Parameters:** The Binomial distribution is defined by two parameters: the number of trials (n) and the probability of success (p).\n",
        "\n",
        "7. **Probability Mass Function:** The probability mass function (PMF) of the Binomial distribution is given by the formula:\n",
        "   \\[ P(X = k) = \\binom{n}{k} p^k (1 - p)^{n - k} \\]\n",
        "   Where:\n",
        "   - \\(P(X = k)\\) is the probability of getting exactly k successes.\n",
        "   - \\(\\binom{n}{k}\\) is the binomial coefficient, representing the number of ways to choose k successes out of n trials.\n",
        "   - \\(p^k\\) is the probability of k successes.\n",
        "   - \\((1 - p)^{n - k}\\) is the probability of (n - k) failures.\n",
        "\n",
        "Two common examples where the Binomial distribution can be applied are:\n",
        "\n",
        "1. **Coin Flipping:** When flipping a fair coin (where the probability of getting heads is 0.5) a fixed number of times (n), you can use the Binomial distribution to model the number of heads obtained.\n",
        "\n",
        "2. **Quality Control:** In quality control, you can use the Binomial distribution to model the number of defective items in a random sample of a fixed size (n) from a larger production batch, assuming a constant defect rate (p).\n",
        "\n",
        "3. **Survey Responses:** In a survey with binary response options (e.g., yes/no), you can use the Binomial distribution to model the number of \"yes\" responses when conducting a fixed number (n) of surveys, assuming a consistent probability of a \"yes\" response (p).\n",
        "\n",
        "In both cases, the Binomial distribution is a valuable tool for modeling and understanding the number of successes (or occurrences of a specific event) within a fixed number of trials, given a known probability of success."
      ],
      "metadata": {
        "id": "sBAB46TNtnR9"
      }
    },
    {
      "cell_type": "markdown",
      "source": [
        "**Q5. Generate a random sample of size 1000 from a binomial distribution with probability of success 0.4\n",
        "and plot a histogram of the results using matplotlib.**"
      ],
      "metadata": {
        "id": "inKtwz_OtqAG"
      }
    },
    {
      "cell_type": "code",
      "source": [
        "import numpy as np\n",
        "import matplotlib.pyplot as plt\n",
        "\n",
        "# Set the parameters\n",
        "n = 1000  # Sample size\n",
        "p = 0.4   # Probability of success\n",
        "\n",
        "# Generate the random sample from the binomial distribution\n",
        "random_sample = np.random.binomial(1, p, n)  # Here, 1 represents a single trial\n",
        "\n",
        "# Plot a histogram of the random sample\n",
        "plt.hist(random_sample, bins=2, edgecolor='k', alpha=0.7)\n",
        "plt.xlabel(\"Success (1) or Failure (0)\")\n",
        "plt.ylabel(\"Frequency\")\n",
        "plt.title(\"Binomial Distribution with p = 0.4\")\n",
        "plt.xticks([0, 1])\n",
        "plt.show()\n"
      ],
      "metadata": {
        "colab": {
          "base_uri": "https://localhost:8080/",
          "height": 472
        },
        "id": "XF7UiJfKt0_4",
        "outputId": "86569fb6-c59d-426c-cc5a-f9030254604d"
      },
      "execution_count": 2,
      "outputs": [
        {
          "output_type": "display_data",
          "data": {
            "text/plain": [
              "<Figure size 640x480 with 1 Axes>"
            ],
            "image/png": "[encoded data removed]"
          },
          "metadata": {}
        }
      ]
    },
    {
      "cell_type": "markdown",
      "source": [
        "**Q6. Write a Python function to calculate the cumulative distribution function of a Poisson distribution\n",
        "with given mean at a given point.**"
      ],
      "metadata": {
        "id": "NiG9dNBPt3pn"
      }
    },
    {
      "cell_type": "code",
      "source": [
        "import scipy.stats as stats\n",
        "\n",
        "def calculate_poisson_cdf(x, mean):\n",
        "    \"\"\"\n",
        "    Calculate the Cumulative Distribution Function (CDF) of a Poisson distribution at a given point.\n",
        "\n",
        "    Parameters:\n",
        "    x (int): The point at which to calculate the CDF.\n",
        "    mean (float): The mean (average) of the Poisson distribution.\n",
        "\n",
        "    Returns:\n",
        "    float: The CDF value at the given point.\n",
        "    \"\"\"\n",
        "    cdf = stats.poisson.cdf(x, mu=mean)\n",
        "    return cdf\n",
        "\n",
        "# Example usage:\n",
        "mean = 5  # Mean of the Poisson distribution\n",
        "x_value = 3  # Point at which to calculate the CDF\n",
        "cdf_value = calculate_poisson_cdf(x_value, mean)\n",
        "print(f\"CDF at {x_value} = {cdf_value}\")\n"
      ],
      "metadata": {
        "colab": {
          "base_uri": "https://localhost:8080/"
        },
        "id": "UcL6vaK8uCTg",
        "outputId": "b7998d12-0e55-4d29-d990-7286e7cb7c1a"
      },
      "execution_count": 3,
      "outputs": [
        {
          "output_type": "stream",
          "name": "stdout",
          "text": [
            "CDF at 3 = 0.2650259152973616\n"
          ]
        }
      ]
    },
    {
      "cell_type": "markdown",
      "source": [
        "**Q7. How Binomial distribution different from Poisson distribution?**"
      ],
      "metadata": {
        "id": "-fBZVWFYuEov"
      }
    },
    {
      "cell_type": "markdown",
      "source": [
        "The Binomial distribution and the Poisson distribution are both probability distributions used in statistics to model the number of successes or events within a specified number of trials or a given interval of time or space. While they share similarities, they have distinct differences:\n",
        "\n",
        "**Binomial Distribution:**\n",
        "\n",
        "1. **Number of Trials:** The Binomial distribution is used to model the number of successes (e.g., heads in coin flips, defective items in quality control) in a fixed number of trials (n). You know in advance how many trials will be conducted.\n",
        "\n",
        "2. **Two Possible Outcomes:** In each trial, there are only two possible outcomes: success and failure. These outcomes are often represented as 1 (success) and 0 (failure).\n",
        "\n",
        "3. **Constant Probability:** The probability of success (p) remains constant from trial to trial. In other words, the probability of success does not change as trials progress.\n",
        "\n",
        "4. **Parameters:** The Binomial distribution is defined by two parameters: the number of trials (n) and the probability of success in a single trial (p).\n",
        "\n",
        "5. **Discreteness:** The Binomial distribution is used for discrete random variables, and the number of successes is a whole number (0, 1, 2, ...).\n",
        "\n",
        "**Poisson Distribution:**\n",
        "\n",
        "1. **Number of Trials:** The Poisson distribution models the number of rare, randomly occurring events within a specified interval of time or space. The number of trials (n) is not fixed or predetermined; it can vary.\n",
        "\n",
        "2. **Count of Events:** In the Poisson distribution, you're interested in counting the number of events (e.g., phone calls received at a call center, arrivals at a bus stop) within a fixed interval, where the events are rare and randomly occurring.\n",
        "\n",
        "3. **Rare Events:** The Poisson distribution assumes that the events are rare and that they occur with a low probability within the given interval.\n",
        "\n",
        "4. **Parameter:** The Poisson distribution is defined by a single parameter, λ (lambda), which represents the average rate of event occurrence within the interval.\n",
        "\n",
        "5. **Continuous or Discrete:** While the Poisson distribution is often used for discrete data (count data), it can be applied to continuous situations by considering very small intervals.\n",
        "\n",
        "In summary, the key difference is that the Binomial distribution is used for a fixed number of trials with two possible outcomes, whereas the Poisson distribution is used to count rare, random events in a variable number of trials within a fixed interval. The Poisson distribution is particularly applicable when dealing with events that occur infrequently and independently."
      ],
      "metadata": {
        "id": "5E10LwhiuKl2"
      }
    },
    {
      "cell_type": "markdown",
      "source": [
        "**Q8. Generate a random sample of size 1000 from a Poisson distribution with mean 5 and calculate the\n",
        "sample mean and variance.**"
      ],
      "metadata": {
        "id": "3ca9kjBHuNoO"
      }
    },
    {
      "cell_type": "code",
      "source": [
        "import numpy as np\n",
        "\n",
        "# Set the parameters\n",
        "mean = 5  # Mean of the Poisson distribution\n",
        "sample_size = 1000\n",
        "\n",
        "# Generate the random sample from the Poisson distribution\n",
        "random_sample = np.random.poisson(mean, sample_size)\n",
        "\n",
        "# Calculate the sample mean and variance\n",
        "sample_mean = np.mean(random_sample)\n",
        "sample_variance = np.var(random_sample)\n",
        "\n",
        "print(f\"Sample Mean: {sample_mean}\")\n",
        "print(f\"Sample Variance: {sample_variance}\")\n"
      ],
      "metadata": {
        "colab": {
          "base_uri": "https://localhost:8080/"
        },
        "id": "0wpO5DIkuX2W",
        "outputId": "1c2e5530-f12f-44bc-be43-e7fdaa8a3004"
      },
      "execution_count": 4,
      "outputs": [
        {
          "output_type": "stream",
          "name": "stdout",
          "text": [
            "Sample Mean: 5.14\n",
            "Sample Variance: 4.7564\n"
          ]
        }
      ]
    },
    {
      "cell_type": "markdown",
      "source": [
        "**Q9. How mean and variance are related in Binomial distribution and Poisson distribution?**"
      ],
      "metadata": {
        "id": "nO21v8OFuewc"
      }
    },
    {
      "cell_type": "markdown",
      "source": [
        "In both the Binomial and Poisson distributions, the mean (μ) and variance (σ²) are related, but the nature of this relationship differs between the two distributions:\n",
        "\n",
        "**Binomial Distribution:**\n",
        "\n",
        "1. **Mean:** For a Binomial distribution with parameters \\(n\\) (number of trials) and \\(p\\) (probability of success in a single trial), the mean (μ) is given by: \\(μ = np\\).\n",
        "2. **Variance:** The variance (σ²) for a Binomial distribution is given by: \\(σ² = np(1-p)\\).\n",
        "\n",
        "In the Binomial distribution, the variance is directly related to the product of the number of trials (\\(n\\)), the probability of success in a single trial (\\(p\\)), and the probability of failure in a single trial (\\(1-p\\)).\n",
        "\n",
        "**Poisson Distribution:**\n",
        "\n",
        "1. **Mean:** For a Poisson distribution with a mean (\\(λ\\)), the mean (μ) is equal to \\(λ\\). In other words, μ = \\(λ\\).\n",
        "2. **Variance:** The variance (σ²) for a Poisson distribution is also equal to \\(λ\\). Thus, σ² = \\(λ\\).\n",
        "\n",
        "In the Poisson distribution, the variance is equal to the mean (\\(σ² = μ\\)). This is a unique characteristic of the Poisson distribution and indicates that the spread of the distribution is equal to the average rate of event occurrence within the specified interval.\n",
        "\n",
        "To summarize, in the Binomial distribution, the variance depends on both the number of trials (\\(n\\)) and the probability of success (\\(p\\)), whereas in the Poisson distribution, the variance is equal to the mean (\\(σ² = μ = λ\\)). In both cases, the variance provides a measure of the spread or dispersion of the data, and it is directly related to the mean but follows different formulas."
      ],
      "metadata": {
        "id": "JSbO-jtzuj41"
      }
    },
    {
      "cell_type": "markdown",
      "source": [
        "**Q10. In normal distribution with respect to mean position, where does the least frequent data appear?**"
      ],
      "metadata": {
        "id": "m6QPWbyAukcv"
      }
    },
    {
      "cell_type": "markdown",
      "source": [
        "In a normal distribution, also known as a Gaussian distribution, the least frequent data appears in the tails of the distribution, farthest from the mean. The normal distribution is symmetric and bell-shaped, with the mean (μ) at the center. The tails of the distribution extend infinitely in both directions from the mean.\n",
        "\n",
        "The normal distribution is characterized by the 68-95-99.7 rule, which describes the percentage of data within certain standard deviations of the mean:\n",
        "\n",
        "1. Approximately 68% of the data falls within one standard deviation of the mean (from μ - σ to μ + σ).\n",
        "2. About 95% of the data falls within two standard deviations of the mean (from μ - 2σ to μ + 2σ).\n",
        "3. Nearly 99.7% of the data falls within three standard deviations of the mean (from μ - 3σ to μ + 3σ).\n",
        "\n",
        "This means that as you move farther away from the mean, the percentage of data in the tails becomes progressively smaller. Therefore, the data in the tails (those beyond three standard deviations from the mean) is the least frequent in a normal distribution.\n",
        "\n",
        "In practical terms, data in the tails of a normal distribution represents extreme or rare events or observations. These are the values that deviate significantly from the average and occur with low frequency."
      ],
      "metadata": {
        "id": "BtQxAcj-uov_"
      }
    }
  ]
}