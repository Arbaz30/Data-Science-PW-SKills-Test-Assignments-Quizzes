{
 "cells": [
  {
   "cell_type": "markdown",
   "id": "a7ccb151-f5b7-458a-b0ae-fee24cba6800",
   "metadata": {},
   "source": [
    "1. Write a program to accept percentage from the user and display the grade according to the following \n",
    "    #criteria: \n",
    "                                        Marks: Grade \n",
    "                                          >90: A \n",
    "                                 >80 and <=90: B \n",
    "                                >=60 and <=80: C \n",
    "                                     below 60: D \n"
   ]
  },
  {
   "cell_type": "code",
   "execution_count": 2,
   "id": "3045e195-a655-4786-9f0c-21b9f099dbdf",
   "metadata": {},
   "outputs": [
    {
     "name": "stdout",
     "output_type": "stream",
     "text": [
      "marks: 8\n"
     ]
    },
    {
     "name": "stdout",
     "output_type": "stream",
     "text": [
      "D Grade\n"
     ]
    }
   ],
   "source": [
    "marks=int(input(\"marks:\"))\n",
    "if marks>90:\n",
    "    print(\"A Grade\")\n",
    "elif marks>80 and marks<=90:\n",
    "    print(\"B Grade\")\n",
    "elif marks>=60 and marks<=80 :\n",
    "    print(\"C Grade\")\n",
    "else:\n",
    "    print(\"D Grade\")"
   ]
  },
  {
   "cell_type": "markdown",
   "id": "a301d9e4-b731-4a06-ac1c-f41a825b82c6",
   "metadata": {},
   "source": [
    "2.Question"
   ]
  },
  {
   "cell_type": "code",
   "execution_count": 1,
   "id": "3a87bed4-6e65-4dd6-9a53-0768570094db",
   "metadata": {},
   "outputs": [
    {
     "name": "stdout",
     "output_type": "stream",
     "text": [
      "cost price in Rs: 1\n"
     ]
    },
    {
     "name": "stdout",
     "output_type": "stream",
     "text": [
      "5%\n"
     ]
    }
   ],
   "source": [
    "cost_price=int(input(\"cost price in Rs:\"))\n",
    "if cost_price>100000:\n",
    "    print(\"15%\")\n",
    "elif cost_price>50000 and cost_price<=100000:\n",
    "    print(\"10%\")\n",
    "else:\n",
    "    print(\"5%\")"
   ]
  },
  {
   "cell_type": "markdown",
   "id": "503c12f7-f7f6-4a1c-9ed0-fa79910fe39b",
   "metadata": {},
   "source": [
    "3.Question"
   ]
  },
  {
   "cell_type": "code",
   "execution_count": 9,
   "id": "7d0a08b7-7772-468b-84bb-2969bcf1218f",
   "metadata": {},
   "outputs": [
    {
     "name": "stdout",
     "output_type": "stream",
     "text": [
      "city is: Delhi\n"
     ]
    },
    {
     "name": "stdout",
     "output_type": "stream",
     "text": [
      "The monument of given city is Redfort\n"
     ]
    }
   ],
   "source": [
    "City=input(\"city is:\")\n",
    "if City==\"Delhi\":\n",
    "    print(\"The monument of given city is Redfort\")\n",
    "elif City==\"Agra\":\n",
    "    print(\"The monument of given city is Taj mahal\")\n",
    "elif City==\"Jaipur\":%"
   ]
  },
  {
   "cell_type": "markdown",
   "id": "5c3a38a8-2bea-43b9-9a8b-e4050ecc4500",
   "metadata": {},
   "source": [
    "4. Check how many times a given number can be divided by 3 before it is less than or equal to 10. "
   ]
  },
  {
   "cell_type": "code",
   "execution_count": 1,
   "id": "999f3300-4dfd-452f-b0bc-5c03bf73b680",
   "metadata": {},
   "outputs": [
    {
     "name": "stdout",
     "output_type": "stream",
     "text": [
      "The given number is: 12\n"
     ]
    },
    {
     "name": "stdout",
     "output_type": "stream",
     "text": [
      "1\n"
     ]
    }
   ],
   "source": [
    "number = int(input(\"The given number is:\"))\n",
    "count=0\n",
    "while number>10:\n",
    "    if number%3==0:\n",
    "        count+=1\n",
    "    number=number/3\n",
    "print(count)"
   ]
  },
  {
   "cell_type": "markdown",
   "id": "fd9f28bf-bde5-4659-ac0b-eea311bf5dff",
   "metadata": {},
   "source": [
    "5. Why and When to Use while Loop in Python give a detailed description with example \n",
    "\n",
    "   Ans.A while loop in Python is used to repeatedly execute a block of code as long as a certain condition is met. The     structure of a while loop in Python is as follows:\n",
    "\n",
    "   The code inside the loop will be executed as long as the condition is True. When the condition becomes False, the loop will stop executing and the program will continue with the next line of code after the loop.\n",
    "\n",
    "   Here's an example to demonstrate the use of a while loop:"
   ]
  },
  {
   "cell_type": "code",
   "execution_count": 1,
   "id": "28f634b7-24ab-4e35-bffb-db5a54745581",
   "metadata": {},
   "outputs": [
    {
     "name": "stdout",
     "output_type": "stream",
     "text": [
      "Iteration: 1\n",
      "Iteration: 2\n",
      "Iteration: 3\n",
      "Iteration: 4\n",
      "Iteration: 5\n",
      "While loop ended.\n"
     ]
    }
   ],
   "source": [
    "count = 1\n",
    "\n",
    "while count <= 5:\n",
    "    print(\"Iteration:\", count)\n",
    "    count += 1\n",
    "\n",
    "print(\"While loop ended.\")\n"
   ]
  },
  {
   "cell_type": "markdown",
   "id": "b1218968-724b-4c71-b86e-e01ee6bb5423",
   "metadata": {},
   "source": [
    "6. Use nested while loop to print 3 different pattern. "
   ]
  },
  {
   "cell_type": "code",
   "execution_count": 5,
   "id": "925a72ba-0615-46bd-8196-eb335feabf86",
   "metadata": {},
   "outputs": [
    {
     "name": "stdout",
     "output_type": "stream",
     "text": [
      "The given number is: 5\n"
     ]
    },
    {
     "name": "stdout",
     "output_type": "stream",
     "text": [
      "* \n",
      "* * \n",
      "* * * \n",
      "* * * * \n",
      "* * * * * \n"
     ]
    }
   ],
   "source": [
    "n=int(input(\"The given number is:\"))\n",
    "i=1\n",
    "while i<=n:\n",
    "    j=1\n",
    "    while j<=i:\n",
    "        print(\"*\",end=\" \")\n",
    "        j+=1\n",
    "    print(\"\")\n",
    "    i=i+1\n",
    "    "
   ]
  },
  {
   "cell_type": "code",
   "execution_count": 6,
   "id": "f5d0f2a9-efba-4fb0-a375-28452b25df52",
   "metadata": {},
   "outputs": [
    {
     "name": "stdout",
     "output_type": "stream",
     "text": [
      "The given number is: 8\n"
     ]
    },
    {
     "name": "stdout",
     "output_type": "stream",
     "text": [
      "* * * * * * * * \n",
      "* * * * * * * \n",
      "* * * * * * \n",
      "* * * * * \n",
      "* * * * \n",
      "* * * \n",
      "* * \n",
      "* \n"
     ]
    }
   ],
   "source": [
    "n=int(input(\"The given number is:\"))\n",
    "i=1\n",
    "while i<=n:\n",
    "    j=n\n",
    "    while j>=i:\n",
    "        print(\"*\",end=\" \")\n",
    "        j-=1\n",
    "    print(\"\")\n",
    "    i+=1"
   ]
  },
  {
   "cell_type": "code",
   "execution_count": 9,
   "id": "8070c7d2-4eab-43ed-a366-2307ff44c89c",
   "metadata": {},
   "outputs": [
    {
     "name": "stdout",
     "output_type": "stream",
     "text": [
      "The given number is: 8\n"
     ]
    },
    {
     "name": "stdout",
     "output_type": "stream",
     "text": [
      "* * * * * * * * \n",
      "* * * * * * * * \n",
      "* * * * * * * * \n",
      "* * * * * * * * \n",
      "* * * * * * * * \n",
      "* * * * * * * * \n",
      "* * * * * * * * \n",
      "* * * * * * * * \n"
     ]
    }
   ],
   "source": [
    "n=int(input(\"The given number is:\"))\n",
    "i=1\n",
    "while i<=n:\n",
    "    j=1\n",
    "    while j<=n:\n",
    "        print(\"*\",end=\" \")\n",
    "        j+=1\n",
    "    print(\"\")\n",
    "    i=i+1\n",
    "    "
   ]
  },
  {
   "cell_type": "markdown",
   "id": "6ccc41b5-6585-4829-a65d-dc1a4d150efc",
   "metadata": {},
   "source": [
    "7. Reverse a while loop to display numbers from 10 to 1 "
   ]
  },
  {
   "cell_type": "code",
   "execution_count": 12,
   "id": "59ba2d78-db3e-4dd4-8e03-58227eec8919",
   "metadata": {},
   "outputs": [
    {
     "name": "stdout",
     "output_type": "stream",
     "text": [
      "10\n",
      "9\n",
      "8\n",
      "7\n",
      "6\n",
      "5\n",
      "4\n",
      "3\n",
      "2\n",
      "1\n"
     ]
    }
   ],
   "source": [
    "i=10\n",
    "while i>=1:\n",
    "    print(i)\n",
    "    i-=1"
   ]
  },
  {
   "cell_type": "code",
   "execution_count": null,
   "id": "3037e671-cebe-423f-97f8-bf2718a06cf7",
   "metadata": {},
   "outputs": [],
   "source": []
  },
  {
   "cell_type": "markdown",
   "id": "876b4f33-5f9b-4cae-92c8-07dce3595800",
   "metadata": {},
   "source": [
    "8. Reverse a while loop to display numbers from 10 to 1 "
   ]
  },
  {
   "cell_type": "code",
   "execution_count": 13,
   "id": "4e6878c5-c4e4-4b9f-ac65-2fc9a17ec0fd",
   "metadata": {},
   "outputs": [
    {
     "name": "stdout",
     "output_type": "stream",
     "text": [
      "10\n",
      "9\n",
      "8\n",
      "7\n",
      "6\n",
      "5\n",
      "4\n",
      "3\n",
      "2\n",
      "1\n"
     ]
    }
   ],
   "source": [
    "i=10\n",
    "while i>=1:\n",
    "    print(i)\n",
    "    i-=1"
   ]
  }
 ],
 "metadata": {
  "kernelspec": {
   "display_name": "Python 3 (ipykernel)",
   "language": "python",
   "name": "python3"
  },
  "language_info": {
   "codemirror_mode": {
    "name": "ipython",
    "version": 3
   },
   "file_extension": ".py",
   "mimetype": "text/x-python",
   "name": "python",
   "nbconvert_exporter": "python",
   "pygments_lexer": "ipython3",
   "version": "3.10.8"
  }
 },
 "nbformat": 4,
 "nbformat_minor": 5
}
