{
  "nbformat": 4,
  "nbformat_minor": 0,
  "metadata": {
    "colab": {
      "provenance": []
    },
    "kernelspec": {
      "name": "python3",
      "display_name": "Python 3"
    },
    "language_info": {
      "name": "python"
    }
  },
  "cells": [
    {
      "cell_type": "markdown",
      "source": [
        "Q1. What are the characteristics of the tuples? Is tuple immutable?"
      ],
      "metadata": {
        "id": "TAaLhdSt-y8R"
      }
    },
    {
      "cell_type": "code",
      "source": [
        "\"\"\"Characteristics of tuples:\n",
        "- Tuples are ordered collections of elements.\n",
        "- They can contain elements of different data types.\n",
        "- Elements in a tuple are indexed and can be accessed by their position.\n",
        "- Tuples are defined using parentheses ().\n",
        "\n",
        "Yes, tuples are immutable, meaning their elements cannot be changed or modified after creation.\"\"\""
      ],
      "metadata": {
        "colab": {
          "base_uri": "https://localhost:8080/",
          "height": 55
        },
        "id": "1axWr57Q-0Cg",
        "outputId": "2682053b-63d2-45c3-bdd2-deb160145d26"
      },
      "execution_count": 35,
      "outputs": [
        {
          "output_type": "execute_result",
          "data": {
            "text/plain": [
              "'Characteristics of tuples:\\n- Tuples are ordered collections of elements.\\n- They can contain elements of different data types.\\n- Elements in a tuple are indexed and can be accessed by their position.\\n- Tuples are defined using parentheses ().\\n\\nYes, tuples are immutable, meaning their elements cannot be changed or modified after creation.'"
            ],
            "application/vnd.google.colaboratory.intrinsic+json": {
              "type": "string"
            }
          },
          "metadata": {},
          "execution_count": 35
        }
      ]
    },
    {
      "cell_type": "markdown",
      "source": [
        "Q2. What are the two tuple methods in python? Give an example of each method. Give a reason why  tuples have only two in-built methods as compared to Lists."
      ],
      "metadata": {
        "id": "owor7RgS_AsT"
      }
    },
    {
      "cell_type": "code",
      "source": [
        "# Two tuple methods in Python are:\n",
        "\n",
        "# 1. `count()`: This method returns the number of times a specified element appears in the tuple. Example:\n",
        "\n",
        "my_tuple = (1, 2, 2, 3, 4, 2)\n",
        "count = my_tuple.count(2)\n",
        "print(count)\n",
        "\n",
        "# 2. `index()`: This method returns the index of the first occurrence of a specified element in the tuple. Example:\n",
        "\n",
        "\n",
        "my_tuple = (10, 20, 30, 40, 50)\n",
        "index = my_tuple.index(30)\n",
        "print(index)\n",
        "\n",
        "\"\"\"\n",
        "Tuples have fewer built-in methods compared to lists because they are designed to be immutable.\n",
        " Since you cannot change the elements of a tuple after it is created,\n",
        "  there is no need for methods like `append()`, `insert()`, or `remove()`, which are commonly used with lists to modify their contents.\n",
        "  Tuples are primarily used when you need to store a collection of elements that should not change,\n",
        "   so their methods are focused on accessing and querying data rather than modifying it.\n",
        "    This simplicity and immutability make tuples suitable for use cases where data integrity and immutability are essential.\"\"\""
      ],
      "metadata": {
        "colab": {
          "base_uri": "https://localhost:8080/",
          "height": 128
        },
        "id": "8NxJZ19q_LXI",
        "outputId": "4409f0bf-f2e4-4952-ad6f-178ca887cfcf"
      },
      "execution_count": 36,
      "outputs": [
        {
          "output_type": "stream",
          "name": "stdout",
          "text": [
            "3\n",
            "2\n"
          ]
        },
        {
          "output_type": "execute_result",
          "data": {
            "text/plain": [
              "'\\nTuples have fewer built-in methods compared to lists because they are designed to be immutable.\\n Since you cannot change the elements of a tuple after it is created,\\n  there is no need for methods like `append()`, `insert()`, or `remove()`, which are commonly used with lists to modify their contents. \\n  Tuples are primarily used when you need to store a collection of elements that should not change,\\n   so their methods are focused on accessing and querying data rather than modifying it.\\n    This simplicity and immutability make tuples suitable for use cases where data integrity and immutability are essential.'"
            ],
            "application/vnd.google.colaboratory.intrinsic+json": {
              "type": "string"
            }
          },
          "metadata": {},
          "execution_count": 36
        }
      ]
    },
    {
      "cell_type": "markdown",
      "source": [
        "Q3.  Which collection datatypes in python do not allow duplicate items? Write a code using a set to remove  duplicates from the given list."
      ],
      "metadata": {
        "id": "G0rKuKpP_tRA"
      }
    },
    {
      "cell_type": "code",
      "source": [
        "# In Python, the collection datatype that does not allow duplicate items is a set.\n",
        "\n",
        "# Here's a code example that uses a set to remove duplicates from a given list:\n",
        "\n",
        "\n",
        "my_list = [1, 1, 1, 2, 1, 3, 1, 4, 2, 1, 2, 2, 2, 3, 2, 4, 3, 1, 3, 2, 3, 3, 3, 4, 4, 1, 4, 2, 4, 3, 4, 4]\n",
        "unique_list = list(set(my_list))\n",
        "print(unique_list)\n",
        "\n"
      ],
      "metadata": {
        "colab": {
          "base_uri": "https://localhost:8080/"
        },
        "id": "taYjKyOE_yCu",
        "outputId": "4ecbc6aa-ecd3-4062-f5f5-2445f0439f19"
      },
      "execution_count": 37,
      "outputs": [
        {
          "output_type": "stream",
          "name": "stdout",
          "text": [
            "[1, 2, 3, 4]\n"
          ]
        }
      ]
    },
    {
      "cell_type": "markdown",
      "source": [
        "Q4. Explain the difference between the union() and update() methods for a set. Give an example of  each method."
      ],
      "metadata": {
        "id": "OTyjhQphAaN0"
      }
    },
    {
      "cell_type": "code",
      "source": [
        "# 1.union() Method:\n",
        "# The union() method returns a new set that contains all the unique elements from the sets being operated on.\n",
        "# It does not modify the original sets but instead creates a new set as the result.\n",
        "# Duplicate elements are automatically removed in the resulting set.\n",
        "\n",
        "set1 = {1, 2, 3}\n",
        "set2 = {3, 4, 5}\n",
        "\n",
        "result = set1.union(set2)\n",
        "\n",
        "print(result)\n",
        "print(set1)\n",
        "print(set2)\n",
        "\n"
      ],
      "metadata": {
        "colab": {
          "base_uri": "https://localhost:8080/"
        },
        "id": "S-e1t_MzAbHt",
        "outputId": "dd225069-08c7-4434-b09e-d9cc09a6c84c"
      },
      "execution_count": 38,
      "outputs": [
        {
          "output_type": "stream",
          "name": "stdout",
          "text": [
            "{1, 2, 3, 4, 5}\n",
            "{1, 2, 3}\n",
            "{3, 4, 5}\n"
          ]
        }
      ]
    },
    {
      "cell_type": "code",
      "source": [
        "# 2.update() Method:\n",
        "# The update() method modifies the set on which it is called by adding all the elements from one or more iterable objects (e.g., sets, lists, tuples) to it.\n",
        "# It does not return a new set; instead, it updates the existing set in-place.\n",
        "\n",
        "set1 = {1, 2, 3}\n",
        "set2 = {3, 4, 5}\n",
        "\n",
        "set1.update(set2)\n",
        "\n",
        "print(set1)\n",
        "print(set2)\n"
      ],
      "metadata": {
        "colab": {
          "base_uri": "https://localhost:8080/"
        },
        "id": "rtOkIbo6BBKB",
        "outputId": "cb63bffd-9675-46dc-bd3d-5593e3e7c5f2"
      },
      "execution_count": 39,
      "outputs": [
        {
          "output_type": "stream",
          "name": "stdout",
          "text": [
            "{1, 2, 3, 4, 5}\n",
            "{3, 4, 5}\n"
          ]
        }
      ]
    },
    {
      "cell_type": "markdown",
      "source": [
        "Q5. What is a dictionary? Give an example. Also, state whether a dictionary is ordered or unordered."
      ],
      "metadata": {
        "id": "qm_FgKcVBfKk"
      }
    },
    {
      "cell_type": "code",
      "source": [
        "\"\"\"A dictionary, in the context of computer science and programming, is a data structure used to store collections of data in the form of key-value pairs.\n",
        " Each key in the dictionary is associated with a specific value. Dictionaries are also sometimes referred to as associative arrays or hash maps.\n",
        "\"\"\"\n",
        "# Example of a dictionary in Python:\n",
        "\n",
        "student_grades = {\n",
        "    \"Alice\": 92,\n",
        "    \"Bob\": 85,\n",
        "    \"Charlie\": 78,\n",
        "    \"David\": 95,\n",
        "    \"Eve\": 88\n",
        "}\n",
        "print(student_grades)\n",
        "\n",
        "# Dictionaries are typically unordered data structures."
      ],
      "metadata": {
        "colab": {
          "base_uri": "https://localhost:8080/"
        },
        "id": "NLeiFNbXBgNx",
        "outputId": "6fe82eec-40aa-4b5c-c92a-e83462574213"
      },
      "execution_count": 40,
      "outputs": [
        {
          "output_type": "stream",
          "name": "stdout",
          "text": [
            "{'Alice': 92, 'Bob': 85, 'Charlie': 78, 'David': 95, 'Eve': 88}\n"
          ]
        }
      ]
    },
    {
      "cell_type": "markdown",
      "source": [
        "Q6. Can we create a nested dictionary? If so, please give an example by creating a simple one-level  nested dictionary."
      ],
      "metadata": {
        "id": "LhOwJVt9CAj2"
      }
    },
    {
      "cell_type": "code",
      "source": [
        "\"\"\"Yes, you can create nested dictionaries in various programming languages, including Python.\n",
        " A nested dictionary is a dictionary that contains one or more other dictionaries as values for its keys.\n",
        "  This allows you to organize and store data in a hierarchical structure.\"\"\"\n",
        "\n",
        "# Here's an example of a simple one-level nested dictionary in Python:\n",
        "\n",
        "# Creating a one-level nested dictionary\n",
        "employee_info = {\n",
        "    \"John\": {\n",
        "        \"age\": 30,\n",
        "        \"position\": \"Manager\",\n",
        "        \"department\": \"Sales\"\n",
        "    },\n",
        "    \"Alice\": {\n",
        "        \"age\": 25,\n",
        "        \"position\": \"Developer\",\n",
        "        \"department\": \"Engineering\"\n",
        "    },\n",
        "    \"Bob\": {\n",
        "        \"age\": 35,\n",
        "        \"position\": \"Analyst\",\n",
        "        \"department\": \"Finance\"\n",
        "    }\n",
        "}\n",
        "print(employee_info)"
      ],
      "metadata": {
        "colab": {
          "base_uri": "https://localhost:8080/"
        },
        "id": "TRzjhNRECBJ6",
        "outputId": "e631dfe6-7222-4ab4-8d9f-4f180c92bdde"
      },
      "execution_count": 41,
      "outputs": [
        {
          "output_type": "stream",
          "name": "stdout",
          "text": [
            "{'John': {'age': 30, 'position': 'Manager', 'department': 'Sales'}, 'Alice': {'age': 25, 'position': 'Developer', 'department': 'Engineering'}, 'Bob': {'age': 35, 'position': 'Analyst', 'department': 'Finance'}}\n"
          ]
        }
      ]
    },
    {
      "cell_type": "markdown",
      "source": [
        "\n",
        "Q7. Using setdefault() method, create key named topics in the given dictionary and also add the value of  the key as this list ['Python', 'Machine Learning’, 'Deep Learning']\n",
        "dict1 = {'language' : 'Python', 'course': 'Data Science Masters'}"
      ],
      "metadata": {
        "id": "t_ZSO-dmCdE0"
      }
    },
    {
      "cell_type": "code",
      "source": [
        "dict1 = {'language': 'Python', 'course': 'Data Science Masters'}\n",
        "\n",
        "# Using setdefault() to add the 'topics' key with the specified list as its value\n",
        "dict1.setdefault('topics', ['Python', 'Machine Learning', 'Deep Learning'])\n",
        "\n",
        "\n",
        "print(dict1)\n"
      ],
      "metadata": {
        "colab": {
          "base_uri": "https://localhost:8080/"
        },
        "id": "BHdJdGFTCd0j",
        "outputId": "ea27eb70-6b68-4437-9c03-cf896e697bf4"
      },
      "execution_count": 42,
      "outputs": [
        {
          "output_type": "stream",
          "name": "stdout",
          "text": [
            "{'language': 'Python', 'course': 'Data Science Masters', 'topics': ['Python', 'Machine Learning', 'Deep Learning']}\n"
          ]
        }
      ]
    },
    {
      "cell_type": "markdown",
      "source": [
        "Q8. What are the three view objects in dictionaries? Use the three in-built methods in python to display  these three view objects for the given dictionary.\n",
        "dict1 = {'Sport': 'Cricket' , 'Teams': ['India', 'Australia', 'England', 'South Africa', 'Sri Lanka', 'New Zealand']}"
      ],
      "metadata": {
        "id": "1EnC32shCwAs"
      }
    },
    {
      "cell_type": "code",
      "source": [
        "\"\"\"In Python, dictionaries have three built-in view objects that allow you to access various aspects of the dictionary without creating new data structures.\n",
        " The three view objects are:\"\"\"\n",
        "\n",
        "# dict_keys: This view object contains all the keys of the dictionary.\n",
        "# dict_values: This view object contains all the values of the dictionary.\n",
        "# dict_items: This view object contains all the key-value pairs (items) of the dictionary as tuples.\n",
        "\n",
        "dict1 = {'Sport': 'Cricket', 'Teams': ['India', 'Australia', 'England', 'South Africa', 'Sri Lanka', 'New Zealand']}\n",
        "\n",
        "# Get and display the dict_keys view object\n",
        "keys_view = dict1.keys()\n",
        "print(\"dict_keys view object:\", keys_view)\n",
        "\n",
        "# Get and display the dict_values view object\n",
        "values_view = dict1.values()\n",
        "print(\"\\ndict_values view object:\", values_view)\n",
        "\n",
        "# Get and display the dict_items view object\n",
        "items_view = dict1.items()\n",
        "print(\"\\ndict_items view object:\", items_view)\n",
        "\n"
      ],
      "metadata": {
        "colab": {
          "base_uri": "https://localhost:8080/"
        },
        "id": "2r51NJC3Cw4q",
        "outputId": "3e901fc0-b734-4f2a-8752-ac87c395903f"
      },
      "execution_count": 43,
      "outputs": [
        {
          "output_type": "stream",
          "name": "stdout",
          "text": [
            "dict_keys view object: dict_keys(['Sport', 'Teams'])\n",
            "\n",
            "dict_values view object: dict_values(['Cricket', ['India', 'Australia', 'England', 'South Africa', 'Sri Lanka', 'New Zealand']])\n",
            "\n",
            "dict_items view object: dict_items([('Sport', 'Cricket'), ('Teams', ['India', 'Australia', 'England', 'South Africa', 'Sri Lanka', 'New Zealand'])])\n"
          ]
        }
      ]
    }
  ]
}