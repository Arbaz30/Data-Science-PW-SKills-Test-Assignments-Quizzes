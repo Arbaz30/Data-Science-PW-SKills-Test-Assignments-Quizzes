{
  "nbformat": 4,
  "nbformat_minor": 0,
  "metadata": {
    "colab": {
      "provenance": []
    },
    "kernelspec": {
      "name": "python3",
      "display_name": "Python 3"
    },
    "language_info": {
      "name": "python"
    }
  },
  "cells": [
    {
      "cell_type": "markdown",
      "source": [
        "# Q1. What is Flask Framework? What are the advantages of Flask Framework?"
      ],
      "metadata": {
        "id": "Hn6fi78_hyLg"
      }
    },
    {
      "cell_type": "markdown",
      "source": [
        "**Flask** is a lightweight and micro web framework for Python. It's designed to make it easy to build web applications, APIs, and other web services with minimal overhead and a simple, expressive syntax. Flask is classified as a micro-framework because it provides the essential components for building web applications but leaves a lot of decisions and additional functionality up to the developer.\n",
        "\n",
        "**Advantages of Flask Framework:**\n",
        "\n",
        "1. **Simplicity:** Flask is known for its simplicity. It has a minimalistic and straightforward design, making it easy for developers to get started quickly. The framework doesn't impose unnecessary complexity or dependencies.\n",
        "\n",
        "2. **Flexibility:** Flask allows developers to choose the tools and libraries they need for their specific projects. It doesn't force any particular structure, template engine, or database model, giving developers the freedom to build applications according to their requirements.\n",
        "\n",
        "3. **Modularity:** Flask's design is highly modular. It provides the basics for web development, such as routing, request handling, and template rendering, but you can easily add extensions and libraries for additional functionality as needed.\n",
        "\n",
        "4. **Large Ecosystem:** Flask has a thriving ecosystem of extensions and libraries developed by the community, which can be easily integrated into Flask applications. These extensions cover a wide range of functionalities, from authentication to database integration.\n",
        "\n",
        "5. **Werkzeug and Jinja2:** Flask is built on top of two powerful libraries, Werkzeug for request handling and routing, and Jinja2 for templating. These libraries are well-maintained and provide robust features for web development.\n",
        "\n",
        "6. **Pythonic:** Flask follows the Python programming principles and idioms, making it very Pythonic. Developers familiar with Python find Flask's code and conventions easy to understand.\n",
        "\n",
        "7. **RESTful Support:** Flask is suitable for building RESTful web services and APIs. It provides a solid foundation for creating web-based APIs with clean and predictable URLs.\n",
        "\n",
        "8. **Development Server:** Flask comes with a built-in development server that allows you to quickly test and iterate on your application during development without the need for additional configuration.\n",
        "\n",
        "9. **Community and Documentation:** Flask has a vibrant and active community, and it offers extensive documentation and tutorials, making it easy for developers to find resources and get help when needed.\n",
        "\n",
        "10. **Scalability:** While Flask is great for small to medium-sized projects, it's also scalable for more substantial applications. It doesn't impose constraints that hinder growth.\n",
        "\n",
        "11. **Open Source:** Flask is open source and has a permissive BSD license, which means you can use it freely in commercial projects.\n",
        "\n",
        "Flask's simplicity, flexibility, and Pythonic design make it an excellent choice for developers who want to create web applications or APIs with minimal overhead and a high degree of control over the development process."
      ],
      "metadata": {
        "id": "-3QwLbOOhzUy"
      }
    },
    {
      "cell_type": "markdown",
      "source": [
        "# Q2. Create a simple Flask application to display ‘Hello World!!’. Attach the screenshot of the output in Jupyter Notebook."
      ],
      "metadata": {
        "id": "od1_qIizh6OX"
      }
    },
    {
      "cell_type": "markdown",
      "source": [],
      "metadata": {
        "id": "RMMU2DfRiDZQ"
      }
    },
    {
      "cell_type": "code",
      "source": [
        "from flask import Flask\n",
        "\n",
        "app = Flask(__name__)\n",
        "\n",
        "@app.route('/')\n",
        "def hello_world():\n",
        "    return 'Hello World!!'\n",
        "\n",
        "if __name__ == '__main__':\n",
        "    app.run()\n"
      ],
      "metadata": {
        "colab": {
          "base_uri": "https://localhost:8080/"
        },
        "id": "UcjK7BIsiJhq",
        "outputId": "7e1ec9ea-1dde-4dc8-cb41-9a5c8141cc44"
      },
      "execution_count": null,
      "outputs": [
        {
          "output_type": "stream",
          "name": "stdout",
          "text": [
            " * Serving Flask app '__main__'\n",
            " * Debug mode: off\n"
          ]
        },
        {
          "output_type": "stream",
          "name": "stderr",
          "text": [
            "INFO:werkzeug:\u001b[31m\u001b[1mWARNING: This is a development server. Do not use it in a production deployment. Use a production WSGI server instead.\u001b[0m\n",
            " * Running on http://127.0.0.1:5000\n",
            "INFO:werkzeug:\u001b[33mPress CTRL+C to quit\u001b[0m\n"
          ]
        }
      ]
    },
    {
      "cell_type": "markdown",
      "source": [
        "# Q3. What is App routing in Flask? Why do we use app routes?"
      ],
      "metadata": {
        "id": "VVB9zl3ciYiF"
      }
    },
    {
      "cell_type": "code",
      "source": [
        "@app.route('/')\n",
        "def home():\n",
        "    return 'This is the home page.'\n"
      ],
      "metadata": {
        "id": "23VyrYciij33"
      },
      "execution_count": null,
      "outputs": []
    },
    {
      "cell_type": "markdown",
      "source": [
        "Why do we use app routes in Flask?\n",
        "\n",
        "URL Handling: App routes in Flask are used to handle different URLs within a web application. This allows you to define what should happen when a user accesses specific URLs.\n",
        "\n",
        "Route to Function Mapping: Routes define the mapping between URLs and Python functions. When a user accesses a particular URL, Flask will call the associated function to generate the HTTP response.\n",
        "\n",
        "Modular Code: Using app routes makes your code more modular and organized. Each route corresponds to a specific feature or functionality of your application. This modular structure is easier to manage as your application grows.\n",
        "\n",
        "Clean and Readable Code: Flask's route decorators make code more readable. Developers can quickly understand what each part of the application does by looking at the route definitions.\n",
        "\n",
        "Dynamic URLs: Flask allows you to create dynamic URLs with placeholders. For example, you can define routes like /user/<username>, and the function associated with it can access the value of username from the URL.\n",
        "\n",
        "Parameterized Routing: You can pass parameters to route functions, which allows you to extract data from the URL or request (e.g., form data or query parameters) and use it in your application logic.\n",
        "\n",
        "RESTful APIs: Routes are essential for creating RESTful APIs. Each route can correspond to a specific API endpoint and map to functions that handle HTTP methods (GET, POST, PUT, DELETE) and return data in a specified format (e.g., JSON).\n",
        "\n",
        "Separation of Concerns: Routes help in separating different concerns of your web application. For example, you can have routes for user authentication, data retrieval, data manipulation, and rendering templates.\n",
        "\n",
        "Ease of Maintenance: When you use Flask's routing system, making changes to specific URL paths or adding new features becomes more straightforward. You can extend your application by defining new routes and route functions without affecting existing code.\n",
        "\n",
        "\n",
        "\n",
        "\n",
        "\n"
      ],
      "metadata": {
        "id": "6FmO7Kj9imDM"
      }
    },
    {
      "cell_type": "markdown",
      "source": [
        "# Q4. Create a “/welcome” route to display the welcome message “Welcome to ABC Corporation” and a “/”\n",
        "# route to show the following details:\n",
        "# Company Name: ABC Corporation\n",
        "# Location: India\n",
        "# Contact Detail: 999-999-9999"
      ],
      "metadata": {
        "id": "gtN6AeCCirlw"
      }
    },
    {
      "cell_type": "code",
      "source": [
        "from flask import Flask\n",
        "\n",
        "app = Flask(__name__)\n",
        "\n",
        "# Route to display the welcome message\n",
        "@app.route('/welcome')\n",
        "def welcome():\n",
        "    return 'Welcome to ABC Corporation'\n",
        "\n",
        "# Route to display company details\n",
        "@app.route('/')\n",
        "def company_details():\n",
        "    return '''Company Name: ABC Corporation\n",
        "    Location: India\n",
        "    Contact Detail: 999-999-9999'''\n",
        "\n",
        "if __name__ == '__main__':\n",
        "    app.run()\n"
      ],
      "metadata": {
        "id": "Fc83YJvrjBt9"
      },
      "execution_count": null,
      "outputs": []
    },
    {
      "cell_type": "markdown",
      "source": [
        "# Q5. What function is used in Flask for URL Building? Write a Python code to demonstrate the working of the\n",
        "# url_for() function."
      ],
      "metadata": {
        "id": "IUIDj5uBjDfo"
      }
    },
    {
      "cell_type": "code",
      "source": [
        "from flask import Flask, render_template, url_for\n",
        "\n",
        "app = Flask(__name)\n",
        "\n",
        "@app.route('/')\n",
        "def index():\n",
        "    return render_template('index.html')\n",
        "\n",
        "@app.route('/about')\n",
        "def about():\n",
        "    return render_template('index.html')\n",
        "\n",
        "if __name__ == '__main__':\n",
        "    app.run()\n"
      ],
      "metadata": {
        "id": "ylef-VW9jKeD"
      },
      "execution_count": null,
      "outputs": []
    }
  ]
}