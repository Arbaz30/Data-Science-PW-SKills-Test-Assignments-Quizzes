{
  "nbformat": 4,
  "nbformat_minor": 0,
  "metadata": {
    "colab": {
      "provenance": []
    },
    "kernelspec": {
      "name": "python3",
      "display_name": "Python 3"
    },
    "language_info": {
      "name": "python"
    }
  },
  "cells": [
    {
      "cell_type": "code",
      "execution_count": 9,
      "metadata": {
        "id": "dPXkyWHv1wNA"
      },
      "outputs": [],
      "source": []
    },
    {
      "cell_type": "markdown",
      "source": [
        "# Assignment Questions"
      ],
      "metadata": {
        "id": "bLyUCw1C17Gq"
      }
    },
    {
      "cell_type": "markdown",
      "source": [
        "Q1. Which keyword is used to create a function? Create a function to return a list of odd numbers in the  range of 1 to 25."
      ],
      "metadata": {
        "id": "_Eajps2J2aPO"
      }
    },
    {
      "cell_type": "code",
      "source": [
        "# In Python, we use the def keyword to create a function.\n",
        "def odd_nums():\n",
        "  odd = []\n",
        "  for i in range(1,26):\n",
        "    if i % 2 == 1 :\n",
        "      odd.append(i)\n",
        "  return odd\n",
        "odd_numbers_list = odd_nums()\n",
        "print(odd_numbers_list)\n"
      ],
      "metadata": {
        "colab": {
          "base_uri": "https://localhost:8080/"
        },
        "id": "JyLQ6HVz1-pG",
        "outputId": "5d51e9d8-ff5c-41bb-ff34-560a7378a8f2"
      },
      "execution_count": 10,
      "outputs": [
        {
          "output_type": "stream",
          "name": "stdout",
          "text": [
            "[1, 3, 5, 7, 9, 11, 13, 15, 17, 19, 21, 23, 25]\n"
          ]
        }
      ]
    },
    {
      "cell_type": "code",
      "source": [],
      "metadata": {
        "id": "qUWCJ2sU3xYs"
      },
      "execution_count": 10,
      "outputs": []
    },
    {
      "cell_type": "markdown",
      "source": [
        "Q2. Why *args and **kwargs is used in some functions? Create a function each for *args and **kwargs to  demonstrate their use."
      ],
      "metadata": {
        "id": "wjJkGwCm308O"
      }
    },
    {
      "cell_type": "code",
      "source": [
        "\"\"\"In Python, *args and **kwargs are used to work with variable-length argument lists in functions.\n",
        " They allow you to pass a varying number of positional arguments and keyword arguments to a function,\n",
        "  respectively. This can be helpful when you don't know in advance how many arguments will be passed to the function.\"\"\""
      ],
      "metadata": {
        "colab": {
          "base_uri": "https://localhost:8080/",
          "height": 55
        },
        "id": "tBkRMywv32ea",
        "outputId": "38708317-bec8-451f-86a1-8098c09c664e"
      },
      "execution_count": 11,
      "outputs": [
        {
          "output_type": "execute_result",
          "data": {
            "text/plain": [
              "\"In Python, *args and **kwargs are used to work with variable-length argument lists in functions.\\n They allow you to pass a varying number of positional arguments and keyword arguments to a function,\\n  respectively. This can be helpful when you don't know in advance how many arguments will be passed to the function.\""
            ],
            "application/vnd.google.colaboratory.intrinsic+json": {
              "type": "string"
            }
          },
          "metadata": {},
          "execution_count": 11
        }
      ]
    },
    {
      "cell_type": "code",
      "source": [
        "# *args allows you to pass a variable number of positional arguments to a function. These arguments are collected into a tuple within the function.\n",
        "\n",
        "def add_numbers(*args):\n",
        "    result = 0\n",
        "    for num in args:\n",
        "        result += num\n",
        "    return result\n",
        "\n",
        "# Example usage\n",
        "sum_result = add_numbers(1, 2, 3, 4, 5)\n",
        "print(sum_result)"
      ],
      "metadata": {
        "colab": {
          "base_uri": "https://localhost:8080/"
        },
        "id": "oxqIHtNC4okq",
        "outputId": "9f882770-ac1e-4500-e560-061c2e3b71fa"
      },
      "execution_count": 12,
      "outputs": [
        {
          "output_type": "stream",
          "name": "stdout",
          "text": [
            "15\n"
          ]
        }
      ]
    },
    {
      "cell_type": "code",
      "source": [
        "# **kwargs allows you to pass a variable number of keyword arguments to a function. These arguments are collected into a dictionary within the function.\n",
        "\n",
        "def print_info(**kwargs):\n",
        "    for key, value in kwargs.items():\n",
        "        print(f\"{key}: {value}\")\n",
        "\n",
        "# Example usage\n",
        "print_info(name=\"John\", age=30, city=\"New York\")\n"
      ],
      "metadata": {
        "colab": {
          "base_uri": "https://localhost:8080/"
        },
        "id": "Gaun0SoI4sal",
        "outputId": "be6bd7ef-9641-45c6-baf6-63d08d485d9f"
      },
      "execution_count": 13,
      "outputs": [
        {
          "output_type": "stream",
          "name": "stdout",
          "text": [
            "name: John\n",
            "age: 30\n",
            "city: New York\n"
          ]
        }
      ]
    },
    {
      "cell_type": "markdown",
      "source": [
        "Q3.  What is an iterator in python? Name the method used to initialise the iterator object and the method  used for iteration. Use these methods to print the first five elements of the given list [2, 4, 6, 8, 10, 12, 14, 16,  18, 20]."
      ],
      "metadata": {
        "id": "LkygPhb45RTQ"
      }
    },
    {
      "cell_type": "code",
      "source": [
        "\"\"\"In Python, an iterator is an object that allows you to iterate (loop) over a collection of elements, such as a list,\n",
        "tuple, dictionary, or any other iterable object. An iterator provides two primary methods:\n",
        "\n",
        "1.Initialization Method: To create an iterator object from an iterable, you use the iter() method.\n",
        "\n",
        "2.Iteration Method: To iterate over the elements of the collection, you use the next() method.\"\"\""
      ],
      "metadata": {
        "colab": {
          "base_uri": "https://localhost:8080/",
          "height": 73
        },
        "id": "P6pcuGcs5GM8",
        "outputId": "9ad18db2-d222-4841-d712-d97431dce5c2"
      },
      "execution_count": 14,
      "outputs": [
        {
          "output_type": "execute_result",
          "data": {
            "text/plain": [
              "'In Python, an iterator is an object that allows you to iterate (loop) over a collection of elements, such as a list, \\ntuple, dictionary, or any other iterable object. An iterator provides two primary methods:\\n\\n1.Initialization Method: To create an iterator object from an iterable, you use the iter() method.\\n\\n2.Iteration Method: To iterate over the elements of the collection, you use the next() method.'"
            ],
            "application/vnd.google.colaboratory.intrinsic+json": {
              "type": "string"
            }
          },
          "metadata": {},
          "execution_count": 14
        }
      ]
    },
    {
      "cell_type": "code",
      "source": [
        "# Create an iterator object from the list\n",
        "my_list = [2, 4, 6, 8, 10, 12, 14, 16, 18, 20]\n",
        "iterator = iter(my_list)\n",
        "\n",
        "# Print the first five elements using the next() method\n",
        "for _ in range(5):\n",
        "    element = next(iterator)\n",
        "    print(element)\n"
      ],
      "metadata": {
        "colab": {
          "base_uri": "https://localhost:8080/"
        },
        "id": "rp8X4ddP5T7c",
        "outputId": "6d437d24-2fa6-443e-a8fe-ee483ba8ee50"
      },
      "execution_count": 15,
      "outputs": [
        {
          "output_type": "stream",
          "name": "stdout",
          "text": [
            "2\n",
            "4\n",
            "6\n",
            "8\n",
            "10\n"
          ]
        }
      ]
    },
    {
      "cell_type": "markdown",
      "source": [
        "Q4.  What is a generator function in python? Why yield keyword is used? Give an example of a generator  function.\n"
      ],
      "metadata": {
        "id": "939_o6Jb56P1"
      }
    },
    {
      "cell_type": "code",
      "source": [
        "\"\"\"A generator function in Python is a special type of function that generates a sequence of values on-the-fly using the yield keyword.\n",
        " Instead of returning a single result, it can yield multiple values one at a time, allowing efficient iteration over large datasets without storing them in memory.\"\"\""
      ],
      "metadata": {
        "colab": {
          "base_uri": "https://localhost:8080/",
          "height": 55
        },
        "id": "f89-tTry52-c",
        "outputId": "e7ec9b17-1b25-4810-c615-e1e863128a8e"
      },
      "execution_count": 16,
      "outputs": [
        {
          "output_type": "execute_result",
          "data": {
            "text/plain": [
              "'A generator function in Python is a special type of function that generates a sequence of values on-the-fly using the yield keyword.\\n Instead of returning a single result, it can yield multiple values one at a time, allowing efficient iteration over large datasets without storing them in memory.'"
            ],
            "application/vnd.google.colaboratory.intrinsic+json": {
              "type": "string"
            }
          },
          "metadata": {},
          "execution_count": 16
        }
      ]
    },
    {
      "cell_type": "code",
      "source": [
        "# Example of a generator function:\n",
        "def countdown(n):\n",
        "    while n > 0:\n",
        "        yield n\n",
        "        n -= 1\n",
        "\n",
        "# Usage\n",
        "for i in countdown(5):\n",
        "    print(i)\n"
      ],
      "metadata": {
        "colab": {
          "base_uri": "https://localhost:8080/"
        },
        "id": "sYkpD-sj6H5r",
        "outputId": "a80c826a-d939-417d-902a-35fd3dd97593"
      },
      "execution_count": 17,
      "outputs": [
        {
          "output_type": "stream",
          "name": "stdout",
          "text": [
            "5\n",
            "4\n",
            "3\n",
            "2\n",
            "1\n"
          ]
        }
      ]
    },
    {
      "cell_type": "markdown",
      "source": [
        "Q5. Create a generator function for prime numbers less than 1000. Use the next() method to print the  first 20 prime numbers."
      ],
      "metadata": {
        "id": "CtxUl8u46TAO"
      }
    },
    {
      "cell_type": "code",
      "source": [
        "def is_prime(num):\n",
        "    if num <= 1:\n",
        "        return False\n",
        "    for i in range(2, int(num**0.5) + 1):\n",
        "        if num % i == 0:\n",
        "            return False\n",
        "    return True\n",
        "\n",
        "def generate_primes():\n",
        "    num = 2\n",
        "    count = 0\n",
        "    while count < 20:\n",
        "        if is_prime(num):\n",
        "            yield num\n",
        "            count += 1\n",
        "        num += 1\n",
        "\n",
        "prime_generator = generate_primes()\n",
        "\n",
        "for _ in range(20):\n",
        "    prime = next(prime_generator)\n",
        "    print(prime)\n"
      ],
      "metadata": {
        "colab": {
          "base_uri": "https://localhost:8080/"
        },
        "id": "OUtq50Dq6T82",
        "outputId": "afed756a-0407-432d-9690-878822760910"
      },
      "execution_count": 18,
      "outputs": [
        {
          "output_type": "stream",
          "name": "stdout",
          "text": [
            "2\n",
            "3\n",
            "5\n",
            "7\n",
            "11\n",
            "13\n",
            "17\n",
            "19\n",
            "23\n",
            "29\n",
            "31\n",
            "37\n",
            "41\n",
            "43\n",
            "47\n",
            "53\n",
            "59\n",
            "61\n",
            "67\n",
            "71\n"
          ]
        }
      ]
    }
  ]
}