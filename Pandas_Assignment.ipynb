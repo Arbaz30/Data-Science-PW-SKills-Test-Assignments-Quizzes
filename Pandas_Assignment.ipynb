{
  "nbformat": 4,
  "nbformat_minor": 0,
  "metadata": {
    "colab": {
      "provenance": []
    },
    "kernelspec": {
      "name": "python3",
      "display_name": "Python 3"
    },
    "language_info": {
      "name": "python"
    }
  },
  "cells": [
    {
      "cell_type": "markdown",
      "source": [
        "**Q1. List any five functions of the pandas library with execution**\n",
        "\n",
        "Certainly, here are the names of five functions from the Pandas library:\n",
        "\n",
        "1. `pd.read_csv()`\n",
        "2. `DataFrame.head()`\n",
        "3. `DataFrame.describe()`\n",
        "4. `DataFrame.groupby()`\n",
        "5. `DataFrame.to_csv()`"
      ],
      "metadata": {
        "id": "Vbj0rue-adM1"
      }
    },
    {
      "cell_type": "markdown",
      "source": [
        "**Q2. Given a Pandas DataFrame df with columns 'A', 'B', and 'C', write a Python function to re-index the DataFrame with a new index that starts from 1 and increments by 2 for each row.**\n"
      ],
      "metadata": {
        "id": "n4ShD7fAa2wI"
      }
    },
    {
      "cell_type": "code",
      "source": [
        "import pandas as pd\n",
        "\n",
        "def reindex_dataframe(df):\n",
        "    # Create a new index starting from 1 and incrementing by 2\n",
        "    new_index = range(1, 2 * len(df) + 1, 2)\n",
        "\n",
        "    # Set the new index to the DataFrame\n",
        "    df = df.set_index(pd.Index(new_index))\n",
        "\n",
        "    return df\n",
        "\n",
        "# Sample DataFrame with columns 'A', 'B', and 'C'\n",
        "data = {'A': [10, 20, 30, 40],\n",
        "        'B': [15, 25, 35, 45],\n",
        "        'C': [12, 22, 32, 42]}\n",
        "df = pd.DataFrame(data)\n",
        "\n",
        "# Re-index the DataFrame\n",
        "df = reindex_dataframe(df)\n",
        "print(df)\n"
      ],
      "metadata": {
        "colab": {
          "base_uri": "https://localhost:8080/"
        },
        "id": "PJkCF-rla8V1",
        "outputId": "cfb9893f-d163-440b-8c45-040cdfa2eadd"
      },
      "execution_count": 1,
      "outputs": [
        {
          "output_type": "stream",
          "name": "stdout",
          "text": [
            "    A   B   C\n",
            "1  10  15  12\n",
            "3  20  25  22\n",
            "5  30  35  32\n",
            "7  40  45  42\n"
          ]
        }
      ]
    },
    {
      "cell_type": "markdown",
      "source": [
        "**Q3. You have a Pandas DataFrame df with a column named 'Values'. Write a Python function that iterates over the DataFrame and calculates the sum of the first three values in the 'Values' column. The function should print the sum to the console.**\n",
        "\n",
        "**For example, if the 'Values' column of df contains the values [10, 20, 30, 40, 50], your function should calculate and print the sum of the first three values, which is 60.**"
      ],
      "metadata": {
        "id": "0DzOw9VhbAa_"
      }
    },
    {
      "cell_type": "code",
      "source": [
        "import pandas as pd\n",
        "\n",
        "def calculate_sum_of_first_three_values(df):\n",
        "    # Check if the 'Values' column exists in the DataFrame\n",
        "    if 'Values' in df.columns:\n",
        "        # Extract the 'Values' column\n",
        "        values_column = df['Values']\n",
        "\n",
        "        # Calculate the sum of the first three values\n",
        "        sum_of_first_three_values = values_column.head(3).sum()\n",
        "\n",
        "        # Print the sum to the console\n",
        "        print(\"Sum of the first three values:\", sum_of_first_three_values)\n",
        "    else:\n",
        "        print(\"The 'Values' column does not exist in the DataFrame.\")\n",
        "\n",
        "# Sample DataFrame with a 'Values' column\n",
        "data = {'Values': [10, 20, 30, 40, 50]}\n",
        "df = pd.DataFrame(data)\n",
        "\n",
        "# Calculate and print the sum of the first three values\n",
        "calculate_sum_of_first_three_values(df)\n"
      ],
      "metadata": {
        "colab": {
          "base_uri": "https://localhost:8080/"
        },
        "id": "5_VffBxXbHPU",
        "outputId": "66fddebd-aeef-4d95-b9f9-88156d5f7b99"
      },
      "execution_count": 3,
      "outputs": [
        {
          "output_type": "stream",
          "name": "stdout",
          "text": [
            "Sum of the first three values: 60\n"
          ]
        }
      ]
    },
    {
      "cell_type": "markdown",
      "source": [
        "**Q4. Given a Pandas DataFrame df with a column 'Text', write a Python function to create a new column 'Word_Count' that contains the number of words in each row of the 'Text' column.**"
      ],
      "metadata": {
        "id": "w9IAYLHTbdfV"
      }
    },
    {
      "cell_type": "code",
      "source": [
        "import pandas as pd\n",
        "\n",
        "def add_word_count_column(df):\n",
        "    # Check if the 'Text' column exists in the DataFrame\n",
        "    if 'Text' in df.columns:\n",
        "        # Split each row in the 'Text' column into words and count them\n",
        "        df['Word_Count'] = df['Text'].apply(lambda x: len(x.split()))\n",
        "    else:\n",
        "        print(\"The 'Text' column does not exist in the DataFrame.\")\n",
        "\n",
        "# Sample DataFrame with a 'Text' column\n",
        "data = {'Text': [\"This is a sample sentence.\",\n",
        "                 \"Count the words in this text.\",\n",
        "                 \"Another example of word count.\"]}\n",
        "df = pd.DataFrame(data)\n",
        "\n",
        "# Add the 'Word_Count' column to the DataFrame\n",
        "add_word_count_column(df)\n",
        "\n",
        "# Display the updated DataFrame\n",
        "print(df)\n"
      ],
      "metadata": {
        "colab": {
          "base_uri": "https://localhost:8080/"
        },
        "id": "f7ym3E5PbhYu",
        "outputId": "fd84b193-32fe-4456-dd93-2d71bfedcac9"
      },
      "execution_count": 4,
      "outputs": [
        {
          "output_type": "stream",
          "name": "stdout",
          "text": [
            "                             Text  Word_Count\n",
            "0      This is a sample sentence.           5\n",
            "1   Count the words in this text.           6\n",
            "2  Another example of word count.           5\n"
          ]
        }
      ]
    },
    {
      "cell_type": "markdown",
      "source": [
        "**Q5. How are DataFrame.size() and DataFrame.shape() different?**\n",
        "\n",
        "In Pandas, `DataFrame.size` and `DataFrame.shape` are two different attributes of a DataFrame that provide different types of information about the DataFrame:\n",
        "\n",
        "1. `DataFrame.size`:\n",
        "   - `DataFrame.size` returns the total number of elements in the DataFrame, which is equivalent to the product of the number of rows and the number of columns.\n",
        "   - It gives the total number of cells or data points in the DataFrame.\n",
        "   - It returns a single integer value.\n",
        "\n",
        "2. `DataFrame.shape`:\n",
        "   - `DataFrame.shape` returns a tuple representing the dimensions of the DataFrame, where the first element of the tuple is the number of rows, and the second element is the number of columns.\n",
        "   - It provides information about the structure of the DataFrame, specifying how many rows and columns it has.\n",
        "   - It returns a tuple of two integers.\n"
      ],
      "metadata": {
        "id": "ipQ2utFvblfq"
      }
    },
    {
      "cell_type": "markdown",
      "source": [
        "**Q6. Which function of pandas do we use to read an excel file?**\n",
        "\n",
        "In Pandas, you can use the `pd.read_excel()` function to read data from an Excel file. This function allows you to read Excel files and create a DataFrame from the data within the file."
      ],
      "metadata": {
        "id": "FoOQTyR5b9-p"
      }
    },
    {
      "cell_type": "markdown",
      "source": [
        "**Q7. You have a Pandas DataFrame df that contains a column named 'Email' that contains email addresses in the format 'username@domain.com'. Write a Python function that creates a new column 'Username' in df that contains only the username part of each email address.**\n",
        "\n",
        "**The username is the part of the email address that appears before the '@' symbol. For example, if the email address is 'john.doe@example.com', the 'Username' column should contain 'john.doe'. Your function should extract the username from each email address and store it in the new 'Username' column.**"
      ],
      "metadata": {
        "id": "V1joSHbHcLqz"
      }
    },
    {
      "cell_type": "code",
      "source": [
        "import pandas as pd\n",
        "\n",
        "def extract_username_from_email(df):\n",
        "    # Check if the 'Email' column exists in the DataFrame\n",
        "    if 'Email' in df.columns:\n",
        "        # Extract the username part using a lambda function and the str.split method\n",
        "        df['Username'] = df['Email'].apply(lambda email: email.split('@')[0])\n",
        "    else:\n",
        "        print(\"The 'Email' column does not exist in the DataFrame.\")\n",
        "\n",
        "# Sample DataFrame with an 'Email' column\n",
        "data = {'Email': ['john.doe@example.com', 'jane.smith@example.com', 'alice.wonderland@example.com']}\n",
        "df = pd.DataFrame(data)\n",
        "\n",
        "# Extract and add the 'Username' column to the DataFrame\n",
        "extract_username_from_email(df)\n",
        "\n",
        "# Display the updated DataFrame\n",
        "print(df)\n"
      ],
      "metadata": {
        "colab": {
          "base_uri": "https://localhost:8080/"
        },
        "id": "k3cEwzJUcSDh",
        "outputId": "d45fdd17-34b7-41f2-832b-4d03ac79f6f2"
      },
      "execution_count": 7,
      "outputs": [
        {
          "output_type": "stream",
          "name": "stdout",
          "text": [
            "                          Email          Username\n",
            "0          john.doe@example.com          john.doe\n",
            "1        jane.smith@example.com        jane.smith\n",
            "2  alice.wonderland@example.com  alice.wonderland\n"
          ]
        }
      ]
    },
    {
      "cell_type": "markdown",
      "source": [
        "Q8. You have a Pandas DataFrame df with columns 'A', 'B', and 'C'. Write a Python function that selects\n",
        "all rows where the value in column 'A' is greater than 5 and the value in column 'B' is less than 10. The\n",
        "function should return a new DataFrame that contains only the selected rows.\n",
        "For example, if df contains the following values:\n",
        "A B C\n",
        "0 3 5 1\n",
        "1 8 2 7\n",
        "2 6 9 4\n",
        "3 2 3 5\n",
        "4 9 1 2\n",
        "Your function should select the following rows: A B C\n",
        "1 8 2 7\n",
        "4 9 1 2\n",
        "The function should return a new DataFrame that contains only the selected rows."
      ],
      "metadata": {
        "id": "CB70coXncx8d"
      }
    },
    {
      "cell_type": "code",
      "source": [
        "import pandas as pd\n",
        "\n",
        "def filter_dataframe(df):\n",
        "    # Check if the columns 'A' and 'B' exist in the DataFrame\n",
        "    if 'A' in df.columns and 'B' in df.columns:\n",
        "        # Use boolean indexing to filter rows where 'A' > 5 and 'B' < 10\n",
        "        selected_rows = df[(df['A'] > 5) & (df['B'] < 10)]\n",
        "        return selected_rows\n",
        "    else:\n",
        "        print(\"The 'A' and/or 'B' columns do not exist in the DataFrame.\")\n",
        "        return None\n",
        "\n",
        "# Sample DataFrame with columns 'A', 'B', and 'C'\n",
        "data = {'A': [3, 8, 6, 2, 9],\n",
        "        'B': [5, 2, 9, 3, 1],\n",
        "        'C': [1, 7, 4, 5, 2]}\n",
        "df = pd.DataFrame(data)\n",
        "\n",
        "# Filter the DataFrame and get the selected rows\n",
        "selected_rows_df = filter_dataframe(df)\n",
        "\n",
        "# Display the selected rows\n",
        "print(selected_rows_df)\n"
      ],
      "metadata": {
        "colab": {
          "base_uri": "https://localhost:8080/"
        },
        "id": "2SwaLlNRdDGV",
        "outputId": "a9a8bbb3-17f0-40b2-9859-010d92500978"
      },
      "execution_count": 8,
      "outputs": [
        {
          "output_type": "stream",
          "name": "stdout",
          "text": [
            "   A  B  C\n",
            "1  8  2  7\n",
            "2  6  9  4\n",
            "4  9  1  2\n"
          ]
        }
      ]
    },
    {
      "cell_type": "markdown",
      "source": [
        "**Q9. Given a Pandas DataFrame df with a column 'Values', write a Python function to calculate the mean, median, and standard deviation of the values in the 'Values' column.**"
      ],
      "metadata": {
        "id": "Vv4pXWV1dJQu"
      }
    },
    {
      "cell_type": "code",
      "source": [
        "import pandas as pd\n",
        "\n",
        "def calculate_statistics(df):\n",
        "    # Check if the 'Values' column exists in the DataFrame\n",
        "    if 'Values' in df.columns:\n",
        "        values_column = df['Values']\n",
        "        # Calculate mean, median, and standard deviation\n",
        "        mean_value = values_column.mean()\n",
        "        median_value = values_column.median()\n",
        "        std_deviation = values_column.std()\n",
        "        return mean_value, median_value, std_deviation\n",
        "    else:\n",
        "        print(\"The 'Values' column does not exist in the DataFrame.\")\n",
        "        return None\n",
        "\n",
        "# Sample DataFrame with a 'Values' column\n",
        "data = {'Values': [10, 20, 30, 40, 50]}\n",
        "df = pd.DataFrame(data)\n",
        "\n",
        "# Calculate mean, median, and standard deviation\n",
        "mean, median, std = calculate_statistics(df)\n",
        "\n",
        "# Print the results\n",
        "print(f\"Mean: {mean}\")\n",
        "print(f\"Median: {median}\")\n",
        "print(f\"Standard Deviation: {std}\")\n"
      ],
      "metadata": {
        "colab": {
          "base_uri": "https://localhost:8080/"
        },
        "id": "WyDtj5dXdMBV",
        "outputId": "55a471e0-a163-465d-8a60-99a651338bd2"
      },
      "execution_count": 9,
      "outputs": [
        {
          "output_type": "stream",
          "name": "stdout",
          "text": [
            "Mean: 30.0\n",
            "Median: 30.0\n",
            "Standard Deviation: 15.811388300841896\n"
          ]
        }
      ]
    },
    {
      "cell_type": "markdown",
      "source": [
        "**Q10. Given a Pandas DataFrame df with a column 'Sales' and a column 'Date', write a Python function to create a new column 'MovingAverage' that contains the moving average of the sales for the past 7 days for each row in the DataFrame. The moving average should be calculated using a window of size 7 and should include the current day.**"
      ],
      "metadata": {
        "id": "UnnIDjgIdREl"
      }
    },
    {
      "cell_type": "code",
      "source": [
        "import pandas as pd\n",
        "\n",
        "def calculate_moving_average(df):\n",
        "    # Check if the 'Sales' and 'Date' columns exist in the DataFrame\n",
        "    if 'Sales' in df.columns and 'Date' in df.columns:\n",
        "        # Convert the 'Date' column to a datetime data type if it's not already\n",
        "        df['Date'] = pd.to_datetime(df['Date'])\n",
        "\n",
        "        # Sort the DataFrame by the 'Date' column in ascending order\n",
        "        df = df.sort_values(by='Date')\n",
        "\n",
        "        # Calculate the moving average with a window of size 7, including the current day\n",
        "        df['MovingAverage'] = df['Sales'].rolling(window=7, min_periods=1).mean()\n",
        "\n",
        "        return df\n",
        "    else:\n",
        "        print(\"The 'Sales' and/or 'Date' columns do not exist in the DataFrame.\")\n",
        "        return None\n",
        "\n",
        "# Sample DataFrame with 'Sales' and 'Date' columns\n",
        "data = {'Date': ['2023-10-01', '2023-10-02', '2023-10-03', '2023-10-04', '2023-10-05', '2023-10-06', '2023-10-07'],\n",
        "        'Sales': [10, 20, 30, 40, 50, 60, 70]}\n",
        "df = pd.DataFrame(data)\n",
        "\n",
        "# Calculate the moving average and add it to the DataFrame\n",
        "df = calculate_moving_average(df)\n",
        "\n",
        "# Display the updated DataFrame\n",
        "print(df)\n"
      ],
      "metadata": {
        "colab": {
          "base_uri": "https://localhost:8080/"
        },
        "id": "UQZft3K-dXsI",
        "outputId": "c4fd7299-f74c-41d3-fd82-1ca7b577f165"
      },
      "execution_count": 10,
      "outputs": [
        {
          "output_type": "stream",
          "name": "stdout",
          "text": [
            "        Date  Sales  MovingAverage\n",
            "0 2023-10-01     10           10.0\n",
            "1 2023-10-02     20           15.0\n",
            "2 2023-10-03     30           20.0\n",
            "3 2023-10-04     40           25.0\n",
            "4 2023-10-05     50           30.0\n",
            "5 2023-10-06     60           35.0\n",
            "6 2023-10-07     70           40.0\n"
          ]
        }
      ]
    },
    {
      "cell_type": "markdown",
      "source": [
        "Q11. You have a Pandas DataFrame df with a column 'Date'. Write a Python function that creates a new\n",
        "column 'Weekday' in the DataFrame. The 'Weekday' column should contain the weekday name (e.g.\n",
        "Monday, Tuesday) corresponding to each date in the 'Date' column.\n",
        "For example, if df contains the following values:\n",
        "Date\n",
        "0 2023-01-01\n",
        "1 2023-01-02\n",
        "2 2023-01-03\n",
        "3 2023-01-04\n",
        "4 2023-01-05\n",
        "Your function should create the following DataFrame:\n",
        "\n",
        "Date Weekday\n",
        "0 2023-01-01 Sunday\n",
        "1 2023-01-02 Monday\n",
        "2 2023-01-03 Tuesday\n",
        "3 2023-01-04 Wednesday\n",
        "4 2023-01-05 Thursday\n",
        "The function should return the modified DataFrame."
      ],
      "metadata": {
        "id": "JhlJE9z8dgNy"
      }
    },
    {
      "cell_type": "code",
      "source": [
        "import pandas as pd\n",
        "\n",
        "def add_weekday_column(df):\n",
        "    # Check if the 'Date' column exists in the DataFrame\n",
        "    if 'Date' in df.columns:\n",
        "        # Convert the 'Date' column to a datetime data type if it's not already\n",
        "        df['Date'] = pd.to_datetime(df['Date'])\n",
        "\n",
        "        # Extract and add the 'Weekday' column with weekday names\n",
        "        df['Weekday'] = df['Date'].dt.strftime('%A')\n",
        "        return df\n",
        "    else:\n",
        "        print(\"The 'Date' column does not exist in the DataFrame.\")\n",
        "        return None\n",
        "\n",
        "# Sample DataFrame with a 'Date' column\n",
        "data = {'Date': ['2023-01-01', '2023-01-02', '2023-01-03', '2023-01-04', '2023-01-05']}\n",
        "df = pd.DataFrame(data)\n",
        "\n",
        "# Add the 'Weekday' column to the DataFrame\n",
        "df = add_weekday_column(df)\n",
        "\n",
        "# Display the modified DataFrame\n",
        "print(df)\n"
      ],
      "metadata": {
        "colab": {
          "base_uri": "https://localhost:8080/"
        },
        "id": "Vkxhs5g_dkIt",
        "outputId": "fe4ed3bf-49c8-4b70-bbd4-374581614992"
      },
      "execution_count": 11,
      "outputs": [
        {
          "output_type": "stream",
          "name": "stdout",
          "text": [
            "        Date    Weekday\n",
            "0 2023-01-01     Sunday\n",
            "1 2023-01-02     Monday\n",
            "2 2023-01-03    Tuesday\n",
            "3 2023-01-04  Wednesday\n",
            "4 2023-01-05   Thursday\n"
          ]
        }
      ]
    },
    {
      "cell_type": "markdown",
      "source": [
        "**Q12. Given a Pandas DataFrame df with a column 'Date' that contains timestamps, write a Python function to select all rows where the date is between '2023-01-01' and '2023-01-31'.**"
      ],
      "metadata": {
        "id": "QpMjKC85dpWb"
      }
    },
    {
      "cell_type": "code",
      "source": [
        "import pandas as pd\n",
        "\n",
        "def select_rows_between_dates(df):\n",
        "    # Check if the 'Date' column exists in the DataFrame\n",
        "    if 'Date' in df.columns:\n",
        "        # Convert the 'Date' column to a datetime data type if it's not already\n",
        "        df['Date'] = pd.to_datetime(df['Date'])\n",
        "\n",
        "        # Define the date range\n",
        "        start_date = '2023-01-01'\n",
        "        end_date = '2023-01-31'\n",
        "\n",
        "        # Use boolean indexing to select rows within the date range\n",
        "        selected_rows = df[(df['Date'] >= start_date) & (df['Date'] <= end_date)]\n",
        "\n",
        "        return selected_rows\n",
        "    else:\n",
        "        print(\"The 'Date' column does not exist in the DataFrame.\")\n",
        "        return None\n",
        "\n",
        "# Sample DataFrame with a 'Date' column\n",
        "data = {'Date': ['2023-01-01', '2023-01-15', '2023-01-20', '2023-02-05', '2023-03-10']}\n",
        "df = pd.DataFrame(data)\n",
        "\n",
        "# Select rows between '2023-01-01' and '2023-01-31'\n",
        "selected_df = select_rows_between_dates(df)\n",
        "\n",
        "# Display the selected rows\n",
        "print(selected_df)\n"
      ],
      "metadata": {
        "colab": {
          "base_uri": "https://localhost:8080/"
        },
        "id": "7P2IrT6dduFO",
        "outputId": "b84dcd8e-173c-4d8a-f977-d5a2ad803a69"
      },
      "execution_count": 12,
      "outputs": [
        {
          "output_type": "stream",
          "name": "stdout",
          "text": [
            "        Date\n",
            "0 2023-01-01\n",
            "1 2023-01-15\n",
            "2 2023-01-20\n"
          ]
        }
      ]
    },
    {
      "cell_type": "markdown",
      "source": [
        "**Q13. To use the basic functions of pandas, what is the first and foremost necessary library that needs to be imported?**\n",
        "\n",
        "\n",
        "To use the basic functions of Pandas, the first and foremost library you need to import is, of course, Pandas itself. You can import Pandas using the following commonly used import statement:\n",
        "\n",
        "```python\n",
        "import pandas as pd\n",
        "```\n",
        "\n",
        "By convention, the alias `pd` is used, which allows you to refer to Pandas functions and objects using the `pd` prefix. This makes it easier to work with Pandas in your code. Once you've imported Pandas, you can use its functions and data structures to work with tabular data, manipulate DataFrames, and perform various data analysis tasks."
      ],
      "metadata": {
        "id": "KFf-CnRkdy2X"
      }
    }
  ]
}