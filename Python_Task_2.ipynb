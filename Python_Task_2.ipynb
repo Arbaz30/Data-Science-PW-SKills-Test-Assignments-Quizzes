{
  "nbformat": 4,
  "nbformat_minor": 0,
  "metadata": {
    "colab": {
      "provenance": []
    },
    "kernelspec": {
      "name": "python3",
      "display_name": "Python 3"
    },
    "language_info": {
      "name": "python"
    }
  },
  "cells": [
    {
      "cell_type": "code",
      "execution_count": 10,
      "metadata": {
        "id": "dTO_ojt4c4Cc"
      },
      "outputs": [],
      "source": []
    },
    {
      "cell_type": "markdown",
      "source": [
        "Q1. You are writing code for a company. The requirement of the company is that you create a python  function that will check whether the password entered by the user is correct or not. The function should  take the password as input and return the string “Valid Password” if the entered password follows the  below-given password guidelines else it should return “Invalid Password”.\n",
        "Note: 1. The Password should contain at least two uppercase letters and at least two lowercase letters. 2. The Password should contain at least a number and three special characters.\n",
        "3. The length of the password should be 10 characters long.\n"
      ],
      "metadata": {
        "id": "f4U5-0MJdMD5"
      }
    },
    {
      "cell_type": "code",
      "source": [
        "def is_valid_password(password):\n",
        "    upper_count = 0\n",
        "    lower_count = 0\n",
        "    digit_count = 0\n",
        "    special_count = 0\n",
        "\n",
        "    if len(password) != 10:\n",
        "        return \"Invalid Password\"\n",
        "\n",
        "    for char in password:\n",
        "        if 'A' <= char <= 'Z':\n",
        "            upper_count += 1\n",
        "        elif 'a' <= char <= 'z':\n",
        "            lower_count += 1\n",
        "        elif '0' <= char <= '9':\n",
        "            digit_count += 1\n",
        "        elif char in \"!@#$%^&*()_+-=[]{}|;:,.<>?\":\n",
        "            special_count += 1\n",
        "\n",
        "    if (\n",
        "        upper_count >= 2\n",
        "        and lower_count >= 2\n",
        "        and digit_count >= 1\n",
        "        and special_count >= 3\n",
        "    ):\n",
        "        return \"Valid Password\"\n",
        "    else:\n",
        "        return \"Invalid Password\"\n",
        "\n",
        "# Example usage:\n",
        "password = \"AbCdEfG1@3\"\n",
        "result = is_valid_password(password)\n",
        "print(result)\n"
      ],
      "metadata": {
        "colab": {
          "base_uri": "https://localhost:8080/"
        },
        "id": "rZcifSg2dM97",
        "outputId": "aca2b823-c3a5-405e-cdc8-f7a807e0e68e"
      },
      "execution_count": 11,
      "outputs": [
        {
          "output_type": "stream",
          "name": "stdout",
          "text": [
            "Invalid Password\n"
          ]
        }
      ]
    },
    {
      "cell_type": "markdown",
      "source": [
        "Q2. Solve the below-given questions using at least one of the following:  \n",
        "1. Lambda functioJ\n",
        "2. Filter functioJ\n",
        "3. Zap functioJ\n",
        "4. List ComprehensioI\n",
        "B Check if the string starts with a particular letterY\n",
        "B Check if the string is numericY\n",
        "B Sort a list of tuples having fruit names and their quantity. [(\"mango\",99),(\"orange\",80), (\"grapes\", 1000)- B Find the squares of numbers from 1 to 10Y\n",
        "B Find the cube root of numbers from 1 to 10Y\n",
        "B Check if a given number is evenY\n",
        "B Filter odd numbers from the given list.\n",
        " [1,2,3,4,5,6,7,8,9,10-\n",
        "B Sort a list of integers into positive and negative integers lists.\n",
        " [1,2,3,4,5,6,-1,-2,-3,-4,-5,0]\n"
      ],
      "metadata": {
        "id": "laDKQaRhdfaG"
      }
    },
    {
      "cell_type": "code",
      "source": [
        "# Check if the string starts with a particular letter:\n",
        "string = \"example\"\n",
        "starts_with_e = lambda s, letter: s.startswith(letter)\n",
        "result = starts_with_e(string, \"e\")\n",
        "print(result)\n"
      ],
      "metadata": {
        "colab": {
          "base_uri": "https://localhost:8080/"
        },
        "id": "ULlTEszGdh3V",
        "outputId": "9a8dd94c-20ec-49c1-ef94-20bfdd96f51f"
      },
      "execution_count": 12,
      "outputs": [
        {
          "output_type": "stream",
          "name": "stdout",
          "text": [
            "True\n"
          ]
        }
      ]
    },
    {
      "cell_type": "code",
      "source": [
        "# Check if the string is numeric:\n",
        "\n",
        "string = \"12345\"\n",
        "is_numeric = lambda s: s.isnumeric()\n",
        "result = is_numeric(string)\n",
        "print(result)\n"
      ],
      "metadata": {
        "colab": {
          "base_uri": "https://localhost:8080/"
        },
        "id": "ij8eTXhzeMM6",
        "outputId": "1a11a8d5-2637-4761-af87-f76f1b8710b7"
      },
      "execution_count": 13,
      "outputs": [
        {
          "output_type": "stream",
          "name": "stdout",
          "text": [
            "True\n"
          ]
        }
      ]
    },
    {
      "cell_type": "code",
      "source": [
        "# Sort a list of tuples with fruit names and their quantity:\n",
        "\n",
        "fruits = [(\"mango\", 99), (\"orange\", 80), (\"grapes\", 1000)]\n",
        "sorted_fruits = sorted(fruits, key=lambda x: x[1])\n",
        "print(sorted_fruits)\n"
      ],
      "metadata": {
        "colab": {
          "base_uri": "https://localhost:8080/"
        },
        "id": "JjMGWr4aeQnC",
        "outputId": "5a37ba4e-9063-4632-f496-40982f8c6b42"
      },
      "execution_count": 14,
      "outputs": [
        {
          "output_type": "stream",
          "name": "stdout",
          "text": [
            "[('orange', 80), ('mango', 99), ('grapes', 1000)]\n"
          ]
        }
      ]
    },
    {
      "cell_type": "code",
      "source": [
        "# Find the squares of numbers from 1 to 10:\n",
        "\n",
        "squares = [x ** 2 for x in range(1, 11)]\n",
        "print(squares)\n"
      ],
      "metadata": {
        "colab": {
          "base_uri": "https://localhost:8080/"
        },
        "id": "rt-NsMEQeV4c",
        "outputId": "e723634a-86fd-42a9-edf7-430bc778fa73"
      },
      "execution_count": 15,
      "outputs": [
        {
          "output_type": "stream",
          "name": "stdout",
          "text": [
            "[1, 4, 9, 16, 25, 36, 49, 64, 81, 100]\n"
          ]
        }
      ]
    },
    {
      "cell_type": "code",
      "source": [
        "# Find the cube root of numbers from 1 to 10:\n",
        "\n",
        "import math\n",
        "\n",
        "cube_roots = [math.pow(x, 1/3) for x in range(1, 11)]\n",
        "print(cube_roots)\n"
      ],
      "metadata": {
        "colab": {
          "base_uri": "https://localhost:8080/"
        },
        "id": "A94xKKFdeXrU",
        "outputId": "23eaa827-4ffc-43d4-fcc0-c909359cd816"
      },
      "execution_count": 16,
      "outputs": [
        {
          "output_type": "stream",
          "name": "stdout",
          "text": [
            "[1.0, 1.2599210498948732, 1.4422495703074083, 1.5874010519681994, 1.7099759466766968, 1.8171205928321397, 1.912931182772389, 2.0, 2.080083823051904, 2.154434690031884]\n"
          ]
        }
      ]
    },
    {
      "cell_type": "code",
      "source": [
        "# Check if a given number is even:\n",
        "\n",
        "is_even = lambda x: x % 2 == 0\n",
        "result = is_even(4)\n",
        "print(result)\n"
      ],
      "metadata": {
        "colab": {
          "base_uri": "https://localhost:8080/"
        },
        "id": "wRuxwHKberuA",
        "outputId": "e16dd29c-2479-4aa5-dc4f-575ce6be6bf7"
      },
      "execution_count": 17,
      "outputs": [
        {
          "output_type": "stream",
          "name": "stdout",
          "text": [
            "True\n"
          ]
        }
      ]
    },
    {
      "cell_type": "code",
      "source": [
        "# Filter odd numbers from the given list:"
      ],
      "metadata": {
        "id": "jpMJU5hCew77"
      },
      "execution_count": 18,
      "outputs": []
    },
    {
      "cell_type": "code",
      "source": [
        "numbers = [1, 2, 3, 4, 5, 6, 7, 8, 9, 10]\n",
        "odd_numbers = list(filter(lambda x: x % 2 != 0, numbers))\n",
        "print(odd_numbers)\n"
      ],
      "metadata": {
        "colab": {
          "base_uri": "https://localhost:8080/"
        },
        "id": "kA-9xDmbeyzY",
        "outputId": "5dbe3893-9027-4f05-9af6-ec8573f3d684"
      },
      "execution_count": 19,
      "outputs": [
        {
          "output_type": "stream",
          "name": "stdout",
          "text": [
            "[1, 3, 5, 7, 9]\n"
          ]
        }
      ]
    },
    {
      "cell_type": "code",
      "source": [
        "# Sort a list of integers into positive and negative integers lists:\n",
        "\n",
        "numbers = [1, 2, 3, 4, 5, 6, -1, -2, -3, -4, -5, 0]\n",
        "positive_numbers = [x for x in numbers if x > 0]\n",
        "negative_numbers = [x for x in numbers if x < 0]\n",
        "print(positive_numbers)\n",
        "print(negative_numbers)\n"
      ],
      "metadata": {
        "colab": {
          "base_uri": "https://localhost:8080/"
        },
        "id": "S99qPslCe1nU",
        "outputId": "a91b5439-be53-4afb-b6f0-987db0438ea3"
      },
      "execution_count": 20,
      "outputs": [
        {
          "output_type": "stream",
          "name": "stdout",
          "text": [
            "[1, 2, 3, 4, 5, 6]\n",
            "[-1, -2, -3, -4, -5]\n"
          ]
        }
      ]
    }
  ]
}