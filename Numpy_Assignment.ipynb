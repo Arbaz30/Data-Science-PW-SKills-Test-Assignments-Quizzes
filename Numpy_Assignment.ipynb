{
  "nbformat": 4,
  "nbformat_minor": 0,
  "metadata": {
    "colab": {
      "provenance": []
    },
    "kernelspec": {
      "name": "python3",
      "display_name": "Python 3"
    },
    "language_info": {
      "name": "python"
    }
  },
  "cells": [
    {
      "cell_type": "markdown",
      "source": [
        "Consider the below code to answer further questions:\n",
        "import numpy as np\n",
        "list_ = [ ‘1’ , ’2’ , ‘3’ , ‘4’ , ‘5’ ]\n",
        "array_list = np.array(object = list_)\n"
      ],
      "metadata": {
        "id": "sFtn4UDZjD-L"
      }
    },
    {
      "cell_type": "markdown",
      "source": [
        "**Q1. Is there any difference in the data type of variables list_ and array_list? If there is then write a code to print the data types of both the variables.**"
      ],
      "metadata": {
        "id": "Y7b-4aBdjOPs"
      }
    },
    {
      "cell_type": "code",
      "source": [
        "import numpy as np\n",
        "\n",
        "list_ = ['1', '2', '3', '4', '5']\n",
        "array_list = np.array(object=list_)\n",
        "\n",
        "# Print the data types of both variables\n",
        "print(\"Data type of 'list_':\", type(list_))\n",
        "print(\"Data type of 'array_list':\", type(array_list))\n"
      ],
      "metadata": {
        "colab": {
          "base_uri": "https://localhost:8080/"
        },
        "id": "I-URwZQHjVtP",
        "outputId": "22d8f851-9644-4ca2-a5eb-88b9a0b4585a"
      },
      "execution_count": 24,
      "outputs": [
        {
          "output_type": "stream",
          "name": "stdout",
          "text": [
            "Data type of 'list_': <class 'list'>\n",
            "Data type of 'array_list': <class 'numpy.ndarray'>\n"
          ]
        }
      ]
    },
    {
      "cell_type": "markdown",
      "source": [
        "**Q2. Write a code to print the data type of each and every element of both the variables list_ and arra_list.**"
      ],
      "metadata": {
        "id": "HiqgGudGjaTo"
      }
    },
    {
      "cell_type": "code",
      "source": [
        "import numpy as np\n",
        "\n",
        "list_ = ['1', '2', '3', '4', '5']\n",
        "array_list = np.array(object=list_)\n",
        "\n",
        "# Print the data type of each element in 'list_'\n",
        "print(\"Data types of elements in 'list_':\")\n",
        "for item in list_:\n",
        "    print(type(item))\n",
        "\n",
        "# Print the data type of each element in 'array_list'\n",
        "print(\"\\nData types of elements in 'array_list':\")\n",
        "for item in array_list:\n",
        "    print(type(item))\n"
      ],
      "metadata": {
        "colab": {
          "base_uri": "https://localhost:8080/"
        },
        "id": "IUxgVYC7jeFs",
        "outputId": "1783b7dd-8a99-4396-c813-758ac20e8aa3"
      },
      "execution_count": 25,
      "outputs": [
        {
          "output_type": "stream",
          "name": "stdout",
          "text": [
            "Data types of elements in 'list_':\n",
            "<class 'str'>\n",
            "<class 'str'>\n",
            "<class 'str'>\n",
            "<class 'str'>\n",
            "<class 'str'>\n",
            "\n",
            "Data types of elements in 'array_list':\n",
            "<class 'numpy.str_'>\n",
            "<class 'numpy.str_'>\n",
            "<class 'numpy.str_'>\n",
            "<class 'numpy.str_'>\n",
            "<class 'numpy.str_'>\n"
          ]
        }
      ]
    },
    {
      "cell_type": "markdown",
      "source": [
        "Q3. Considering the following changes in the variable, array_list:\n",
        "array_list = np.array(object = list_, dtype = int)\n",
        "Will there be any difference in the data type of the elements present in both the variables, list_ and\n",
        "arra_list? If so then print the data types of each and every element present in both the variables, list_\n",
        "and arra_list.\n",
        "Consider the below code to answer further questions:\n",
        "import numpy as np\n",
        "num_list = [ [ 1 , 2 , 3 ] , [ 4 , 5 , 6 ] ]\n",
        "num_array = np.array(object = num_list)"
      ],
      "metadata": {
        "id": "RwzfTjpbjjTW"
      }
    },
    {
      "cell_type": "markdown",
      "source": [
        "Yes, there will be a difference in the data type of the elements present in `list_` and `array_list` after changing the data type of `array_list` to `int`. The elements in the original `list_` are strings, but in the modified `array_list`, they will be converted to integers.\n",
        "\n",
        "Here's the code to print the data types of each and every element present in both variables `list_` and `array_list` after the change:\n",
        "\n",
        "```python\n",
        "import numpy as np\n",
        "\n",
        "list_ = ['1', '2', '3', '4', '5']\n",
        "array_list = np.array(object=list_, dtype=int)\n",
        "\n",
        "# Print the data type of each element in 'list_'\n",
        "print(\"Data types of elements in 'list_':\")\n",
        "for item in list_:\n",
        "    print(type(item))\n",
        "\n",
        "# Print the data type of each element in 'array_list'\n",
        "print(\"\\nData types of elements in 'array_list':\")\n",
        "for item in array_list:\n",
        "    print(type(item))\n",
        "```\n",
        "\n",
        "With the `dtype=int` parameter in `np.array()`, the elements in `array_list` will be of integer data type (`int`) instead of strings.\n",
        "\n",
        "As for the code you mentioned with `num_list` and `num_array`, it's not clear what specific questions you have regarding that code. If you have any specific questions about it, please feel free to ask, and I'll be happy to assist you."
      ],
      "metadata": {
        "id": "VQ4dyG_3jo-t"
      }
    },
    {
      "cell_type": "markdown",
      "source": [
        "Q4. Write a code to find the following characteristics of variable, num_array:\n",
        "(i) shape\n",
        "(ii) size"
      ],
      "metadata": {
        "id": "fyfoEVCijv9R"
      }
    },
    {
      "cell_type": "code",
      "source": [
        "import numpy as np\n",
        "\n",
        "num_list = [[1, 2, 3], [4, 5, 6]]\n",
        "num_array = np.array(num_list)\n",
        "\n",
        "# (i) Find the shape of the array\n",
        "shape = num_array.shape\n",
        "\n",
        "# (ii) Find the size of the array\n",
        "size = num_array.size\n",
        "\n",
        "print(f\"(i) Shape of 'num_array': {shape}\")\n",
        "print(f\"(ii) Size of 'num_array': {size}\")\n"
      ],
      "metadata": {
        "colab": {
          "base_uri": "https://localhost:8080/"
        },
        "id": "2g6ZKNQljzvG",
        "outputId": "0e25a26f-dc3a-43bc-e056-176b96d56a90"
      },
      "execution_count": 26,
      "outputs": [
        {
          "output_type": "stream",
          "name": "stdout",
          "text": [
            "(i) Shape of 'num_array': (2, 3)\n",
            "(ii) Size of 'num_array': 6\n"
          ]
        }
      ]
    },
    {
      "cell_type": "markdown",
      "source": [
        "Q5. Write a code to create numpy array of 3*3 matrix containing zeros only, using a numpy array\n",
        "creation function.\n",
        "[Hint: The size of the array will be 9 and the shape will be (3,3).]"
      ],
      "metadata": {
        "id": "GfZASrepj3xm"
      }
    },
    {
      "cell_type": "markdown",
      "source": [
        "You can create a NumPy array of a 3x3 matrix containing zeros using the `np.zeros` function. Here's the code to do that:\n",
        "\n",
        "```python\n",
        "import numpy as np\n",
        "\n",
        "# Create a 3x3 matrix containing zeros\n",
        "zero_matrix = np.zeros((3, 3))\n",
        "\n",
        "print(zero_matrix)\n",
        "```\n",
        "\n",
        "In this code, `np.zeros((3, 3))` creates a 3x3 matrix filled with zeros, and the resulting `zero_matrix` is printed to the console."
      ],
      "metadata": {
        "id": "GBkkHHDwj7mj"
      }
    },
    {
      "cell_type": "markdown",
      "source": [
        "Q6. Create an identity matrix of shape (5,5) using numpy functions?\n",
        "[Hint: An identity matrix is a matrix containing 1 diagonally and other elements will be 0.]"
      ],
      "metadata": {
        "id": "-XeKsVslj_lK"
      }
    },
    {
      "cell_type": "markdown",
      "source": [
        "You can create a 5x5 identity matrix using the `np.eye` function from NumPy. Here's the code to create an identity matrix of shape (5,5):\n",
        "\n",
        "```python\n",
        "import numpy as np\n",
        "\n",
        "# Create a 5x5 identity matrix\n",
        "identity_matrix = np.eye(5)\n",
        "\n",
        "print(identity_matrix)\n",
        "```\n",
        "\n",
        "The `np.eye(5)` function creates a 5x5 identity matrix where all diagonal elements are 1, and all other elements are 0. The resulting `identity_matrix` is printed to the console."
      ],
      "metadata": {
        "id": "nyqGEHonkFbi"
      }
    }
  ]
}