{
  "nbformat": 4,
  "nbformat_minor": 0,
  "metadata": {
    "colab": {
      "provenance": []
    },
    "kernelspec": {
      "name": "python3",
      "display_name": "Python 3"
    },
    "language_info": {
      "name": "python"
    }
  },
  "cells": [
    {
      "cell_type": "markdown",
      "source": [
        "Q1. Explain Class and Object with respect to Object-Oriented Programming. Give a suitable example"
      ],
      "metadata": {
        "id": "mBkTeEKecv0v"
      }
    },
    {
      "cell_type": "code",
      "source": [
        "\"\"\"Class:\n",
        "\n",
        " In object-oriented programming (OOP), a class is a blueprint or template for creating objects.\n",
        "  It defines the structure and behavior of objects of that class. A class encapsulates data (attributes) and functions (methods) that operate on that data.\n",
        "   It acts as a blueprint that describes the properties and behaviors an object will have.\n",
        "\n",
        "Object:\n",
        "\n",
        " An object is an instance of a class. It is a concrete entity created based on the class definition.\n",
        " Objects are real-world entities that can be manipulated, and they have their own unique data and state while sharing the characteristics defined by their class.\"\"\"\n",
        "\n",
        "# Example:\n",
        "class Car:\n",
        "    def __init__(self, make, model, year):\n",
        "        self.make = make\n",
        "        self.model = model\n",
        "        self.year = year\n",
        "        self.speed = 0\n",
        "\n",
        "    def accelerate(self):\n",
        "        self.speed += 5\n",
        "\n",
        "    def brake(self):\n",
        "        self.speed -= 5\n",
        "\n",
        "    def get_speed(self):\n",
        "        return self.speed\n",
        "\n",
        "car1 = Car(\"Toyota\", \"Camry\", 2021)\n",
        "car2 = Car(\"Honda\", \"Civic\", 2022)\n",
        "\n",
        "car1.accelerate()\n",
        "car1.accelerate()\n",
        "car2.accelerate()\n",
        "\n",
        "print(f\"{car1.make} {car1.model} speed: {car1.get_speed()}\")\n",
        "print(f\"{car2.make} {car2.model} speed: {car2.get_speed()}\")"
      ],
      "metadata": {
        "colab": {
          "base_uri": "https://localhost:8080/"
        },
        "id": "FtRagod8cwmP",
        "outputId": "5baa87d1-be7e-4bd5-b89a-c8cd4d38e70c"
      },
      "execution_count": 3,
      "outputs": [
        {
          "output_type": "stream",
          "name": "stdout",
          "text": [
            "Toyota Camry speed: 10\n",
            "Honda Civic speed: 5\n"
          ]
        }
      ]
    },
    {
      "cell_type": "markdown",
      "source": [
        "Q2. Name the four pillars of OOPs."
      ],
      "metadata": {
        "id": "YDYCBj7jdcTX"
      }
    },
    {
      "cell_type": "code",
      "source": [
        "\n",
        "# 1. Encapsulation\n",
        "# 2. Inheritance\n",
        "# 3. Polymorphism\n",
        "# 4. Abstraction"
      ],
      "metadata": {
        "id": "rTmmMxL4ddPZ"
      },
      "execution_count": 4,
      "outputs": []
    },
    {
      "cell_type": "markdown",
      "source": [
        "Q3. Explain why the __init__() function is used. Give a suitable example."
      ],
      "metadata": {
        "id": "UNib8Z9bdvw1"
      }
    },
    {
      "cell_type": "code",
      "source": [
        "\"\"\"The `__init__()` function is used in Python classes to initialize the attributes (properties) of an object when the object is created.\n",
        " It's a special method (also known as a constructor) that gets automatically called when you create a new instance of a class.\n",
        "  The primary purpose of `__init__()` is to set the initial state of the object by assigning values to its attributes.\"\"\"\n",
        "\n",
        "# Example:\n",
        "\n",
        "class Person:\n",
        "    def __init__(self, name, age):\n",
        "        self.name = name\n",
        "        self.age = age\n",
        "\n",
        "    def introduce(self):\n",
        "        print(f\"Hello, my name is {self.name}, and I am {self.age} years old.\")\n",
        "\n",
        "person1 = Person(\"Alice\", 30)\n",
        "person2 = Person(\"Bob\", 25)\n",
        "\n",
        "\n",
        "person1.introduce()\n",
        "person2.introduce()\n"
      ],
      "metadata": {
        "colab": {
          "base_uri": "https://localhost:8080/"
        },
        "id": "D9ApWQSJdyvZ",
        "outputId": "86ba2ff7-12dd-4a82-a176-6c872fddb41a"
      },
      "execution_count": 5,
      "outputs": [
        {
          "output_type": "stream",
          "name": "stdout",
          "text": [
            "Hello, my name is Alice, and I am 30 years old.\n",
            "Hello, my name is Bob, and I am 25 years old.\n"
          ]
        }
      ]
    },
    {
      "cell_type": "markdown",
      "source": [
        "Q4. Why self is used in OOPs? in short"
      ],
      "metadata": {
        "id": "aovzIvsIeK5Z"
      }
    },
    {
      "cell_type": "code",
      "source": [
        "\"\"\"Self is used in Object-Oriented Programming (OOP) to refer to the instance (object) of a class within its own methods.\n",
        "It allows methods to access and manipulate the object's attributes and call other methods on the same object.\"\"\""
      ],
      "metadata": {
        "colab": {
          "base_uri": "https://localhost:8080/",
          "height": 55
        },
        "id": "P8OS5qW6eLsZ",
        "outputId": "b0a54b02-7e7c-4831-ab7c-f573e54620f2"
      },
      "execution_count": 6,
      "outputs": [
        {
          "output_type": "execute_result",
          "data": {
            "text/plain": [
              "\"Self is used in Object-Oriented Programming (OOP) to refer to the instance (object) of a class within its own methods. \\nIt allows methods to access and manipulate the object's attributes and call other methods on the same object.\""
            ],
            "application/vnd.google.colaboratory.intrinsic+json": {
              "type": "string"
            }
          },
          "metadata": {},
          "execution_count": 6
        }
      ]
    },
    {
      "cell_type": "markdown",
      "source": [
        "Q5. What is inheritance? Give an example for each type of inheritance."
      ],
      "metadata": {
        "id": "R7Ey8SDbeaDC"
      }
    },
    {
      "cell_type": "code",
      "source": [
        "\"\"\"Inheritance is a fundamental concept in Object-Oriented Programming (OOP) where a new class (subclass or derived class) inherits properties\n",
        " and behaviors (attributes and methods) from an existing class (base class or parent class).\n",
        "\"\"\"\n",
        "# Types of inheritance:\n",
        "# 1. Single Inheritance: A subclass inherits from only one superclass.\n",
        "#    Example: `class Dog(Animal)`\n",
        "\n",
        "# 2. Multiple Inheritance: A subclass inherits from multiple superclasses.\n",
        "#    Example: `class Bat(Mammal, Bird)`\n",
        "\n",
        "# 3. Multilevel Inheritance: One class inherits from another class, and then a third class inherits from the second class.\n",
        "#    Example: `class Grandchild(Child, Parent)`\n",
        "\n",
        "# 4. Hierarchical Inheritance: Multiple subclasses inherit from a single superclass.\n",
        "#    Example: `class Cat(Animal)` and `class Dog(Animal)`\n"
      ],
      "metadata": {
        "colab": {
          "base_uri": "https://localhost:8080/",
          "height": 55
        },
        "id": "ABS58-tkea5C",
        "outputId": "950df257-362f-4da3-82c3-c85265ae4da6"
      },
      "execution_count": 7,
      "outputs": [
        {
          "output_type": "execute_result",
          "data": {
            "text/plain": [
              "'Inheritance is a fundamental concept in Object-Oriented Programming (OOP) where a new class (subclass or derived class) inherits properties\\n and behaviors (attributes and methods) from an existing class (base class or parent class).\\n'"
            ],
            "application/vnd.google.colaboratory.intrinsic+json": {
              "type": "string"
            }
          },
          "metadata": {},
          "execution_count": 7
        }
      ]
    }
  ]
}