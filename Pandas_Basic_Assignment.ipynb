{
  "nbformat": 4,
  "nbformat_minor": 0,
  "metadata": {
    "colab": {
      "provenance": []
    },
    "kernelspec": {
      "name": "python3",
      "display_name": "Python 3"
    },
    "language_info": {
      "name": "python"
    }
  },
  "cells": [
    {
      "cell_type": "markdown",
      "source": [
        "Q1. Create a Pandas Series that contains the following data: 4, 8, 15, 16, 23, and 42. Then, print the series."
      ],
      "metadata": {
        "id": "0JU3BgrJIFay"
      }
    },
    {
      "cell_type": "code",
      "source": [
        "import pandas as pd\n",
        "l1 = [4,5,15,16,23,42]\n",
        "s = pd.Series(l1)\n",
        "print(s)"
      ],
      "metadata": {
        "colab": {
          "base_uri": "https://localhost:8080/"
        },
        "id": "AcZXnuZlIGkL",
        "outputId": "8cf1f2de-a385-4c93-b5b5-f16e7b28cc51"
      },
      "execution_count": 3,
      "outputs": [
        {
          "output_type": "stream",
          "name": "stdout",
          "text": [
            "0     4\n",
            "1     5\n",
            "2    15\n",
            "3    16\n",
            "4    23\n",
            "5    42\n",
            "dtype: int64\n"
          ]
        }
      ]
    },
    {
      "cell_type": "markdown",
      "source": [
        "Q2. Create a variable of list type containing 10 elements in it, and apply pandas.Series function on the\n",
        "variable print it."
      ],
      "metadata": {
        "id": "R2yDpTo3IuoP"
      }
    },
    {
      "cell_type": "code",
      "source": [
        "import pandas as pd\n",
        "\n",
        "my_list = [1, 2, 3, 4, 5, 6, 7, 8, 9, 10]\n",
        "my_series = pd.Series(my_list)\n",
        "\n",
        "print(my_series)\n"
      ],
      "metadata": {
        "colab": {
          "base_uri": "https://localhost:8080/"
        },
        "id": "1rLbJ7jbIvSc",
        "outputId": "664aeb77-145c-4245-e18a-e701cad6551d"
      },
      "execution_count": 4,
      "outputs": [
        {
          "output_type": "stream",
          "name": "stdout",
          "text": [
            "0     1\n",
            "1     2\n",
            "2     3\n",
            "3     4\n",
            "4     5\n",
            "5     6\n",
            "6     7\n",
            "7     8\n",
            "8     9\n",
            "9    10\n",
            "dtype: int64\n"
          ]
        }
      ]
    },
    {
      "cell_type": "markdown",
      "source": [
        "Q3. Create a Pandas DataFrame that contains the following data:\n",
        "\n",
        "Name\n",
        "Alice\n",
        "Bob\n",
        "Claire\n",
        "Then, print the DataFrame.\n",
        "Age 25\n",
        "30\n",
        "27\n",
        "Gender Female Male\n",
        "Female\n"
      ],
      "metadata": {
        "id": "dHNef-LnI11g"
      }
    },
    {
      "cell_type": "code",
      "source": [
        "import pandas as pd\n",
        "\n",
        "data = {\n",
        "    'Name': ['Alice', 'Bob', 'Claire'],\n",
        "    'Age': [25, 30, 27],\n",
        "    'Gender': ['Female', 'Male', 'Female']\n",
        "}\n",
        "\n",
        "df = pd.DataFrame(data)\n",
        "\n",
        "print(df)\n"
      ],
      "metadata": {
        "colab": {
          "base_uri": "https://localhost:8080/"
        },
        "id": "RptHbqxLJAQX",
        "outputId": "b0af88f5-c9d5-471f-d1ae-e4b763962297"
      },
      "execution_count": 5,
      "outputs": [
        {
          "output_type": "stream",
          "name": "stdout",
          "text": [
            "     Name  Age  Gender\n",
            "0   Alice   25  Female\n",
            "1     Bob   30    Male\n",
            "2  Claire   27  Female\n"
          ]
        }
      ]
    },
    {
      "cell_type": "markdown",
      "source": [
        "Q4. What is ‘DataFrame’ in pandas and how is it different from pandas.series? Explain with an example."
      ],
      "metadata": {
        "id": "gG5Js_5NJJ4Z"
      }
    },
    {
      "cell_type": "code",
      "source": [
        "In Pandas, both `DataFrame` and `Series` are fundamental data structures, but they serve different purposes:\n",
        "\n",
        "1. **DataFrame**:\n",
        "   - A DataFrame is a 2-dimensional, tabular data structure. It can be thought of as a collection of Series objects, where each column is a Series.\n",
        "   - It is similar to a spreadsheet or a SQL table and is used to store and manipulate structured data with rows and columns.\n",
        "   - DataFrames are suitable for representing data in a structured way, where you often have multiple attributes or features associated with each row of data.\n",
        "\n",
        "   Example:\n",
        "\n",
        "   ```python\n",
        "   import pandas as pd\n",
        "\n",
        "   data = {'Name': ['Alice', 'Bob', 'Claire'],\n",
        "           'Age': [25, 30, 27],\n",
        "           'Gender': ['Female', 'Male', 'Female']}\n",
        "\n",
        "   df = pd.DataFrame(data)\n",
        "   ```\n",
        "\n",
        "   This creates a DataFrame with columns 'Name', 'Age', and 'Gender', where each column is a Series containing data of a specific type.\n",
        "\n",
        "2. **Series**:\n",
        "   - A Series is a 1-dimensional data structure in Pandas, similar to a column in a DataFrame.\n",
        "   - It is essentially an array with data labels (an index) for each element. Each element in a Series has a unique label.\n",
        "   - Series are useful when you need to work with 1-dimensional data or when you want to extract a single column from a DataFrame.\n",
        "\n",
        "   Example:\n",
        "\n",
        "   ```python\n",
        "   import pandas as pd\n",
        "\n",
        "   ages = pd.Series([25, 30, 27])\n",
        "   ```\n",
        "\n",
        "   This creates a Series named 'ages' with the values 25, 30, and 27. The Series has a default integer index starting from 0.\n",
        "\n",
        "In summary, a DataFrame is a 2-dimensional data structure used to store and manipulate structured data with multiple attributes, while a Series is a 1-dimensional data structure used to store a single column of data. DataFrames are often used for organizing and analyzing datasets with multiple variables, while Series are used when you need to work with or extract a single attribute or feature from a DataFrame."
      ],
      "metadata": {
        "id": "-_1EdwF8JO0V"
      },
      "execution_count": null,
      "outputs": []
    },
    {
      "cell_type": "markdown",
      "source": [
        "Q5. What are some common functions you can use to manipulate data in a Pandas DataFrame? Can  you give an example of when you might use one of these functions?"
      ],
      "metadata": {
        "id": "QGrh8L93JUzF"
      }
    },
    {
      "cell_type": "code",
      "source": [
        "Pandas provides a wide range of functions for data manipulation within a DataFrame. Here are some common functions and examples of when you might use them:\n",
        "\n",
        "1. **`head()` and `tail()`:**\n",
        "   - Use `head(n)` to view the first n rows of the DataFrame, and `tail(n)` to view the last n rows.\n",
        "   - Helpful for a quick look at the data's structure and content.\n",
        "\n",
        "   ```python\n",
        "   df.head(3)  # Show the first 3 rows of the DataFrame.\n",
        "   ```\n",
        "\n",
        "2. **`describe()`:**\n",
        "   - Generates descriptive statistics, such as count, mean, standard deviation, and quartiles, for numerical columns.\n",
        "   - Useful for understanding the distribution of your data.\n",
        "\n",
        "   ```python\n",
        "   df.describe()\n",
        "   ```\n",
        "\n",
        "3. **`info()`:**\n",
        "   - Provides a concise summary of the DataFrame, including data types, non-null values, and memory usage.\n",
        "   - Useful for data profiling and identifying missing values.\n",
        "\n",
        "   ```python\n",
        "   df.info()\n",
        "   ```\n",
        "\n",
        "4. **`groupby()`:**\n",
        "   - Allows you to group data based on one or more columns and perform operations like aggregation, transformation, or filtering.\n",
        "   - Useful for analyzing data by categories or groups.\n",
        "\n",
        "   ```python\n",
        "   df.groupby('Category')['Price'].mean()  # Calculate the average price per category.\n",
        "   ```\n",
        "\n",
        "5. **`sort_values()`:**\n",
        "   - Sorts the DataFrame by one or more columns in ascending or descending order.\n",
        "   - Useful for arranging data for analysis or presentation.\n",
        "\n",
        "   ```python\n",
        "   df.sort_values(by='Age', ascending=False)  # Sort the DataFrame by age in descending order.\n",
        "   ```\n",
        "\n",
        "6. **`filter()`:**\n",
        "   - Allows you to filter rows based on a condition, creating a new DataFrame with the filtered results.\n",
        "   - Useful for data subsetting and creating subsets of your data.\n",
        "\n",
        "   ```python\n",
        "   adults = df[df['Age'] >= 18]  # Create a DataFrame with rows where age is 18 or greater.\n",
        "   ```\n",
        "\n",
        "7. **`pivot_table()`:**\n",
        "   - Creates a pivot table to summarize and reshape data, often used for cross-tabulation and summarization.\n",
        "   - Useful for summarizing data by multiple dimensions.\n",
        "\n",
        "   ```python\n",
        "   pivot = df.pivot_table(index='Gender', columns='Category', values='Price', aggfunc='mean')\n",
        "   ```\n",
        "\n",
        "8. **`drop()`:**\n",
        "   - Removes specified columns or rows from the DataFrame.\n",
        "   - Useful for data cleaning and removing unnecessary information.\n",
        "\n",
        "   ```python\n",
        "   df.drop(columns=['Column1', 'Column2'], inplace=True)  # Remove specified columns.\n",
        "   ```\n",
        "\n",
        "These functions, among others, provide powerful tools for data manipulation and analysis in Pandas DataFrames, making it a versatile library for working with structured data."
      ],
      "metadata": {
        "id": "0CttItHzJgp7"
      },
      "execution_count": null,
      "outputs": []
    },
    {
      "cell_type": "markdown",
      "source": [
        "Q6. Which of the following is mutable in nature Series, DataFrame, Panel?"
      ],
      "metadata": {
        "id": "MSw5SZkeJj0K"
      }
    },
    {
      "cell_type": "code",
      "source": [
        "In Pandas, among the three data structures you mentioned (Series, DataFrame, and Panel), only the DataFrame is mutable in nature. You can modify the contents, add or remove columns, and perform various data manipulation operations on a DataFrame.\n",
        "\n",
        "- **Series:** A Series is not mutable. Once created, you cannot change its values or length. You can create a new Series with modified data if needed.\n",
        "\n",
        "- **DataFrame:** A DataFrame is mutable. You can modify its contents, add or remove rows and columns, or perform various data manipulation operations. DataFrame is designed to handle 2-dimensional data and is the most versatile and commonly used data structure in Pandas.\n",
        "\n",
        "- **Panel:** Panels were part of earlier versions of Pandas but have been removed in more recent versions. Data manipulation in 3D structures (Panel) is less common, and you would typically work with DataFrames instead."
      ],
      "metadata": {
        "id": "aA2pdncMJwEj"
      },
      "execution_count": null,
      "outputs": []
    },
    {
      "cell_type": "markdown",
      "source": [
        "Q7. Create a DataFrame using multiple Series. Explain with an example."
      ],
      "metadata": {
        "id": "Qm9Pq6hoJ0vi"
      }
    },
    {
      "cell_type": "code",
      "source": [
        "import pandas as pd\n",
        "\n",
        "# Creating two Series\n",
        "names = pd.Series(['Alice', 'Bob', 'Claire'])\n",
        "ages = pd.Series([25, 30, 27])\n",
        "\n",
        "# Creating a DataFrame using the Series\n",
        "data = {'Name': names, 'Age': ages}\n",
        "df = pd.DataFrame(data)\n",
        "\n",
        "# Printing the DataFrame\n",
        "print(df)\n"
      ],
      "metadata": {
        "colab": {
          "base_uri": "https://localhost:8080/"
        },
        "id": "GMfnfDNEJ63F",
        "outputId": "d9666dba-9738-4ba0-8ee1-0151460e9ab5"
      },
      "execution_count": 6,
      "outputs": [
        {
          "output_type": "stream",
          "name": "stdout",
          "text": [
            "     Name  Age\n",
            "0   Alice   25\n",
            "1     Bob   30\n",
            "2  Claire   27\n"
          ]
        }
      ]
    }
  ]
}