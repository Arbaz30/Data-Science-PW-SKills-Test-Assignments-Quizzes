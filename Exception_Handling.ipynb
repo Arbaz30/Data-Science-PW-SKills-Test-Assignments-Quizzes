{
  "nbformat": 4,
  "nbformat_minor": 0,
  "metadata": {
    "colab": {
      "provenance": []
    },
    "kernelspec": {
      "name": "python3",
      "display_name": "Python 3"
    },
    "language_info": {
      "name": "python"
    }
  },
  "cells": [
    {
      "cell_type": "markdown",
      "source": [
        "Q1. What is an Exception in python? Write the difference  between Exceptions and syntax errors"
      ],
      "metadata": {
        "id": "UKRFNq0cUsRb"
      }
    },
    {
      "cell_type": "code",
      "source": [
        "\"\"\"An Exception in Python is an event or error that occurs during the execution of a program, which disrupts the normal flow of the program. Exceptions can be handled and managed using try and except blocks.\n",
        "\n",
        "The key difference between Exceptions and syntax errors in Python is:\n",
        "\n",
        "1. Exceptions:\n",
        "   - Exceptions occur during the runtime (execution) of a program.\n",
        "   - They are related to logical errors or issues with data processing.\n",
        "   - Examples include ZeroDivisionError, FileNotFoundError, and ValueError.\n",
        "   - Exceptions can be caught and handled using try and except blocks.\n",
        "\n",
        "2. Syntax Errors:\n",
        "   - Syntax errors occur before the program is executed, during the parsing of the code.\n",
        "   - They are related to issues with the structure and grammar of the code.\n",
        "   - Examples include missing colons, misspelled keywords, and incorrect indentation.\n",
        "   - Syntax errors must be fixed in the code before the program can run.\"\"\""
      ],
      "metadata": {
        "id": "J30U72iCVDHK"
      },
      "execution_count": null,
      "outputs": []
    },
    {
      "cell_type": "markdown",
      "source": [
        " Q2. What happens when an exception is not handled? Explain with an example  "
      ],
      "metadata": {
        "id": "SXc2uSm4VpLE"
      }
    },
    {
      "cell_type": "code",
      "source": [
        "\"\"\"When an exception is not handled in a Python program, it leads to the termination of the program's execution,\n",
        " and an error message is displayed. This error message provides information about the unhandled exception, including its type and a traceback,\n",
        "  which shows the sequence of function calls that led to the exception. Essentially, the program crashes or stops running, and the exception\n",
        "   details are printed to the console.\"\"\"\n",
        "\n",
        "# Example 1: Division by zero without handling the exception\n",
        "numerator = 10\n",
        "denominator = 0\n",
        "\n",
        "result = numerator / denominator  # This will raise a ZeroDivisionError\n",
        "\n",
        "print(\"This will not be reached because of the unhandled exception.\")\n"
      ],
      "metadata": {
        "id": "PpK1qOdWX537"
      },
      "execution_count": null,
      "outputs": []
    },
    {
      "cell_type": "markdown",
      "source": [
        "3. Which python statements are used to catch and handle exceptions? explain with an example?"
      ],
      "metadata": {
        "id": "NXBIjhBhWLtQ"
      }
    },
    {
      "cell_type": "code",
      "source": [
        "\"\"\"In Python, you can catch and handle exceptions using the try and except statements. Here's how they work with an example:\"\"\"\n",
        "\n",
        "try:\n",
        "    numerator = 10\n",
        "    denominator = 0\n",
        "    result = numerator / denominator  # This will raise a ZeroDivisionError\n",
        "except ZeroDivisionError:\n",
        "    print(\"Division by zero is not allowed.\")\n"
      ],
      "metadata": {
        "colab": {
          "base_uri": "https://localhost:8080/"
        },
        "id": "ibf7e-VzWfF0",
        "outputId": "8691d0a0-b3f8-446c-ac56-c4feda47ed51"
      },
      "execution_count": null,
      "outputs": [
        {
          "output_type": "stream",
          "name": "stdout",
          "text": [
            "Division by zero is not allowed.\n"
          ]
        }
      ]
    },
    {
      "cell_type": "markdown",
      "source": [
        "4. explain with an example:\n",
        "  a. try and else\n",
        "  b. finally\n",
        "  c. raise"
      ],
      "metadata": {
        "id": "yV6sedsGW1kt"
      }
    },
    {
      "cell_type": "code",
      "source": [
        "# a. try and else:\n",
        "\n",
        "\"\"\"The else block in a try and except structure is executed if no exception occurs in the try block.\n",
        " It allows you to specify code that should run only when there are no exceptions.\"\"\"\n",
        "\n",
        "try:\n",
        "    value = int(input(\"Enter an integer: \"))\n",
        "except ValueError:\n",
        "    print(\"Invalid input. Please enter a valid integer.\")\n",
        "else:\n",
        "    print(\"You entered a valid integer:\", value)\n"
      ],
      "metadata": {
        "colab": {
          "base_uri": "https://localhost:8080/"
        },
        "id": "ksN3tHIFXD4j",
        "outputId": "ccd1eb61-253e-47cf-8df9-80c85e7ed1a8"
      },
      "execution_count": null,
      "outputs": [
        {
          "output_type": "stream",
          "name": "stdout",
          "text": [
            "Enter an integer: 2\n",
            "You entered a valid integer: 2\n"
          ]
        }
      ]
    },
    {
      "cell_type": "code",
      "source": [
        "# b. finally:\n",
        "\n",
        "\"\"\"The finally block is used to specify code that should always be executed, regardless of whether an exception occurs or not.\"\"\"\n",
        "\n",
        "try:\n",
        "    file = open(\"example.txt\", \"r\")\n",
        "    content = file.read()\n",
        "except FileNotFoundError:\n",
        "    print(\"The file does not exist.\")\n",
        "finally:\n",
        "    file.close()  # This will always close the file, even if an exception occurs\n"
      ],
      "metadata": {
        "id": "fsKKeMQCXp0G"
      },
      "execution_count": null,
      "outputs": []
    },
    {
      "cell_type": "code",
      "source": [
        "# c. raise:\n",
        "\n",
        "\"\"\"The raise statement is used to manually raise an exception in your code. You can raise built-in exceptions or create custom exceptions.\"\"\"\n",
        "\n",
        "def divide(a, b):\n",
        "    if b == 0:\n",
        "        raise ZeroDivisionError(\"Division by zero is not allowed.\")\n",
        "    return a / b\n",
        "\n",
        "try:\n",
        "    result = divide(10, 0)\n",
        "except ZeroDivisionError as e:\n",
        "    print(\"An error occurred:\", e)\n"
      ],
      "metadata": {
        "id": "HlF3mcjMXsSo"
      },
      "execution_count": null,
      "outputs": []
    },
    {
      "cell_type": "markdown",
      "source": [
        "5. What are custom exceptions in python? why do we need custom exceptions? explain with an example?"
      ],
      "metadata": {
        "id": "z698PlNUj47N"
      }
    },
    {
      "cell_type": "code",
      "source": [
        "# Custom exceptions in Python are user-defined exceptions that extend the built-in Exception class. They allow you to create specific error types tailored to your application's needs. Custom exceptions are useful for the following reasons:\n",
        "\n",
        "# 1.Clarity: They make your code more readable and self-explanatory by providing meaningful error messages specific to your application.\n",
        "\n",
        "# 2.Error Handling: They allow you to handle different errors in a more structured way, making it easier to identify and respond to specific issues.\n",
        "\n",
        "# Here's an example of how to create and use a custom exception:\n",
        "\n",
        "class NegativeValueError(Exception):\n",
        "    def __init__(self, value):\n",
        "        super().__init__(f\"Negative values are not allowed: {value}\")\n",
        "        self.value = value\n",
        "\n",
        "def process_positive_number(num):\n",
        "    if num < 0:\n",
        "        raise NegativeValueError(num)\n",
        "    return num\n",
        "\n",
        "try:\n",
        "    result = process_positive_number(-5)\n",
        "except NegativeValueError as e:\n",
        "    print(f\"Error: {e}\")\n",
        "else:\n",
        "    print(f\"Result: {result}\")\n"
      ],
      "metadata": {
        "id": "-UBt_J9_kRgB"
      },
      "execution_count": null,
      "outputs": []
    },
    {
      "cell_type": "markdown",
      "source": [
        "6.create a custom exception class. use this class to handle an exception?"
      ],
      "metadata": {
        "id": "0eFGHhUiknp0"
      }
    },
    {
      "cell_type": "code",
      "source": [
        "# Custom exception class\n",
        "class CustomValueError(Exception):\n",
        "    def __init__(self, value, message=\"Custom value error occurred\"):\n",
        "        self.value = value\n",
        "        self.message = message\n",
        "        super().__init__(self.message)\n",
        "\n",
        "# Function that raises the custom exception\n",
        "def process_custom_value(value):\n",
        "    if value == 42:\n",
        "        raise CustomValueError(value, \"The value cannot be 42\")\n",
        "    return value\n",
        "\n",
        "# Using the custom exception to handle an error\n",
        "try:\n",
        "    user_input = int(input(\"Enter a value: \"))\n",
        "    result = process_custom_value(user_input)\n",
        "    print(f\"Result: {result}\")\n",
        "except CustomValueError as e:\n",
        "    print(f\"Custom Exception: {e}\")\n",
        "except ValueError as ve:\n",
        "    print(f\"ValueError: {ve}\")\n",
        "else:\n",
        "    print(\"No exceptions were raised.\")\n"
      ],
      "metadata": {
        "id": "Vpdw2tuUk8Ku"
      },
      "execution_count": null,
      "outputs": []
    }
  ]
}