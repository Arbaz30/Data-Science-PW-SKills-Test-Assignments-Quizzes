{
  "nbformat": 4,
  "nbformat_minor": 0,
  "metadata": {
    "colab": {
      "provenance": []
    },
    "kernelspec": {
      "name": "python3",
      "display_name": "Python 3"
    },
    "language_info": {
      "name": "python"
    }
  },
  "cells": [
    {
      "cell_type": "code",
      "execution_count": null,
      "metadata": {
        "id": "U_BtlFfYiHur"
      },
      "outputs": [],
      "source": []
    },
    {
      "cell_type": "markdown",
      "source": [],
      "metadata": {
        "id": "Un9Lnp6sje9_"
      }
    },
    {
      "cell_type": "code",
      "source": [
        "\"\"\"Function to Open a File: In Python, the `open()` function is used to open a file. It takes two main arguments:\n",
        " the file path and the mode in which you want to open the file.\"\"\"\n",
        "\n",
        "# Modes of Opening a File:\n",
        "\n",
        "# 1. **'r' (Read Mode):** This is the default mode. It allows you to read the file's contents. If the file doesn't exist, it raises a FileNotFoundError.\n",
        "\n",
        "# 2. **'w' (Write Mode):** This mode is used to create a new file or overwrite an existing one. It erases the existing content if the file exists.\n",
        "\n",
        "# 3. **'a' (Append Mode):** This mode is used to open a file for writing, but it appends new data to the end of the file without erasing the existing content. If the file doesn't exist, it creates a new one.\n",
        "\n",
        "# 4. **'x' (Exclusive Creation Mode):** This mode is used to create a new file. If the file already exists, it raises a FileExistsError.\n",
        "\n",
        "# 5. **'b' (Binary Mode):** This mode is used in conjunction with other modes to indicate that the file should be treated as binary, not text. For example, 'rb' for reading a binary file.\n",
        "\n",
        "# 6. **'t' (Text Mode):** This mode is used in conjunction with other modes to indicate that the file should be treated as a text file. It's the default for modes like 'r' and 'w'.\n",
        "\n",
        "# 7. **'+' (Read and Write Mode):** This mode allows both reading and writing. For example, 'r+' lets you read and write to an existing file.\n",
        "\n",
        "\n"
      ],
      "metadata": {
        "colab": {
          "base_uri": "https://localhost:8080/",
          "height": 55
        },
        "id": "Qmn27ud8jfZv",
        "outputId": "7202e3fa-4f37-4179-b506-81c9821d8453"
      },
      "execution_count": 4,
      "outputs": [
        {
          "output_type": "execute_result",
          "data": {
            "text/plain": [
              "'Function to Open a File: In Python, the `open()` function is used to open a file. It takes two main arguments:\\n the file path and the mode in which you want to open the file.'"
            ],
            "application/vnd.google.colaboratory.intrinsic+json": {
              "type": "string"
            }
          },
          "metadata": {},
          "execution_count": 4
        }
      ]
    },
    {
      "cell_type": "markdown",
      "source": [
        "Q2. Why close() function is used? Why is it important to close a file?"
      ],
      "metadata": {
        "id": "WTHb5W74lEEw"
      }
    },
    {
      "cell_type": "code",
      "source": [
        "\n",
        "#  The close() function is used to \"shut the door\" on a file after you've finished working with it in a computer program. Closing a file is important because it:\n",
        "\n",
        "# 1.Frees up computer resources: When you open a file, the computer sets aside resources to handle it. If you don't close the file,\n",
        "# these resources can be wasted, potentially causing your program to slow down or run into problems.\n",
        "\n",
        "# 2.Saves your data: When you write or change data in a file, it's often kept in a temporary place in the computer's memory until it can be safely stored in the file.\n",
        "# Closing the file ensures that this data is actually written to the file, so you don't lose it if your program crashes.\n",
        "\n",
        "# 3.Allows other programs to use the file: Closing a file releases any \"locks\" or restrictions on it, so other programs or\n",
        "#  parts of your program can access the file if needed."
      ],
      "metadata": {
        "id": "jfwt6kMFlE1A"
      },
      "execution_count": null,
      "outputs": []
    },
    {
      "cell_type": "code",
      "source": [],
      "metadata": {
        "id": "5wSiuq_plklB"
      },
      "execution_count": null,
      "outputs": []
    },
    {
      "cell_type": "markdown",
      "source": [
        "Q3. Write a python program to create a text file. Write ‘I want to become a Data Scientist’ in that file. Then\n",
        "close the file. Open this file and read the content of the file."
      ],
      "metadata": {
        "id": "IDHQ0aSjloo2"
      }
    },
    {
      "cell_type": "code",
      "source": [
        "# Create a text file and write content to it\n",
        "file_name = \"data_scientist.txt\"\n",
        "\n",
        "# Open the file in write mode ('w')\n",
        "with open(file_name, 'w') as file:\n",
        "    file.write(\"I want to become a Data Scientist\")\n",
        "\n",
        "# Close the file\n",
        "\n",
        "# Open the file in read mode ('r')\n",
        "with open(file_name, 'r') as file:\n",
        "    # Read and print the content of the file\n",
        "    file_contents = file.read()\n",
        "    print(\"Content of the file:\")\n",
        "    print(file_contents)\n"
      ],
      "metadata": {
        "colab": {
          "base_uri": "https://localhost:8080/"
        },
        "id": "-WUiuqwYllGS",
        "outputId": "c36e23b0-f7d1-4ee5-802d-3d2678a35314"
      },
      "execution_count": 5,
      "outputs": [
        {
          "output_type": "stream",
          "name": "stdout",
          "text": [
            "Content of the file:\n",
            "I want to become a Data Scientist\n"
          ]
        }
      ]
    },
    {
      "cell_type": "markdown",
      "source": [
        "Q4. Explain the following with python code: read(), readline() and readlines()."
      ],
      "metadata": {
        "id": "elhCOdiNlp0Y"
      }
    },
    {
      "cell_type": "code",
      "source": [
        "# In Python, the read(), readline(), and readlines() methods are used to read data from a file.\n",
        "#  Each of these methods provides different ways to access the content of a file.\n",
        "#   Here's an explanation of each method along with Python code examples:\n",
        "\n",
        "\n",
        "\n",
        "# 1. read():\n",
        "\n",
        "# The read() method reads the entire content of a file and returns it as a single string.\n",
        "# If you do not specify the number of characters to read, it will read the entire file.\n",
        "# Here's an example:\n",
        "\n",
        "with open('example.txt', 'r') as file:\n",
        "    content = file.read()\n",
        "    print(content)\n",
        "\n",
        "\n",
        "\n",
        "# 2. readline():\n",
        "\n",
        "# The readline() method reads a single line from the file and returns it as a string.\n",
        "# It reads the file line by line, and you can call it repeatedly to read subsequent lines.\n",
        "# Here's an example:\n",
        "\n",
        "\n",
        "with open('example.txt', 'r') as file:\n",
        "    line1 = file.readline()\n",
        "    line2 = file.readline()\n",
        "    print(\"Line 1:\", line1)\n",
        "    print(\"Line 2:\", line2)\n",
        "\n",
        "\n",
        "#3. readlines():\n",
        "\n",
        "# The readlines() method reads all the lines of a file and returns them as a list of strings.\n",
        "# Each string in the list represents a line from the file.\n",
        "# Here's an example:\n",
        "\n",
        "\n",
        "with open('example.txt', 'r') as file:\n",
        "    lines = file.readlines()\n",
        "    for line in lines:\n",
        "        print(line)\n",
        "\n"
      ],
      "metadata": {
        "id": "-g83acQklyGX"
      },
      "execution_count": 8,
      "outputs": []
    },
    {
      "cell_type": "markdown",
      "source": [
        "Q5. Explain why with statement is used with open(). What is the advantage of using with statement and\n",
        "open() together?"
      ],
      "metadata": {
        "id": "PXyz4Rbxmj9o"
      }
    },
    {
      "cell_type": "code",
      "source": [
        "\n",
        "\n",
        "# The with statement in Python is used in conjunction with the open() function when working with files to create a context within which the file is automatically managed.\n",
        "# This combination of with and open() has several advantages:\n",
        "\n",
        "\n",
        "\n",
        "# 1.Automatic Resource Management: When you use the with statement with open(), Python automatically takes care of opening and closing the file for you.\n",
        "# This ensures that the file is properly closed when you're done with it, even if an exception is raised within the block.\n",
        "#  It helps prevent resource leaks and ensures that the file is closed correctly, avoiding potential issues like data loss or file corruption.\n",
        "\n",
        "\n",
        "# 2.Cleaner and More Readable Code: Using with and open() together makes your code cleaner and more readable.\n",
        "#  It clearly defines the scope in which the file is being used, making it evident where the file is opened and closed\n",
        "#   This improves code maintainability and reduces the chance of accidental resource leaks.\n",
        "\n",
        "\n",
        "# 3.No Need for Explicit File Closing: You don't need to explicitly call the close() method on the file object when you use with.\n",
        "#  The with statement takes care of it for you, reducing the chances of forgetting to close the file, which is a common source of bugs in file-handling code.\n",
        "\n",
        "\n",
        "# 4. Easier Error Handling: When exceptions occur within the with block, Python will still ensure that the file is closed correctly.\n",
        "#  This simplifies error handling because you don't have to include a try...finally block to ensure proper file closure in the event of an exception.\n",
        "\n"
      ],
      "metadata": {
        "id": "RdJQAnAEmxAF"
      },
      "execution_count": null,
      "outputs": []
    },
    {
      "cell_type": "code",
      "source": [],
      "metadata": {
        "id": "C-WhYvBanU5Q"
      },
      "execution_count": null,
      "outputs": []
    },
    {
      "cell_type": "markdown",
      "source": [
        "Q6. Explain the write() and writelines() functions. Give a suitable example."
      ],
      "metadata": {
        "id": "k0TPWMbQnViU"
      }
    },
    {
      "cell_type": "code",
      "source": [
        "# write() function:\n",
        "# The write() function is used to write a single string or a sequence of characters to a file. It takes a single argument,\n",
        "#  which is the string you want to write to the file. If the file does not exist, it will be created. If the file already exists,\n",
        "#   write() will overwrite its content with the new data.\n",
        "\n",
        "# Open a file in write mode\n",
        "with open('example.txt', 'w') as file:\n",
        "    file.write('Hello, world!\\n')\n",
        "    file.write('This is a test.\\n')\n",
        "\n",
        "\n",
        "\n",
        "\n",
        "# 2. writelines() function:\n",
        "# The writelines() function is used to write a list of strings to a file. Each string in the list is written as a separate line in the file.\n",
        "#  Like write(), if the file does not exist, it will be created, and if it already exists, writelines() will overwrite its content.\n",
        "\n",
        "\n",
        "lines = ['Line 1\\n', 'Line 2\\n', 'Line 3\\n']\n",
        "\n",
        "\n",
        "with open('example.txt', 'w') as file:\n",
        "    file.writelines(lines)\n",
        "\n"
      ],
      "metadata": {
        "id": "wMPQkrj-nYC7"
      },
      "execution_count": null,
      "outputs": []
    }
  ]
}