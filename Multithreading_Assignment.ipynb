{
  "nbformat": 4,
  "nbformat_minor": 0,
  "metadata": {
    "colab": {
      "provenance": []
    },
    "kernelspec": {
      "name": "python3",
      "display_name": "Python 3"
    },
    "language_info": {
      "name": "python"
    }
  },
  "cells": [
    {
      "cell_type": "markdown",
      "source": [
        "# 1. What is multithreading in python? hy is it used? Name the module used to handle threads in python"
      ],
      "metadata": {
        "id": "7HwtRYdhosIE"
      }
    },
    {
      "cell_type": "markdown",
      "source": [
        "Multithreading in Python refers to the concurrent execution of multiple threads within a single process. Each thread is a lightweight, independent unit of execution that shares the same memory space as the main program. Multithreading is used to achieve concurrent execution of tasks, allowing a program to perform multiple operations simultaneously. This can lead to improved performance and responsiveness in certain scenarios, particularly when dealing with I/O-bound or parallelizable tasks.\n",
        "\n",
        "In Python, the threading module is commonly used to handle threads. This module provides a high-level interface for creating and managing threads in your Python programs. With threading, you can create and start multiple threads, synchronize their execution, and coordinate their activities as needed."
      ],
      "metadata": {
        "id": "0uPeYr6Oozfw"
      }
    },
    {
      "cell_type": "markdown",
      "source": [
        "# 2. Why threading module used? write the use of the following functions:\n",
        "# -activeCount\n",
        "\n",
        "# -currentThread\n",
        "\n",
        "# -enumerate"
      ],
      "metadata": {
        "id": "1Tetj5VPo7LZ"
      }
    },
    {
      "cell_type": "markdown",
      "source": [
        "\n",
        "\n",
        "1. **`activeCount()`**:\n",
        "   - `threading.activeCount()` returns the number of active Thread objects in the current Python program. It's used to count the total number of threads currently running.\n",
        "\n",
        "2. **`currentThread()`**:\n",
        "   - `threading.currentThread()` returns the current Thread object. This function allows you to access the Thread object representing the thread that is currently executing the code where it's called.\n",
        "\n",
        "3. **`enumerate()`**:\n",
        "   - `threading.enumerate()` returns a list of all Thread objects that are currently alive in the program. It's useful for iterating through and accessing information about each active thread, which can be valuable for monitoring or debugging purposes."
      ],
      "metadata": {
        "id": "xhVCZu91poLq"
      }
    },
    {
      "cell_type": "markdown",
      "source": [
        "# 3. Explain the following functions\n",
        "# -run\n",
        "# -start\n",
        "# -join\n",
        "# -isAlive"
      ],
      "metadata": {
        "id": "R6owlmYOp31P"
      }
    },
    {
      "cell_type": "markdown",
      "source": [
        "\n",
        "\n",
        "1. **`run()`**:\n",
        "   - The `run()` method is not usually called directly by the programmer. Instead, it's meant to be overridden in a subclass of the `Thread` class. When you create a custom thread class by subclassing `Thread`, you can override the `run()` method to specify the code that the thread should execute. This method contains the actual task or functionality that the thread will perform when it's started.\n",
        "\n",
        "2. **`start()`**:\n",
        "   - The `start()` method is used to begin the execution of a thread. When you call `start()` on a `Thread` object, it initiates the execution of the `run()` method in that thread. It creates a new thread of execution and runs the specified code concurrently. The `start()` method is essential for proper thread execution and should be used instead of calling `run()` directly.\n",
        "\n",
        "3. **`join()`**:\n",
        "   - The `join()` method is used to wait for a thread to complete its execution. When you call `join()` on a `Thread` object, the program will block until the thread being joined has finished running. This is useful for ensuring that one thread completes its task before another thread proceeds. It's often used to coordinate the execution of multiple threads.\n",
        "\n",
        "4. **`isAlive()`**:\n",
        "   - The `isAlive()` method is used to check if a thread is currently running or active. It returns `True` if the thread is still executing and has not yet completed, and `False` if the thread has finished its execution. This method allows you to check the status of a thread and determine if it's still running before taking any action based on its completion.\n"
      ],
      "metadata": {
        "id": "pOUk36oOqNoK"
      }
    },
    {
      "cell_type": "markdown",
      "source": [
        "# 4. write a python program to create two threads. Thread one must print the list of squares and thread two must print the list of cubes"
      ],
      "metadata": {
        "id": "UQrlytwlqXxi"
      }
    },
    {
      "cell_type": "code",
      "source": [
        "import threading\n",
        "\n",
        "# Function to print the list of squares\n",
        "def print_squares():\n",
        "    for i in range(1, 6):\n",
        "        print(f\"Square of {i}: {i * i}\")\n",
        "\n",
        "# Function to print the list of cubes\n",
        "def print_cubes():\n",
        "    for i in range(1, 6):\n",
        "        print(f\"Cube of {i}: {i * i * i}\")\n",
        "\n",
        "# Create thread objects\n",
        "thread1 = threading.Thread(target=print_squares)\n",
        "thread2 = threading.Thread(target=print_cubes)\n",
        "\n",
        "# Start both threads\n",
        "thread1.start()\n",
        "thread2.start()\n",
        "\n",
        "# Wait for both threads to finish\n",
        "thread1.join()\n",
        "thread2.join()\n",
        "\n",
        "print(\"Both threads have finished.\")\n"
      ],
      "metadata": {
        "id": "kpd-3e3Fq18i"
      },
      "execution_count": null,
      "outputs": []
    },
    {
      "cell_type": "markdown",
      "source": [
        "# 5. State advantages and disadvantages of multithreading"
      ],
      "metadata": {
        "id": "mPqkcifkq21Q"
      }
    },
    {
      "cell_type": "markdown",
      "source": [
        "\n",
        "**Advantages:**\n",
        "\n",
        "1. **Concurrent Execution:** Multithreading allows multiple tasks to run concurrently, improving the utilization of CPU cores. This can lead to better performance, especially for applications that perform parallelizable tasks.\n",
        "\n",
        "2. **Responsiveness:** Multithreading can enhance the responsiveness of an application, making it more user-friendly. For example, it can prevent a user interface from becoming unresponsive during time-consuming operations.\n",
        "\n",
        "3. **Resource Sharing:** Threads within the same process share the same memory space, making it efficient to share data and resources between threads. This can simplify data sharing and communication in some cases.\n",
        "\n",
        "4. **Modular Design:** Multithreading promotes a more modular and organized design for applications. Complex programs can be broken down into smaller, more manageable threads that handle specific tasks.\n",
        "\n",
        "5. **Efficient I/O Handling:** Multithreading is well-suited for I/O-bound operations, such as reading/writing files or making network requests. It allows one thread to continue working while others are blocked on I/O operations.\n",
        "\n",
        "**Disadvantages:**\n",
        "\n",
        "1. **Complexity:** Multithreaded code can be complex and challenging to write, test, and debug. It introduces synchronization issues like race conditions, deadlocks, and data corruption.\n",
        "\n",
        "2. **Debugging:** Debugging multithreaded code is more challenging due to the non-deterministic nature of threads. Issues can be hard to reproduce consistently.\n",
        "\n",
        "3. **Resource Overhead:** Creating and managing threads can introduce overhead in terms of memory and system resources. Too many threads can lead to resource exhaustion.\n",
        "\n",
        "4. **Potential for Race Conditions:** Race conditions can occur when multiple threads access and modify shared data simultaneously. Proper synchronization mechanisms (e.g., locks) are needed to prevent race conditions, which can be complex to implement correctly.\n",
        "\n",
        "5. **Increased Complexity for Real-Time Systems:** In real-time systems, multithreading can introduce unpredictability, making it challenging to meet strict timing requirements.\n",
        "\n",
        "6. **Global Interpreter Lock (GIL) in CPython:** In the CPython implementation of Python, the Global Interpreter Lock (GIL) can limit the true parallelism of threads, as it prevents multiple threads from executing Python code simultaneously. This can affect the performance of CPU-bound applications.\n"
      ],
      "metadata": {
        "id": "zaMzouldq7Ue"
      }
    },
    {
      "cell_type": "markdown",
      "source": [
        "6. Explain deadlocks and race conditions."
      ],
      "metadata": {
        "id": "KW6noKJXrF0j"
      }
    },
    {
      "cell_type": "markdown",
      "source": [
        "**Deadlock:**\n",
        "A deadlock is a situation in concurrent programming where two or more threads or processes are unable to proceed because each is waiting for the other to release a resource. In a deadlock, the involved threads are effectively stuck, and no progress can be made.\n",
        "\n",
        "Key characteristics of a deadlock:\n",
        "\n",
        "1. **Mutual Exclusion:** Threads are contending for exclusive access to a resource, such as a mutex or a file, which only one thread can use at a time.\n",
        "\n",
        "2. **Hold and Wait:** A thread holds one resource and is waiting to acquire another. Simultaneously, another thread is holding the resource needed by the first thread.\n",
        "\n",
        "3. **No Preemption:** Resources cannot be forcibly taken away from a thread. They must be released voluntarily.\n",
        "\n",
        "4. **Circular Wait:** There is a circular chain of threads, with each waiting for a resource held by the next one. This circular chain creates a situation where no thread can make progress.\n",
        "\n",
        "Deadlocks can be challenging to detect and resolve. Proper synchronization mechanisms, such as locking resources in a consistent order and using timeouts, are essential to prevent and address deadlocks.\n",
        "\n",
        "**Race Condition:**\n",
        "A race condition occurs in concurrent programming when the behavior of a program depends on the relative timing of events, typically when multiple threads or processes access shared resources concurrently, and the final outcome is unpredictable.\n",
        "\n",
        "Key characteristics of a race condition:\n",
        "\n",
        "1. **Shared Resources:** Multiple threads or processes access shared resources, such as variables, without proper synchronization.\n",
        "\n",
        "2. **Unpredictability:** The order in which threads access resources may vary, leading to different outcomes depending on timing.\n",
        "\n",
        "3. **Non-Determinism:** Race conditions result in non-deterministic behavior, making it difficult to reproduce and debug issues.\n",
        "\n",
        "4. **Data Corruption:** In a race condition, shared data may be read, modified, and written by multiple threads simultaneously, potentially leading to data corruption and unexpected program behavior.\n"
      ],
      "metadata": {
        "id": "yHWaHmKmrIho"
      }
    }
  ]
}