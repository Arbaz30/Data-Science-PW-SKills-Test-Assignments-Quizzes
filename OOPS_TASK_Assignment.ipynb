{
  "nbformat": 4,
  "nbformat_minor": 0,
  "metadata": {
    "colab": {
      "provenance": []
    },
    "kernelspec": {
      "name": "python3",
      "display_name": "Python 3"
    },
    "language_info": {
      "name": "python"
    }
  },
  "cells": [
    {
      "cell_type": "markdown",
      "source": [
        "\n",
        "Q1, Create a vehicle class with an init method having instance variables as name_of_vehicle, max_speed  and average_of_vehicle.  "
      ],
      "metadata": {
        "id": "NtmM8rHKfzI7"
      }
    },
    {
      "cell_type": "code",
      "execution_count": 1,
      "metadata": {
        "colab": {
          "base_uri": "https://localhost:8080/"
        },
        "id": "662dG6MpfdMQ",
        "outputId": "9d80fe78-34a9-4a5c-e4a4-39c1acbe22e7"
      },
      "outputs": [
        {
          "output_type": "stream",
          "name": "stdout",
          "text": [
            "Name: Car, Max Speed: 200, Average: 30\n"
          ]
        }
      ],
      "source": [
        "class Vehicle:\n",
        "    def __init__(self, name_of_vehicle, max_speed, average_of_vehicle):\n",
        "        self.name_of_vehicle = name_of_vehicle\n",
        "        self.max_speed = max_speed\n",
        "        self.average_of_vehicle = average_of_vehicle\n",
        "\n",
        "    def __str__(self):\n",
        "        return f\"Name: {self.name_of_vehicle}, Max Speed: {self.max_speed}, Average: {self.average_of_vehicle}\"\n",
        "\n",
        "# Example usage:\n",
        "car = Vehicle(\"Car\", 200, 30)\n",
        "print(car)\n"
      ]
    },
    {
      "cell_type": "code",
      "source": [],
      "metadata": {
        "id": "f_fIygKDf2zy"
      },
      "execution_count": null,
      "outputs": []
    },
    {
      "cell_type": "markdown",
      "source": [
        "Q2.  Create a child class car from the vehicle class created in Que 1, which will inherit the vehicle class.  Create a method named seating_capacity which takes capacity as an argument and returns the name of  the vehicle and its seating capacity."
      ],
      "metadata": {
        "id": "XF5s1dKbf-sI"
      }
    },
    {
      "cell_type": "code",
      "source": [
        "class Vehicle:\n",
        "    def __init__(self, name_of_vehicle, max_speed, average_of_vehicle):\n",
        "        self.name_of_vehicle = name_of_vehicle\n",
        "        self.max_speed = max_speed\n",
        "        self.average_of_vehicle = average_of_vehicle\n",
        "\n",
        "    def __str__(self):\n",
        "        return f\"Name: {self.name_of_vehicle}, Max Speed: {self.max_speed}, Average: {self.average_of_vehicle}\"\n",
        "\n",
        "class Car(Vehicle):\n",
        "    def __init__(self, name_of_vehicle, max_speed, average_of_vehicle):\n",
        "        super().__init__(name_of_vehicle, max_speed, average_of_vehicle)\n",
        "\n",
        "    def seating_capacity(self, capacity):\n",
        "        return f\"{self.name_of_vehicle} has a seating capacity of {capacity} people.\"\n",
        "\n",
        "# Example usage:\n",
        "car = Car(\"Sedan\", 200, 30)\n",
        "print(car)\n",
        "print(car.seating_capacity(5))\n"
      ],
      "metadata": {
        "colab": {
          "base_uri": "https://localhost:8080/"
        },
        "id": "LMss1Z71f_va",
        "outputId": "668292af-2d85-4bb3-9304-3449501dc5bd"
      },
      "execution_count": 2,
      "outputs": [
        {
          "output_type": "stream",
          "name": "stdout",
          "text": [
            "Name: Sedan, Max Speed: 200, Average: 30\n",
            "Sedan has a seating capacity of 5 people.\n"
          ]
        }
      ]
    },
    {
      "cell_type": "markdown",
      "source": [
        "Q3. What is multiple inheritance? Write a python code to demonstrate multiple inheritance."
      ],
      "metadata": {
        "id": "ycKq0JklgF8M"
      }
    },
    {
      "cell_type": "code",
      "source": [
        "\"\"\"Multiple inheritance is a feature in object-oriented programming where a class can inherit attributes and methods\n",
        " from more than one parent class. In Python, you can create a class that inherits from multiple parent classes,\n",
        "  allowing the child class to inherit properties and behaviors from all of its parent classes.\n",
        "  This allows for code reuse and can be a powerful tool when used appropriately.\"\"\"\n",
        "\n",
        "\n",
        "  # Parent class 1\n",
        "class Vehicle:\n",
        "    def __init__(self, name, max_speed):\n",
        "        self.name = name\n",
        "        self.max_speed = max_speed\n",
        "\n",
        "    def start(self):\n",
        "        print(f\"{self.name} is starting.\")\n",
        "\n",
        "# Parent class 2\n",
        "class Engine:\n",
        "    def __init__(self, fuel_type):\n",
        "        self.fuel_type = fuel_type\n",
        "\n",
        "    def start_engine(self):\n",
        "        print(f\"Engine started. Fuel type: {self.fuel_type}\")\n",
        "\n",
        "# Child class inheriting from both Vehicle and Engine\n",
        "class Car(Vehicle, Engine):\n",
        "    def __init__(self, name, max_speed, fuel_type):\n",
        "        # Call constructors of both parent classes\n",
        "        Vehicle.__init__(self, name, max_speed)\n",
        "        Engine.__init__(self, fuel_type)\n",
        "\n",
        "    def drive(self):\n",
        "        print(f\"{self.name} is moving at a max speed of {self.max_speed} mph.\")\n",
        "\n",
        "# Create a Car object\n",
        "my_car = Car(\"Sedan\", 120, \"Gasoline\")\n",
        "\n",
        "# Access methods from both parent classes\n",
        "my_car.start()\n",
        "my_car.start_engine()\n",
        "my_car.drive()\n"
      ],
      "metadata": {
        "colab": {
          "base_uri": "https://localhost:8080/"
        },
        "id": "rvYixAD5gGtS",
        "outputId": "b1fe4c54-2df8-4bf1-9c97-2552733dc723"
      },
      "execution_count": 5,
      "outputs": [
        {
          "output_type": "stream",
          "name": "stdout",
          "text": [
            "Sedan is starting.\n",
            "Engine started. Fuel type: Gasoline\n",
            "Sedan is moving at a max speed of 120 mph.\n"
          ]
        }
      ]
    },
    {
      "cell_type": "code",
      "source": [],
      "metadata": {
        "id": "80Zjeb6dgc2-"
      },
      "execution_count": null,
      "outputs": []
    },
    {
      "cell_type": "markdown",
      "source": [
        "Q4. What are getter and setter in python? Create a class and create a getter and a setter method in this  class."
      ],
      "metadata": {
        "id": "tJYHx1-8gdX6"
      }
    },
    {
      "cell_type": "code",
      "source": [
        "\"\"\"\n",
        "In Python, getters and setters are methods used to access and modify the attributes (instance variables) of a class.\n",
        "They provide control over how attributes are accessed and modified, allowing you to implement validation, encapsulation,\n",
        "or additional logic when working with class attributes. Getters are used to retrieve the value of an attribute,\n",
        " while setters are used to modify the value of an attribute.\"\"\"\n",
        "\n",
        "class Student:\n",
        "    def __init__(self, name, age):\n",
        "        self._name = name  # Private attribute (note the single underscore)\n",
        "        self._age = age    # Private attribute (note the single underscore)\n",
        "\n",
        "    # Getter method for 'name'\n",
        "    def get_name(self):\n",
        "        return self._name\n",
        "\n",
        "    # Setter method for 'name'\n",
        "    def set_name(self, name):\n",
        "        if isinstance(name, str):\n",
        "            self._name = name\n",
        "        else:\n",
        "            print(\"Error: Name must be a string.\")\n",
        "\n",
        "    # Getter method for 'age'\n",
        "    def get_age(self):\n",
        "        return self._age\n",
        "\n",
        "    # Setter method for 'age'\n",
        "    def set_age(self, age):\n",
        "        if isinstance(age, int) and age >= 0:\n",
        "            self._age = age\n",
        "        else:\n",
        "            print(\"Error: Age must be a non-negative integer.\")\n",
        "\n",
        "# Create a Student object\n",
        "student = Student(\"Alice\", 20)\n",
        "\n",
        "# Access attributes using getter methods\n",
        "print(\"Name:\", student.get_name())\n",
        "print(\"Age:\", student.get_age())\n",
        "\n",
        "# Modify attributes using setter methods\n",
        "student.set_name(\"Bob\")\n",
        "student.set_age(25)\n",
        "\n",
        "# Access modified attributes\n",
        "print(\"Modified Name:\", student.get_name())\n",
        "print(\"Modified Age:\", student.get_age())\n",
        "\n",
        "# Attempt to set invalid values\n",
        "student.set_name(123)  # This will print an error message\n",
        "student.set_age(-5)   # This will print an error message\n",
        "\n",
        "\n",
        "# Modify attributes using setter methods\n",
        "student.set_name(\"Bob\")\n",
        "student.set_age(25)\n",
        "\n",
        "# Access modified attributes\n",
        "print(\"Modified Name:\", student.get_name())\n",
        "print(\"Modified Age:\", student.get_age())\n",
        "\n",
        "# Attempt to set invalid values\n",
        "student.set_name(123)  # This will print an error message\n",
        "student.set_age(-5)   # This will print an error message\n"
      ],
      "metadata": {
        "colab": {
          "base_uri": "https://localhost:8080/"
        },
        "id": "SNC2VyXTgPUW",
        "outputId": "7f7b6797-7603-45bc-c62e-5ad58699e584"
      },
      "execution_count": 7,
      "outputs": [
        {
          "output_type": "stream",
          "name": "stdout",
          "text": [
            "Name: Alice\n",
            "Age: 20\n",
            "Modified Name: Bob\n",
            "Modified Age: 25\n",
            "Error: Name must be a string.\n",
            "Error: Age must be a non-negative integer.\n",
            "Modified Name: Bob\n",
            "Modified Age: 25\n",
            "Error: Name must be a string.\n",
            "Error: Age must be a non-negative integer.\n"
          ]
        }
      ]
    },
    {
      "cell_type": "markdown",
      "source": [
        "Q5.What is method overriding in python? Write a python code to demonstrate method overriding."
      ],
      "metadata": {
        "id": "z7ItA93zg9fU"
      }
    },
    {
      "cell_type": "code",
      "source": [
        "\"\"\"Method overriding is a feature in object-oriented programming where a subclass provides a specific implementation for a method that is already defined in its superclass.\n",
        " This allows the subclass to customize or extend the behavior of the inherited method.\n",
        "  In Python, method overriding is achieved by defining a method in the subclass with the same name and signature as the method in the superclass.\"\"\"\n",
        "\n",
        "\n",
        "class Animal:\n",
        "    def speak(self):\n",
        "        print(\"Animal speaks\")\n",
        "\n",
        "class Dog(Animal):\n",
        "    def speak(self):\n",
        "        print(\"Dog barks\")\n",
        "\n",
        "class Cat(Animal):\n",
        "    def speak(self):\n",
        "        print(\"Cat meows\")\n",
        "\n",
        "\n",
        "dog = Dog()\n",
        "cat = Cat()\n",
        "\n",
        "\n",
        "dog.speak()\n",
        "cat.speak()\n"
      ],
      "metadata": {
        "colab": {
          "base_uri": "https://localhost:8080/"
        },
        "id": "KezhtbPjg-RI",
        "outputId": "accce6f2-38cc-4bae-e741-d92af378ce33"
      },
      "execution_count": 8,
      "outputs": [
        {
          "output_type": "stream",
          "name": "stdout",
          "text": [
            "Dog barks\n",
            "Cat meows\n"
          ]
        }
      ]
    }
  ]
}